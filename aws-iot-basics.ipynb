{
 "cells": [
  {
   "cell_type": "markdown",
   "metadata": {},
   "source": [
    "# AWS IoT Authentication and Authorization\n"
   ]
  },
  {
   "cell_type": "code",
   "execution_count": 1,
   "metadata": {},
   "outputs": [
    {
     "data": {
      "text/plain": [
       "'/Users/faermanj'"
      ]
     },
     "execution_count": 1,
     "metadata": {},
     "output_type": "execute_result"
    }
   ],
   "source": [
    "%store -r home\n",
    "home"
   ]
  },
  {
   "cell_type": "markdown",
   "metadata": {},
   "source": [
    "Create a Thing, a unique name helps to make references more clear.\n",
    "Any computer can be a thing, lets use this notebook instance as our thing to begin."
   ]
  },
  {
   "cell_type": "code",
   "execution_count": 2,
   "metadata": {},
   "outputs": [
    {
     "data": {
      "text/plain": [
       "'091714'"
      ]
     },
     "execution_count": 2,
     "metadata": {},
     "output_type": "execute_result"
    }
   ],
   "source": [
    "%store -r HM\n",
    "HM"
   ]
  },
  {
   "cell_type": "code",
   "execution_count": 3,
   "metadata": {},
   "outputs": [
    {
     "data": {
      "text/plain": [
       "'NotebookThing091714'"
      ]
     },
     "execution_count": 3,
     "metadata": {},
     "output_type": "execute_result"
    }
   ],
   "source": [
    "thing_name = \"NotebookThing{}\".format(HM)\n",
    "thing_name"
   ]
  },
  {
   "cell_type": "code",
   "execution_count": 4,
   "metadata": {},
   "outputs": [
    {
     "name": "stdout",
     "output_type": "stream",
     "text": [
      "{\r\n",
      "    \"thingName\": \"NotebookThing091714\",\r\n",
      "    \"thingArn\": \"arn:aws:iot:us-east-1:030555009967:thing/NotebookThing091714\",\r\n",
      "    \"thingId\": \"9e74d107-d4ce-4032-9a89-28f91c2a5781\"\r\n",
      "}\r\n"
     ]
    }
   ],
   "source": [
    "! aws iot create-thing --thing-name {thing_name}"
   ]
  },
  {
   "cell_type": "markdown",
   "metadata": {},
   "source": [
    "Create a certificate and keys to authenticate your thing. "
   ]
  },
  {
   "cell_type": "code",
   "execution_count": 5,
   "metadata": {},
   "outputs": [
    {
     "name": "stdout",
     "output_type": "stream",
     "text": [
      "Stored 'certificate_file' (str)\n",
      "Stored 'public_key' (str)\n",
      "Stored 'private_key' (str)\n"
     ]
    }
   ],
   "source": [
    "! mkdir -p \"{home}/aws_iot\"\n",
    "\n",
    "certificate_file = \"{}/aws_iot/certificate{}.pem\".format(home,HM)\n",
    "public_key = \"{}/aws_iot/public-key{}.pem\".format(home,HM)\n",
    "private_key = \"{}/aws_iot/private-key{}.pem\".format(home,HM)\n",
    "\n",
    "%store certificate_file\n",
    "%store public_key\n",
    "%store private_key"
   ]
  },
  {
   "cell_type": "code",
   "execution_count": 6,
   "metadata": {},
   "outputs": [
    {
     "data": {
      "text/plain": [
       "'arn:aws:iot:us-east-1:030555009967:cert/e88eac09e8e2935d45232632c105ffedc11b654468350e818f9aecd98dd8f6b3'"
      ]
     },
     "execution_count": 6,
     "metadata": {},
     "output_type": "execute_result"
    }
   ],
   "source": [
    "certificateArn = ! aws iot create-keys-and-certificate \\\n",
    "  --set-as-active \\\n",
    "  --certificate-pem-outfile {certificate_file} \\\n",
    "  --public-key-outfile {public_key} \\\n",
    "  --private-key-outfile {private_key} \\\n",
    "  --query certificateArn \\\n",
    "  --output text\n",
    "certificate_arn = certificateArn.s\n",
    "certificate_arn"
   ]
  },
  {
   "cell_type": "markdown",
   "metadata": {},
   "source": [
    "Download the root Certification Authority used by AWS IoT\n"
   ]
  },
  {
   "cell_type": "code",
   "execution_count": 7,
   "metadata": {},
   "outputs": [
    {
     "name": "stdout",
     "output_type": "stream",
     "text": [
      "Stored 'ca_file' (str)\n",
      "--2018-05-21 09:19:18--  https://www.symantec.com/content/en/us/enterprise/verisign/roots/VeriSign-Class%203-Public-Primary-Certification-Authority-G5.pem\n",
      "Resolving www.symantec.com (www.symantec.com)... 23.38.221.149, 2a02:26f0:71:491::145b, 2a02:26f0:71:495::145b\n",
      "Connecting to www.symantec.com (www.symantec.com)|23.38.221.149|:443... connected.\n",
      "HTTP request sent, awaiting response... 200 OK\n",
      "Length: 1758 (1.7K) [text/plain]\n",
      "Saving to: ‘/Users/faermanj/aws_iot/ca091714.pem’\n",
      "\n",
      "/Users/faermanj/aws 100%[===================>]   1.72K  --.-KB/s    in 0s      \n",
      "\n",
      "2018-05-21 09:19:19 (83.8 MB/s) - ‘/Users/faermanj/aws_iot/ca091714.pem’ saved [1758/1758]\n",
      "\n"
     ]
    }
   ],
   "source": [
    "ca_file = \"{}/aws_iot/ca{}.pem\".format(home,HM)\n",
    "%store ca_file\n",
    "! wget https://www.symantec.com/content/en/us/enterprise/verisign/roots/VeriSign-Class%203-Public-Primary-Certification-Authority-G5.pem -O {ca_file}"
   ]
  },
  {
   "cell_type": "markdown",
   "metadata": {},
   "source": [
    "Double check that you have the 4 files required for TLS mutual authentication used by AWS IoT\n",
    "1. Private Key\n",
    "1. Public Key\n",
    "1. Certificate\n",
    "1. Root CA"
   ]
  },
  {
   "cell_type": "code",
   "execution_count": 8,
   "metadata": {},
   "outputs": [
    {
     "name": "stdout",
     "output_type": "stream",
     "text": [
      "Private Key /Users/faermanj/aws_iot/private-key091714.pem found\n",
      "Public Key /Users/faermanj/aws_iot/public-key091714.pem found\n",
      "Certificate /Users/faermanj/aws_iot/certificate091714.pem found\n",
      "Certification Authority /Users/faermanj/aws_iot/ca091714.pem found"
     ]
    }
   ],
   "source": [
    "! printf \"Private Key {private_key} \" && [ -f {private_key} ] && printf \"found\" || printf \"not found\"\n",
    "! printf \"\\nPublic Key {public_key} \" && [ -f {public_key} ] && printf \"found\" || printf \"not found\"\n",
    "! printf \"\\nCertificate {certificate_file} \" && [ -f {certificate_file} ] && printf \"found\" || printf \"not found\"\n",
    "! printf \"\\nCertification Authority {ca_file} \" && [ -f {ca_file} ] && printf \"found\" || printf \"not found\""
   ]
  },
  {
   "cell_type": "markdown",
   "metadata": {},
   "source": [
    "Create an IAM authorization policy stating what is going to be allowed."
   ]
  },
  {
   "cell_type": "code",
   "execution_count": 9,
   "metadata": {},
   "outputs": [
    {
     "data": {
      "text/plain": [
       "'{\\n  \"Version\": \"2012-10-17\",\\n  \"Statement\": [{\\n    \"Effect\": \"Allow\",\\n    \"Action\": \"iot:*\",\\n    \"Resource\": \"*\"}]\\n}'"
      ]
     },
     "execution_count": 9,
     "metadata": {},
     "output_type": "execute_result"
    }
   ],
   "source": [
    "#TODO: Use a more restrictive policy\n",
    "policy_document = '''{\n",
    "  \"Version\": \"2012-10-17\",\n",
    "  \"Statement\": [{\n",
    "    \"Effect\": \"Allow\",\n",
    "    \"Action\": \"iot:*\",\n",
    "    \"Resource\": \"*\"}]\n",
    "}'''\n",
    "policy_document"
   ]
  },
  {
   "cell_type": "code",
   "execution_count": 10,
   "metadata": {},
   "outputs": [
    {
     "data": {
      "text/plain": [
       "'arn:aws:iot:us-east-1:030555009967:policy/NotebooksPolicy091714'"
      ]
     },
     "execution_count": 10,
     "metadata": {},
     "output_type": "execute_result"
    }
   ],
   "source": [
    "policy_name = \"NotebooksPolicy{}\".format(HM)\n",
    "policyArn = ! aws iot create-policy \\\n",
    "    --policy-name {policy_name} \\\n",
    "    --policy-document '{policy_document}' \\\n",
    "    --query policyArn \\\n",
    "    --output text\n",
    "policyArn.s"
   ]
  },
  {
   "cell_type": "markdown",
   "metadata": {},
   "source": [
    "Attach certificate to thing and policy"
   ]
  },
  {
   "cell_type": "code",
   "execution_count": 11,
   "metadata": {
    "collapsed": true
   },
   "outputs": [],
   "source": [
    "! aws iot attach-policy \\\n",
    "    --policy-name {policy_name} \\\n",
    "    --target {certificate_arn}"
   ]
  },
  {
   "cell_type": "code",
   "execution_count": 12,
   "metadata": {
    "collapsed": true
   },
   "outputs": [],
   "source": [
    "! aws iot attach-thing-principal \\\n",
    "  --thing-name {thing_name} \\\n",
    "  --principal {certificate_arn}"
   ]
  },
  {
   "cell_type": "markdown",
   "metadata": {},
   "source": [
    "# Connecting to AWS IoT"
   ]
  },
  {
   "cell_type": "markdown",
   "metadata": {},
   "source": [
    "AWS IoT provides account-specific endpoints for your things to connect:"
   ]
  },
  {
   "cell_type": "code",
   "execution_count": 13,
   "metadata": {},
   "outputs": [
    {
     "name": "stdout",
     "output_type": "stream",
     "text": [
      "Stored 'endpoint_address' (str)\n"
     ]
    },
    {
     "data": {
      "text/plain": [
       "'a3p88ooj9y6ruv.iot.us-east-1.amazonaws.com'"
      ]
     },
     "execution_count": 13,
     "metadata": {},
     "output_type": "execute_result"
    }
   ],
   "source": [
    "endpoint_address = !aws iot describe-endpoint --query endpointAddress --output=text\n",
    "endpoint_address = endpoint_address.s\n",
    "%store endpoint_address\n",
    "endpoint_address"
   ]
  },
  {
   "cell_type": "markdown",
   "metadata": {
    "collapsed": true
   },
   "source": [
    "Ready to go! Create your MQTT client instance:"
   ]
  },
  {
   "cell_type": "code",
   "execution_count": 14,
   "metadata": {},
   "outputs": [
    {
     "data": {
      "text/plain": [
       "<AWSIoTPythonSDK.MQTTLib.AWSIoTMQTTClient at 0x10e8f6eb8>"
      ]
     },
     "execution_count": 14,
     "metadata": {},
     "output_type": "execute_result"
    }
   ],
   "source": [
    "from AWSIoTPythonSDK.MQTTLib import AWSIoTMQTTClient\n",
    "\n",
    "client_id=\"NotebookCient{}\".format(HM)\n",
    "mqtt = AWSIoTMQTTClient(client_id)\n",
    "mqtt.configureEndpoint(endpoint_address, 8883)\n",
    "mqtt.configureCredentials(ca_file, private_key, certificate_file)\n",
    "mqtt.configureConnectDisconnectTimeout(10)\n",
    "mqtt"
   ]
  },
  {
   "cell_type": "markdown",
   "metadata": {},
   "source": [
    "# Receiving and Sending Messages"
   ]
  },
  {
   "cell_type": "markdown",
   "metadata": {},
   "source": [
    "Connect to the service to send and receive messages:"
   ]
  },
  {
   "cell_type": "code",
   "execution_count": 15,
   "metadata": {},
   "outputs": [
    {
     "data": {
      "text/plain": [
       "True"
      ]
     },
     "execution_count": 15,
     "metadata": {},
     "output_type": "execute_result"
    }
   ],
   "source": [
    "mqtt.connect()"
   ]
  },
  {
   "cell_type": "markdown",
   "metadata": {},
   "source": [
    "Subscribe to a topic:"
   ]
  },
  {
   "cell_type": "code",
   "execution_count": 16,
   "metadata": {},
   "outputs": [
    {
     "name": "stdout",
     "output_type": "stream",
     "text": [
      "Stored 'topic_name' (str)\n"
     ]
    },
    {
     "data": {
      "text/plain": [
       "True"
      ]
     },
     "execution_count": 16,
     "metadata": {},
     "output_type": "execute_result"
    }
   ],
   "source": [
    "topic_name =\"notebook-topic\"\n",
    "%store topic_name\n",
    "subscribe_qos = 1\n",
    "def custom_callback(client, userdata, message):\n",
    "    print(\"\\nReceived a new message: \\n\")\n",
    "    print(message.payload.decode(\"utf-8\") )\n",
    "    print(\"\\n--------------\\n\")\n",
    "    \n",
    "mqtt.subscribe(topic_name, subscribe_qos, custom_callback)"
   ]
  },
  {
   "cell_type": "markdown",
   "metadata": {},
   "source": [
    "Publish to a topic:"
   ]
  },
  {
   "cell_type": "code",
   "execution_count": 17,
   "metadata": {},
   "outputs": [
    {
     "name": "stdout",
     "output_type": "stream",
     "text": [
      "Stored 'payloads' (list)\n",
      "Stored 'payload' (str)\n"
     ]
    },
    {
     "data": {
      "text/plain": [
       "'{\"id\": \"6de5b330-92a7-4ec5-aaba-50cccfb5841b\", \"name\": \"Amy Pond\", \"sistolic\": 135, \"diastolic\": 95, \"time_stamp\": 1526887235209}'"
      ]
     },
     "execution_count": 17,
     "metadata": {},
     "output_type": "execute_result"
    }
   ],
   "source": [
    "import uuid\n",
    "import json\n",
    "import datetime \n",
    "import random\n",
    "import time\n",
    "def genPayload():\n",
    "    names = [\"Sarah Jane\", \"Rory Williams\", \"Amy Pond\", \"Jack Harkness\", \"Clara Oswald\", \"Martha Jones\", \"Rose Tyler\"] \n",
    "    name = random.choice(names)\n",
    "    id = str(uuid.uuid4())\n",
    "    now = int(time.time()*1000)\n",
    "    noise = round(40 * random.random());\n",
    "    data = {\n",
    "        \"id\" : id ,\n",
    "        \"name\" : name,\n",
    "        \"sistolic\" : 110 + noise,\n",
    "        \"diastolic\" : 70 + noise,\n",
    "        \"time_stamp\" : now\n",
    "    }\n",
    "    payload = json.dumps(data)\n",
    "    return payload\n",
    "payloads = []\n",
    "for x in range(100):\n",
    "    payloads.append(genPayload())\n",
    "%store payloads\n",
    "payload = random.choice(payloads)\n",
    "%store payload\n",
    "payload"
   ]
  },
  {
   "cell_type": "code",
   "execution_count": 19,
   "metadata": {},
   "outputs": [
    {
     "data": {
      "text/plain": [
       "True"
      ]
     },
     "execution_count": 19,
     "metadata": {},
     "output_type": "execute_result"
    },
    {
     "name": "stdout",
     "output_type": "stream",
     "text": [
      "\n",
      "Received a new message: \n",
      "\n",
      "{\"id\": \"6de5b330-92a7-4ec5-aaba-50cccfb5841b\", \"name\": \"Amy Pond\", \"sistolic\": 135, \"diastolic\": 95, \"time_stamp\": 1526887235209}\n",
      "\n",
      "--------------\n",
      "\n"
     ]
    }
   ],
   "source": [
    "publish_qos = 0\n",
    "mqtt.publish(topic_name, payload , publish_qos)"
   ]
  },
  {
   "cell_type": "markdown",
   "metadata": {},
   "source": [
    "The subscribe_qos and publish_qos arguments refer to the quality of service parameter of the MQTT protocol. Selecting the QoS level is a tradeoff between delivery guarantee and performance, see the following resources for more infomation:\n",
    "\n",
    "https://www.hivemq.com/blog/mqtt-essentials-part-6-mqtt-quality-of-service-levels\n",
    "\n",
    "https://docs.aws.amazon.com//iot/latest/developerguide/protocols.html"
   ]
  },
  {
   "cell_type": "markdown",
   "metadata": {
    "collapsed": true
   },
   "source": [
    "All working fine, done for now, disconnect."
   ]
  },
  {
   "cell_type": "code",
   "execution_count": 20,
   "metadata": {},
   "outputs": [
    {
     "data": {
      "text/plain": [
       "True"
      ]
     },
     "execution_count": 20,
     "metadata": {},
     "output_type": "execute_result"
    }
   ],
   "source": [
    "mqtt.disconnect()"
   ]
  },
  {
   "cell_type": "markdown",
   "metadata": {},
   "source": [
    "Now we don't want to loose this data, right?\n",
    "Let's proceed to the [Storing Telemetry Data](aws-iot-storing-telemetry.ipynb) notebook right now!"
   ]
  }
 ],
 "metadata": {
  "kernelspec": {
   "display_name": "Python 3",
   "language": "python",
   "name": "python3"
  },
  "language_info": {
   "codemirror_mode": {
    "name": "ipython",
    "version": 3
   },
   "file_extension": ".py",
   "mimetype": "text/x-python",
   "name": "python",
   "nbconvert_exporter": "python",
   "pygments_lexer": "ipython3",
   "version": "3.6.1"
  }
 },
 "nbformat": 4,
 "nbformat_minor": 2
}
