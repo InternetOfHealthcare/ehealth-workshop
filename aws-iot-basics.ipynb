{
 "cells": [
  {
   "cell_type": "markdown",
   "metadata": {},
   "source": [
    "# AWS IoT Connectivity and Security Basics\n"
   ]
  },
  {
   "cell_type": "markdown",
   "metadata": {},
   "source": [
    "Recover variables from previous notebooks:"
   ]
  },
  {
   "cell_type": "code",
   "execution_count": null,
   "metadata": {},
   "outputs": [],
   "source": [
    "%store -r home\n",
    "print(home)\n",
    "%store -r unique\n",
    "print(unique)"
   ]
  },
  {
   "cell_type": "markdown",
   "metadata": {},
   "source": [
    "To start the workshop we are going to create a Thing inside AWS IoT. A Thing should represent any phisycal thing in world: button, a raspberry pi, a lamp or even your own laptop can be a thing. All a thing need is a name, let's use that unique identifier for that."
   ]
  },
  {
   "cell_type": "code",
   "execution_count": null,
   "metadata": {},
   "outputs": [],
   "source": [
    "thing_name = \"bp_thing_{}\".format(unique)\n",
    "%store thing_name\n",
    "thing_name"
   ]
  },
  {
   "cell_type": "code",
   "execution_count": null,
   "metadata": {},
   "outputs": [],
   "source": [
    "! aws iot create-thing --thing-name {thing_name}"
   ]
  },
  {
   "cell_type": "markdown",
   "metadata": {},
   "source": [
    "# Mutual Authentication\n"
   ]
  },
  {
   "cell_type": "markdown",
   "metadata": {},
   "source": [
    "Create a certificate and keys to authenticate your thing. "
   ]
  },
  {
   "cell_type": "code",
   "execution_count": null,
   "metadata": {},
   "outputs": [],
   "source": [
    "! mkdir -p \"{home}/aws_iot\"\n",
    "\n",
    "certificate_file = \"{}/aws_iot/certificate{}.pem\".format(home,unique)\n",
    "public_key = \"{}/aws_iot/public-key{}.pem\".format(home,unique)\n",
    "private_key = \"{}/aws_iot/private-key{}.pem\".format(home,unique)\n",
    "\n",
    "%store certificate_file\n",
    "%store public_key\n",
    "%store private_key"
   ]
  },
  {
   "cell_type": "code",
   "execution_count": null,
   "metadata": {},
   "outputs": [],
   "source": [
    "certificateArn = ! aws iot create-keys-and-certificate \\\n",
    "  --set-as-active \\\n",
    "  --certificate-pem-outfile {certificate_file} \\\n",
    "  --public-key-outfile {public_key} \\\n",
    "  --private-key-outfile {private_key} \\\n",
    "  --query certificateArn \\\n",
    "  --output text\n",
    "certificate_arn = certificateArn.s\n",
    "certificate_arn"
   ]
  },
  {
   "cell_type": "markdown",
   "metadata": {},
   "source": [
    "Download the root Certification Authority used by AWS IoT\n"
   ]
  },
  {
   "cell_type": "code",
   "execution_count": null,
   "metadata": {},
   "outputs": [],
   "source": [
    "ca_file = \"{}/aws_iot/ca{}.pem\".format(home,unique)\n",
    "%store ca_file\n",
    "! wget https://www.symantec.com/content/en/us/enterprise/verisign/roots/VeriSign-Class%203-Public-Primary-Certification-Authority-G5.pem -O {ca_file}"
   ]
  },
  {
   "cell_type": "markdown",
   "metadata": {},
   "source": [
    "Double check that you have the 4 files required for TLS mutual authentication used by AWS IoT\n",
    "1. Private Key\n",
    "1. Public Key\n",
    "1. Certificate\n",
    "1. Root CA"
   ]
  },
  {
   "cell_type": "code",
   "execution_count": null,
   "metadata": {},
   "outputs": [],
   "source": [
    "! printf \"Private Key {private_key} \" && [ -f {private_key} ] && printf \"found\" || printf \"not found\"\n",
    "! printf \"\\nPublic Key {public_key} \" && [ -f {public_key} ] && printf \"found\" || printf \"not found\"\n",
    "! printf \"\\nCertificate {certificate_file} \" && [ -f {certificate_file} ] && printf \"found\" || printf \"not found\"\n",
    "! printf \"\\nCertification Authority {ca_file} \" && [ -f {ca_file} ] && printf \"found\" || printf \"not found\""
   ]
  },
  {
   "cell_type": "markdown",
   "metadata": {},
   "source": [
    "# Authorization"
   ]
  },
  {
   "cell_type": "markdown",
   "metadata": {},
   "source": [
    "The thing now can be properly identified, but not yet allowed to do anything. As usual in AWS, permissions are denied by default unless explicitly allowed through and IAM policy. The following policy allows all API invocations on AWS IoT targeting all resources."
   ]
  },
  {
   "cell_type": "code",
   "execution_count": null,
   "metadata": {},
   "outputs": [],
   "source": [
    "#TODO: Use a more restrictive security policy\n",
    "policy_document = '''{\n",
    "  \"Version\": \"2012-10-17\",\n",
    "  \"Statement\": [{\n",
    "    \"Effect\": \"Allow\",\n",
    "    \"Action\": \"iot:*\",\n",
    "    \"Resource\": \"*\"}]\n",
    "}'''"
   ]
  },
  {
   "cell_type": "code",
   "execution_count": null,
   "metadata": {},
   "outputs": [],
   "source": [
    "policy_name = \"bp_policy_{}\".format(unique)\n",
    "policyArn = ! aws iot create-policy \\\n",
    "    --policy-name {policy_name} \\\n",
    "    --policy-document '{policy_document}' \\\n",
    "    --query policyArn \\\n",
    "    --output text\n",
    "policyArn.s"
   ]
  },
  {
   "cell_type": "markdown",
   "metadata": {},
   "source": [
    "The security policy is attached to the thing certificate, which in turn is attached to the thing. "
   ]
  },
  {
   "cell_type": "code",
   "execution_count": null,
   "metadata": {},
   "outputs": [],
   "source": [
    "! aws iot attach-policy \\\n",
    "    --policy-name {policy_name} \\\n",
    "    --target {certificate_arn}"
   ]
  },
  {
   "cell_type": "code",
   "execution_count": null,
   "metadata": {},
   "outputs": [],
   "source": [
    "! aws iot attach-thing-principal \\\n",
    "  --thing-name {thing_name} \\\n",
    "  --principal {certificate_arn}"
   ]
  },
  {
   "cell_type": "markdown",
   "metadata": {},
   "source": [
    "# Connecting to AWS IoT"
   ]
  },
  {
   "cell_type": "markdown",
   "metadata": {},
   "source": [
    "AWS IoT provides account-specific endpoints for your things to connect:"
   ]
  },
  {
   "cell_type": "code",
   "execution_count": null,
   "metadata": {},
   "outputs": [],
   "source": [
    "endpoint_address = !aws iot describe-endpoint --query endpointAddress --output=text\n",
    "endpoint_address = endpoint_address.s\n",
    "%store endpoint_address\n",
    "endpoint_address"
   ]
  },
  {
   "cell_type": "markdown",
   "metadata": {
    "collapsed": true
   },
   "source": [
    "With the endpoint and credentials we can create an MQTT client instance:"
   ]
  },
  {
   "cell_type": "code",
   "execution_count": null,
   "metadata": {},
   "outputs": [],
   "source": [
    "from AWSIoTPythonSDK.MQTTLib import AWSIoTMQTTClient\n",
    "\n",
    "client_id=\"bp_client_{}\".format(unique)\n",
    "mqtt = AWSIoTMQTTClient(client_id)\n",
    "mqtt.configureEndpoint(endpoint_address, 8883)\n",
    "mqtt.configureCredentials(ca_file, private_key, certificate_file)\n",
    "mqtt.configureConnectDisconnectTimeout(600)\n",
    "mqtt"
   ]
  },
  {
   "cell_type": "markdown",
   "metadata": {},
   "source": [
    "# Receiving Messages"
   ]
  },
  {
   "cell_type": "markdown",
   "metadata": {},
   "source": [
    "Connect to the service to receive messages:"
   ]
  },
  {
   "cell_type": "code",
   "execution_count": null,
   "metadata": {},
   "outputs": [],
   "source": [
    "mqtt.connect()"
   ]
  },
  {
   "cell_type": "markdown",
   "metadata": {},
   "source": [
    "MQTT topics are hierarchical message queues. The ```subscribe``` method will listen for messages in the topic with the specified quality of service and invoke the callback for each message. "
   ]
  },
  {
   "cell_type": "code",
   "execution_count": null,
   "metadata": {},
   "outputs": [],
   "source": [
    "topic_name =\"bp_topic/data\"\n",
    "%store topic_name\n",
    "\n",
    "subscribe_qos = 1 #at-least-once delivery\n",
    "\n",
    "def custom_callback(client, userdata, message):\n",
    "    msg = message.payload.decode(\"utf-8\")\n",
    "    print(\"\\nSuper phone received a message: \\n {}\".format(msg))\n",
    "    \n",
    "mqtt.subscribe(topic_name, subscribe_qos, custom_callback)"
   ]
  },
  {
   "cell_type": "markdown",
   "metadata": {},
   "source": [
    "Try sending messages to this topic using the [AWS Core IoT Console](https://console.aws.amazon.com/iot/home?region=us-east-1#/test)"
   ]
  },
  {
   "cell_type": "markdown",
   "metadata": {},
   "source": [
    "# Publishing Messages"
   ]
  },
  {
   "cell_type": "markdown",
   "metadata": {},
   "source": [
    "Publishing messages to a topic is just as simple. Let's create a message structure for our blood pressure measurements:"
   ]
  },
  {
   "cell_type": "code",
   "execution_count": null,
   "metadata": {},
   "outputs": [],
   "source": [
    "data = {\"id\": \"fa91d2de-24a1-4052-8b58-4f2ab743f20e\",\n",
    "        \"name\": \"Clara Oswald\", \n",
    "        \"systolic\": 120, \n",
    "        \"diastolic\": 80, \n",
    "        \"time_stamp\": 1541059348245}\n",
    "\n",
    "import json\n",
    "payload = json.dumps(data, indent=4)\n",
    "%store payload"
   ]
  },
  {
   "cell_type": "code",
   "execution_count": null,
   "metadata": {},
   "outputs": [],
   "source": [
    "publish_qos = 0 # fire and forget\n",
    "mqtt.publish(topic_name, payload , publish_qos)"
   ]
  },
  {
   "cell_type": "code",
   "execution_count": null,
   "metadata": {},
   "outputs": [],
   "source": [
    "#Wait for it\n",
    "import time\n",
    "time.sleep(1)"
   ]
  },
  {
   "cell_type": "markdown",
   "metadata": {},
   "source": [
    "The subscribe_qos and publish_qos arguments refer to the quality of service parameter of the MQTT protocol. Selecting the QoS level is a tradeoff between delivery guarantee and performance, see the following resources for more infomation:\n",
    "\n",
    "https://www.hivemq.com/blog/mqtt-essentials-part-6-mqtt-quality-of-service-levels\n",
    "\n",
    "https://docs.aws.amazon.com//iot/latest/developerguide/protocols.html"
   ]
  },
  {
   "cell_type": "markdown",
   "metadata": {
    "collapsed": true
   },
   "source": [
    "All working fine, done for now, disconnect."
   ]
  },
  {
   "cell_type": "code",
   "execution_count": null,
   "metadata": {},
   "outputs": [],
   "source": [
    "mqtt.disconnect()"
   ]
  },
  {
   "cell_type": "markdown",
   "metadata": {},
   "source": [
    "Although sending and receiving messages is quite simple, device state management can be complex. For example, consider an IoT lightbulb controled by a mobile app, sending on/off requests and displaying the current state. If any of the mobiles or the lightbulb is temporarilly disconnected, messages will be lost, requiring state reconciliation to display  the light correctly. For more sophisticated devices, state merging and management can consume significant development efforts.\n",
    "\n",
    "AWS IoT Core can store and manage the \"device shadow\" on the cloud and calculate the difference between the reported and desired device state. Let's see how that works in the [Managing Device State](aws-iot-shadow.ipynb) notebook."
   ]
  }
 ],
 "metadata": {
  "kernelspec": {
   "display_name": "conda_python3",
   "language": "python",
   "name": "conda_python3"
  },
  "language_info": {
   "codemirror_mode": {
    "name": "ipython",
    "version": 3
   },
   "file_extension": ".py",
   "mimetype": "text/x-python",
   "name": "python",
   "nbconvert_exporter": "python",
   "pygments_lexer": "ipython3",
   "version": "3.6.5"
  }
 },
 "nbformat": 4,
 "nbformat_minor": 2
}
