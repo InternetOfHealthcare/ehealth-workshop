{
 "cells": [
  {
   "cell_type": "markdown",
   "metadata": {},
   "source": [
    "# Serverless IoT for E-Health\n",
    "\n",
    "Welcome to our workshop! Here we will practice how to build solutions for the internet of things. Our focus is to generate well being, not manage servers, so we'll leverage the best of managed cloud services. However, we still need to accomodate the security, scalability and other requirements of e-health applications. \n",
    "\n",
    "This workshop is built as a jupyter notebook so we can build the concepts and execute the code step-by-step. You can execute a cell by selecting it and using the \"run\" menu action or shift+enter shortcut. Make sure you execute every cell, as each one defines variables or creates resources for the next. But don't just execute the cell - the whole point of this workshop is undestanding them.\n",
    "\n",
    "Let's help people live long and prosper?"
   ]
  },
  {
   "cell_type": "markdown",
   "metadata": {},
   "source": [
    "# Disclaimers\n",
    "\n",
    "This workshop creates AWS resources that may incur in costs, but do not worry. Even if you go above the 500.000 messages included in the free tier, another million messages would cost about one dollar.  Just remember to delete the CloudFormation stack when you are done. \n",
    "\n",
    "The security settings in this workshop are extremely open so that management operations at any level can be demonstrated. Do not share your notebook instance. Only run this workshop on accounts prepared for educational or personal purposes.\n",
    "\n",
    "This project is not sponsored or supported by Amazon or its affiliates. The text, code and opinions in this open-source respository are exclusive from its contributors."
   ]
  },
  {
   "cell_type": "markdown",
   "metadata": {},
   "source": [
    "# Soundcheck"
   ]
  },
  {
   "cell_type": "markdown",
   "metadata": {},
   "source": [
    "Let's get our feet wet by executing some cells and checking our environment is ready. This cell executes some python code to get the current user home directory, where we will store some files, and prints the output of the last line in the cell."
   ]
  },
  {
   "cell_type": "code",
   "execution_count": null,
   "metadata": {},
   "outputs": [],
   "source": [
    "from pathlib import Path\n",
    "home = str(Path.home())\n",
    "home"
   ]
  },
  {
   "cell_type": "markdown",
   "metadata": {},
   "source": [
    "This is quite an useful variable so let's ask Jupyter to store it so we can use it in other notebooks."
   ]
  },
  {
   "cell_type": "code",
   "execution_count": null,
   "metadata": {},
   "outputs": [],
   "source": [
    "%store home"
   ]
  },
  {
   "cell_type": "markdown",
   "metadata": {},
   "source": [
    "Another helpful variable is a uniquely generated identifier to name our AWS resources. This way you can easily find or identify the resources created by this workshop. It also helps to prevent naming clases if running multiple instances of this workshop in the same AWS account."
   ]
  },
  {
   "cell_type": "code",
   "execution_count": null,
   "metadata": {},
   "outputs": [],
   "source": [
    "from datetime import datetime\n",
    "unique = datetime.now().strftime('ehw%H%M%S')\n",
    "%store unique\n",
    "unique"
   ]
  },
  {
   "cell_type": "markdown",
   "metadata": {},
   "source": [
    "Jupyter can execute other languages and execution environments. In this workshope we use the \"!\" to execute shell commands and create resources using the AWS Command Line Interface. The same resources can be created using python, but the shell is more widely used so this commands can be used in any programming environment. "
   ]
  },
  {
   "cell_type": "code",
   "execution_count": null,
   "metadata": {},
   "outputs": [],
   "source": [
    "!python --version\n",
    "!aws --version\n",
    "!pip install --upgrade pip\n",
    "!pip install AWSIoTPythonSDK"
   ]
  },
  {
   "cell_type": "markdown",
   "metadata": {},
   "source": [
    "Local environment is checked, let's see cloud conectivity. In the following cells we fetch the list of available regions both using the AWS SDK for Python (a.k.a. boto3) and the AWS Command Line Interface. This is important to highlight that they are clients to the same web services. You will see the same list top right menus of the AWS Console."
   ]
  },
  {
   "cell_type": "code",
   "execution_count": null,
   "metadata": {},
   "outputs": [],
   "source": [
    "!aws ec2 describe-regions "
   ]
  },
  {
   "cell_type": "code",
   "execution_count": null,
   "metadata": {},
   "outputs": [],
   "source": [
    "import boto3\n",
    "\n",
    "ec2 = boto3.client('ec2')\n",
    "response = ec2.describe_regions()\n",
    "for region in response[\"Regions\"]:\n",
    "    print(region['RegionName'])"
   ]
  },
  {
   "cell_type": "markdown",
   "metadata": {},
   "source": [
    "Ready to rock!\n",
    "\n",
    "**Proceed to [AWS IoT Connectivity and Security Basics](aws-iot-basics.ipynb)**"
   ]
  },
  {
   "cell_type": "markdown",
   "metadata": {},
   "source": [
    "# Extra Credit"
   ]
  },
  {
   "cell_type": "markdown",
   "metadata": {},
   "source": [
    "## How does this Jupyter Notebook gets credentials to perform authenticated AWS API calls such as DescribeRegions?"
   ]
  },
  {
   "cell_type": "markdown",
   "metadata": {},
   "source": [
    "The AWS SDKs and CLI fetches and rotates temporary credentials from the instance metadata service. Those credentials have the permission policy bound to the notebook instance as declared in the CloudFormation template."
   ]
  },
  {
   "cell_type": "code",
   "execution_count": null,
   "metadata": {},
   "outputs": [],
   "source": [
    "! curl -s http://169.254.169.254/latest/meta-data/iam/security-credentials/BaseNotebookInstanceEc2InstanceRole \\\n",
    "    | python -m json.tool"
   ]
  }
 ],
 "metadata": {
  "kernelspec": {
   "display_name": "conda_python3",
   "language": "python",
   "name": "conda_python3"
  },
  "language_info": {
   "codemirror_mode": {
    "name": "ipython",
    "version": 3
   },
   "file_extension": ".py",
   "mimetype": "text/x-python",
   "name": "python",
   "nbconvert_exporter": "python",
   "pygments_lexer": "ipython3",
   "version": "3.6.5"
  }
 },
 "nbformat": 4,
 "nbformat_minor": 2
}
