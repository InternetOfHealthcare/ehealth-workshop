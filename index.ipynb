{
 "cells": [
  {
   "cell_type": "markdown",
   "metadata": {},
   "source": [
    "# Welcome to the E-Health Workshop\n",
    "This workshop is developed to help you get started in building e-health solutions, using the cloud (AWS in specific), IoT, Machine Learning and all that jazz.\n",
    "\n",
    "If you are unfamiliar with jupyter notebooks, don't worry. They help to execute code without installing native RDP/SSH clients and without changing window or loosing focus. Go cell by cell. Each cell is a little step, in information or in code, for the next cell. Make sure you understand and execute the code without errors before moving on and ask us help anytime.\n",
    "\n",
    "You can execute the code cells using shift+enter, the step forward button on the menu bar or Cell > Run Cells menu."
   ]
  },
  {
   "cell_type": "markdown",
   "metadata": {},
   "source": [
    "# Disclaimer\n",
    "This workshop creates AWS resources that may incur in costs. We don't know exactly how much yet, but it should all fit in the free tier or at most a couple dollars.\n",
    "\n",
    "Also, the practices, code and opinions in this lab does not have anything to do with AWS, they are just the authors viewpoint. We hope you enjoy it!"
   ]
  },
  {
   "cell_type": "markdown",
   "metadata": {},
   "source": [
    "# Soundcheck"
   ]
  },
  {
   "cell_type": "markdown",
   "metadata": {},
   "source": [
    "Let's get started executing notebook cells! The following python code gets the user home directory from the operating system and stores that into the notebooks database, we'll create files there in our upcoming examples."
   ]
  },
  {
   "cell_type": "code",
   "execution_count": 1,
   "metadata": {},
   "outputs": [
    {
     "name": "stdout",
     "output_type": "stream",
     "text": [
      "Python 3.6.1 :: Anaconda 4.4.0 (x86_64)\n",
      "aws-cli/1.15.4 Python/3.6.1 Darwin/16.7.0 botocore/1.10.4\n"
     ]
    }
   ],
   "source": [
    "!python --version\n",
    "!aws --version"
   ]
  },
  {
   "cell_type": "code",
   "execution_count": 2,
   "metadata": {},
   "outputs": [
    {
     "name": "stdout",
     "output_type": "stream",
     "text": [
      "Stored 'home' (str)\n"
     ]
    },
    {
     "data": {
      "text/plain": [
       "'/Users/faermanj'"
      ]
     },
     "execution_count": 2,
     "metadata": {},
     "output_type": "execute_result"
    }
   ],
   "source": [
    "from pathlib import Path\n",
    "home = str(Path.home())\n",
    "%store home\n",
    "home"
   ]
  },
  {
   "cell_type": "markdown",
   "metadata": {},
   "source": [
    "Another helpful one is a unique name for the resources we create. \n",
    "Let's use the current time to help identify when resources were created, but also to run steps again. If you'd like to restart the lab you can just re-run this cell and proceed so resource names won't conflict."
   ]
  },
  {
   "cell_type": "code",
   "execution_count": 3,
   "metadata": {},
   "outputs": [
    {
     "name": "stdout",
     "output_type": "stream",
     "text": [
      "Stored 'HM' (str)\n",
      "Resources created by this lab will have their names ending in 091714\n"
     ]
    }
   ],
   "source": [
    "from datetime import datetime\n",
    "HM = datetime.now().strftime('%H%M%S')\n",
    "%store HM\n",
    "print(\"Resources created by this lab will have their names ending in {}\".format(HM))"
   ]
  },
  {
   "cell_type": "markdown",
   "metadata": {},
   "source": [
    "Let us make sure you can execute code and access AWS. Instead of using the AWS Console on the web, we are going to use two other clients: the [AWS Command Line Interface](http://aws.amazon.com/cli) or the [AWS SDK for Python](https://aws.amazon.com/sdk-for-python/) (aka boto3). You can acomplish nearly the same on any client, the choice of client for each task is mostly a matter of convenience.\n",
    "\n",
    "The following command should fetch information about the current user using the AWS CLI:"
   ]
  },
  {
   "cell_type": "code",
   "execution_count": 4,
   "metadata": {},
   "outputs": [
    {
     "name": "stdout",
     "output_type": "stream",
     "text": [
      "ap-south-1\teu-west-3\teu-west-2\teu-west-1\tap-northeast-3\tap-northeast-2\tap-northeast-1\tsa-east-1\tca-central-1\tap-southeast-1\tap-southeast-2\teu-central-1\tus-east-1\tus-east-2\tus-west-1\tus-west-2\r\n"
     ]
    }
   ],
   "source": [
    "!aws ec2 describe-regions --query Regions[].RegionName --output text"
   ]
  },
  {
   "cell_type": "markdown",
   "metadata": {},
   "source": [
    "See a list of region codenames (ap-south-1, eu-west-3, eu-west-2, ...)? \n",
    "\n",
    "Now let's try the same, but in python code using the boto3:"
   ]
  },
  {
   "cell_type": "code",
   "execution_count": 5,
   "metadata": {},
   "outputs": [
    {
     "name": "stdout",
     "output_type": "stream",
     "text": [
      "ap-south-1\n",
      "eu-west-3\n",
      "eu-west-2\n",
      "eu-west-1\n",
      "ap-northeast-3\n",
      "ap-northeast-2\n",
      "ap-northeast-1\n",
      "sa-east-1\n",
      "ca-central-1\n",
      "ap-southeast-1\n",
      "ap-southeast-2\n",
      "eu-central-1\n",
      "us-east-1\n",
      "us-east-2\n",
      "us-west-1\n",
      "us-west-2\n"
     ]
    }
   ],
   "source": [
    "import boto3\n",
    "\n",
    "ec2 = boto3.client('ec2')\n",
    "response = ec2.describe_regions()\n",
    "for region in response[\"Regions\"]:\n",
    "    print(region['RegionName'])"
   ]
  },
  {
   "cell_type": "markdown",
   "metadata": {},
   "source": [
    "Got the same region codes?\n",
    "You're good to go, let's get started with [AWS IoT Basics](aws-iot-basics.ipynb)"
   ]
  },
  {
   "cell_type": "code",
   "execution_count": null,
   "metadata": {
    "collapsed": true
   },
   "outputs": [],
   "source": []
  }
 ],
 "metadata": {
  "kernelspec": {
   "display_name": "Python 3",
   "language": "python",
   "name": "python3"
  },
  "language_info": {
   "codemirror_mode": {
    "name": "ipython",
    "version": 3
   },
   "file_extension": ".py",
   "mimetype": "text/x-python",
   "name": "python",
   "nbconvert_exporter": "python",
   "pygments_lexer": "ipython3",
   "version": "3.6.1"
  }
 },
 "nbformat": 4,
 "nbformat_minor": 2
}
