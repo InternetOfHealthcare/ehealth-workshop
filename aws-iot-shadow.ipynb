{
 "cells": [
  {
   "cell_type": "markdown",
   "metadata": {},
   "source": [
    "# Managing Device State"
   ]
  },
  {
   "cell_type": "markdown",
   "metadata": {},
   "source": [
    "Recovering variables from previous notebooks:"
   ]
  },
  {
   "cell_type": "code",
   "execution_count": 1,
   "metadata": {},
   "outputs": [],
   "source": [
    "#Hour and minute when this started to create unique names\n",
    "%store -r unique\n",
    "#Home directory of the user running this notebook\n",
    "%store -r home\n",
    "#Private key file name, for AWS IoT authentication\n",
    "%store -r private_key\n",
    "#Certificate file name, for AWS IoT authentication\n",
    "%store -r certificate_file\n",
    "#Certificate authority file name, for AWS IoT authentication\n",
    "%store -r ca_file\n",
    "#Address to connect using MQTT\n",
    "%store -r endpoint_address\n",
    "#The name of the topic to send MQTT messages to\n",
    "%store -r topic_name\n",
    "#A sample message payload\n",
    "%store -r payload\n",
    "#Thing name\n",
    "%store -r thing_name"
   ]
  },
  {
   "cell_type": "markdown",
   "metadata": {},
   "source": [
    "Create the MQTT Shadow client. This client will use a predefined topic structure to manage device state, but it is all plain old MQTT under the hood. See the [Using Shadows](https://docs.aws.amazon.com/iot/latest/developerguide/using-device-shadows.html) documentation page for more information."
   ]
  },
  {
   "cell_type": "code",
   "execution_count": 2,
   "metadata": {},
   "outputs": [
    {
     "data": {
      "text/plain": [
       "True"
      ]
     },
     "execution_count": 2,
     "metadata": {},
     "output_type": "execute_result"
    }
   ],
   "source": [
    "from AWSIoTPythonSDK.MQTTLib import AWSIoTMQTTShadowClient\n",
    "client_id=\"ShadowClients{}\".format(unique)\n",
    "shadow = AWSIoTMQTTShadowClient(client_id)\n",
    "shadow.configureEndpoint(endpoint_address, 8883)\n",
    "shadow.configureCredentials(ca_file, private_key, certificate_file)\n",
    "shadow.configureConnectDisconnectTimeout(600)\n",
    "shadow.configureMQTTOperationTimeout(10)\n",
    "shadow.connect()"
   ]
  },
  {
   "cell_type": "markdown",
   "metadata": {},
   "source": [
    "On top of the client, a shadow handler is used to dispatch messages and callbacks:"
   ]
  },
  {
   "cell_type": "code",
   "execution_count": 3,
   "metadata": {},
   "outputs": [],
   "source": [
    "shadow_handler = shadow.createShadowHandlerWithName(thing_name, True)"
   ]
  },
  {
   "cell_type": "markdown",
   "metadata": {},
   "source": [
    "Let's report the initial device state. Suppose the device was just connected to power and should be standing by with the usual red led."
   ]
  },
  {
   "cell_type": "code",
   "execution_count": 4,
   "metadata": {},
   "outputs": [
    {
     "name": "stdout",
     "output_type": "stream",
     "text": [
      "{\n",
      "    \"state\": {\n",
      "        \"reported\": {\n",
      "            \"power_status\": \"standby\",\n",
      "            \"led_color\": \"red\"\n",
      "        }\n",
      "    }\n",
      "}\n"
     ]
    }
   ],
   "source": [
    "initial_state = {\n",
    "    \"power_status\": \"standby\",\n",
    "    \"led_color\": \"red\"\n",
    "}\n",
    "\n",
    "import json\n",
    "shadow_state = {\n",
    "    \"state\": {\n",
    "        \"reported\" : initial_state\n",
    "    }\n",
    "}\n",
    "shadow_str = json.dumps(shadow_state, indent = 4)\n",
    "print(shadow_str)"
   ]
  },
  {
   "cell_type": "code",
   "execution_count": 5,
   "metadata": {},
   "outputs": [],
   "source": [
    "def update_cb(payload, responseStatus, token):\n",
    "    payload_json = json.loads(payload)\n",
    "    print(json.dumps(payload_json,sort_keys=True,indent=4))\n",
    "    print(str(responseStatus))\n",
    "    print(str(token))\n",
    "\n",
    "shadow_handler.shadowUpdate(shadow_str, update_cb, 5);"
   ]
  },
  {
   "cell_type": "markdown",
   "metadata": {},
   "source": [
    "Notice that shadow messages include the metadata required for optimistic conflict resolution and other management information.\n",
    "\n",
    "Confirm by retrieving the current shadow from AWS IoT:"
   ]
  },
  {
   "cell_type": "code",
   "execution_count": 6,
   "metadata": {},
   "outputs": [
    {
     "name": "stdout",
     "output_type": "stream",
     "text": [
      "{\n",
      "    \"clientToken\": \"235df1a8-8ac0-44c6-9c61-6a73b8cc1b5a\",\n",
      "    \"metadata\": {\n",
      "        \"reported\": {\n",
      "            \"led_color\": {\n",
      "                \"timestamp\": 1541068888\n",
      "            },\n",
      "            \"power_status\": {\n",
      "                \"timestamp\": 1541068888\n",
      "            }\n",
      "        }\n",
      "    },\n",
      "    \"state\": {\n",
      "        \"reported\": {\n",
      "            \"led_color\": \"red\",\n",
      "            \"power_status\": \"standby\"\n",
      "        }\n",
      "    },\n",
      "    \"timestamp\": 1541068888,\n",
      "    \"version\": 1\n",
      "}\n",
      "accepted\n",
      "235df1a8-8ac0-44c6-9c61-6a73b8cc1b5a\n"
     ]
    }
   ],
   "source": [
    "def get_cb(payload, responseStatus, token):\n",
    "    payload_json = json.loads(payload)\n",
    "    print(json.dumps(payload_json,sort_keys=True,indent=4))\n",
    "    print(str(responseStatus))\n",
    "    print(str(token))\n",
    "\n",
    "shadow_handler.shadowGet(get_cb, 5);"
   ]
  },
  {
   "cell_type": "code",
   "execution_count": 7,
   "metadata": {},
   "outputs": [
    {
     "name": "stdout",
     "output_type": "stream",
     "text": [
      "{\n",
      "    \"clientToken\": \"a9cfe8f8-1387-4389-a6e7-5f78c4c037e7\",\n",
      "    \"metadata\": {\n",
      "        \"reported\": {\n",
      "            \"led_color\": {\n",
      "                \"timestamp\": 1541068888\n",
      "            },\n",
      "            \"power_status\": {\n",
      "                \"timestamp\": 1541068888\n",
      "            }\n",
      "        }\n",
      "    },\n",
      "    \"state\": {\n",
      "        \"reported\": {\n",
      "            \"led_color\": \"red\",\n",
      "            \"power_status\": \"standby\"\n",
      "        }\n",
      "    },\n",
      "    \"timestamp\": 1541068891,\n",
      "    \"version\": 1\n",
      "}\n",
      "accepted\n",
      "a9cfe8f8-1387-4389-a6e7-5f78c4c037e7\n"
     ]
    }
   ],
   "source": [
    "#Wait for it\n",
    "import time\n",
    "time.sleep(1)"
   ]
  },
  {
   "cell_type": "markdown",
   "metadata": {},
   "source": [
    "Also try changing the device shadow of this thing using the AWS Console:"
   ]
  },
  {
   "cell_type": "code",
   "execution_count": 8,
   "metadata": {},
   "outputs": [
    {
     "name": "stdout",
     "output_type": "stream",
     "text": [
      "https://console.aws.amazon.com/iot/home?region=us-east-1#/thing/bp_monitor_ehw104107\n"
     ]
    }
   ],
   "source": [
    "print(\"https://console.aws.amazon.com/iot/home?region=us-east-1#/thing/{}\".format(thing_name))\n"
   ]
  },
  {
   "cell_type": "markdown",
   "metadata": {},
   "source": [
    "Now let's update the desired state. This will let the device know the desired configuration as soon as it is connected and ready to process deltas."
   ]
  },
  {
   "cell_type": "code",
   "execution_count": 9,
   "metadata": {},
   "outputs": [
    {
     "name": "stdout",
     "output_type": "stream",
     "text": [
      "{\n",
      "    \"state\": {\n",
      "        \"desired\": {\n",
      "            \"led_color\": \"blue\",\n",
      "            \"screen_brightness\": \"0.49\"\n",
      "        }\n",
      "    }\n",
      "}\n"
     ]
    }
   ],
   "source": [
    "updated_state = {\n",
    "    \"led_color\": \"blue\",\n",
    "    \"screen_brightness\": \"0.49\"\n",
    "}\n",
    "\n",
    "shadow_state = {\n",
    "    \"state\": {\n",
    "        \"desired\" : updated_state\n",
    "    }\n",
    "}\n",
    "shadow_str = json.dumps(shadow_state, indent=4)\n",
    "shadow_handler.shadowUpdate(shadow_str, update_cb, 5);\n",
    "print(shadow_str)"
   ]
  },
  {
   "cell_type": "markdown",
   "metadata": {},
   "source": [
    "On the device side, we can get the current shadow and either update the deltas or refresh to desired state:"
   ]
  },
  {
   "cell_type": "code",
   "execution_count": 10,
   "metadata": {},
   "outputs": [],
   "source": [
    "shadow_handler.shadowGet(get_cb, 5);"
   ]
  },
  {
   "cell_type": "markdown",
   "metadata": {},
   "source": [
    "With this data your application can always show the correct state to applications and execute the desired changes on the device without managing conectivity and databases.\n",
    "\n",
    "Speaking of databases, we don't want to loose any data, right?\n",
    "\n",
    "Let's proceed to the [Storing Telemetry Data](aws-iot-storing-telemetry.ipynb) notebook right now!"
   ]
  },
  {
   "cell_type": "markdown",
   "metadata": {},
   "source": [
    "# Extra Credit"
   ]
  },
  {
   "cell_type": "markdown",
   "metadata": {},
   "source": [
    "The MQTT Connection from the shadow client can be used to subscribe directly to the underlying message topics:"
   ]
  },
  {
   "cell_type": "code",
   "execution_count": 11,
   "metadata": {},
   "outputs": [
    {
     "name": "stdout",
     "output_type": "stream",
     "text": [
      "{\n",
      "    \"clientToken\": \"52c70ddd-9767-489b-8d7e-81a630533c9e\",\n",
      "    \"metadata\": {\n",
      "        \"desired\": {\n",
      "            \"led_color\": {\n",
      "                \"timestamp\": 1541068892\n",
      "            },\n",
      "            \"screen_brightness\": {\n",
      "                \"timestamp\": 1541068892\n",
      "            }\n",
      "        }\n",
      "    },\n",
      "    \"state\": {\n",
      "        \"desired\": {\n",
      "            \"led_color\": \"blue\",\n",
      "            \"screen_brightness\": \"0.49\"\n",
      "        }\n",
      "    },\n",
      "    \"timestamp\": 1541068892,\n",
      "    \"version\": 2\n",
      "}\n",
      "accepted\n",
      "52c70ddd-9767-489b-8d7e-81a630533c9e\n",
      "{\n",
      "    \"clientToken\": \"c4634b71-c404-4640-9eda-c1b2d8247ad5\",\n",
      "    \"metadata\": {\n",
      "        \"desired\": {\n",
      "            \"led_color\": {\n",
      "                \"timestamp\": 1541068892\n",
      "            },\n",
      "            \"screen_brightness\": {\n",
      "                \"timestamp\": 1541068892\n",
      "            }\n",
      "        },\n",
      "        \"reported\": {\n",
      "            \"led_color\": {\n",
      "                \"timestamp\": 1541068888\n",
      "            },\n",
      "            \"power_status\": {\n",
      "                \"timestamp\": 1541068888\n",
      "            }\n",
      "        }\n",
      "    },\n",
      "    \"state\": {\n",
      "        \"delta\": {\n",
      "            \"led_color\": \"blue\",\n",
      "            \"screen_brightness\": \"0.49\"\n",
      "        },\n",
      "        \"desired\": {\n",
      "            \"led_color\": \"blue\",\n",
      "            \"screen_brightness\": \"0.49\"\n",
      "        },\n",
      "        \"reported\": {\n",
      "            \"led_color\": \"red\",\n",
      "            \"power_status\": \"standby\"\n",
      "        }\n",
      "    },\n",
      "    \"timestamp\": 1541068892,\n",
      "    \"version\": 2\n",
      "}\n",
      "accepted\n",
      "c4634b71-c404-4640-9eda-c1b2d8247ad5\n"
     ]
    }
   ],
   "source": [
    "deltas_topic = \"$aws/things/{}/shadow/update/delta\".format(thing_name)\n",
    "mqtt = shadow.getMQTTConnection()\n",
    "# mqtt.subscribe..."
   ]
  },
  {
   "cell_type": "code",
   "execution_count": null,
   "metadata": {},
   "outputs": [],
   "source": []
  }
 ],
 "metadata": {
  "kernelspec": {
   "display_name": "conda_python3",
   "language": "python",
   "name": "conda_python3"
  },
  "language_info": {
   "codemirror_mode": {
    "name": "ipython",
    "version": 3
   },
   "file_extension": ".py",
   "mimetype": "text/x-python",
   "name": "python",
   "nbconvert_exporter": "python",
   "pygments_lexer": "ipython3",
   "version": "3.6.5"
  }
 },
 "nbformat": 4,
 "nbformat_minor": 2
}
