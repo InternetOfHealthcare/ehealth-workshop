{
 "cells": [
  {
   "cell_type": "markdown",
   "metadata": {},
   "source": [
    "# Managing Device State"
   ]
  },
  {
   "cell_type": "markdown",
   "metadata": {},
   "source": [
    "Recovering variables from previous notebooks:"
   ]
  },
  {
   "cell_type": "code",
   "execution_count": null,
   "metadata": {},
   "outputs": [],
   "source": [
    "#Hour and minute when this started to create unique names\n",
    "%store -r unique\n",
    "#Home directory of the user running this notebook\n",
    "%store -r home\n",
    "#Private key file name, for AWS IoT authentication\n",
    "%store -r private_key\n",
    "#Certificate file name, for AWS IoT authentication\n",
    "%store -r certificate_file\n",
    "#Certificate authority file name, for AWS IoT authentication\n",
    "%store -r ca_file\n",
    "#Address to connect using MQTT\n",
    "%store -r endpoint_address\n",
    "#The name of the topic to send MQTT messages to\n",
    "%store -r topic_name\n",
    "#A sample message payload\n",
    "%store -r payload\n",
    "#Thing name\n",
    "%store -r thing_name"
   ]
  },
  {
   "cell_type": "markdown",
   "metadata": {},
   "source": [
    "Create the MQTT Shadow client. This client will use a predefined topic structure to manage device state, but it is all plain old MQTT under the hood. See the [Using Shadows](https://docs.aws.amazon.com/iot/latest/developerguide/using-device-shadows.html) documentation page for more information."
   ]
  },
  {
   "cell_type": "code",
   "execution_count": null,
   "metadata": {},
   "outputs": [],
   "source": [
    "from AWSIoTPythonSDK.MQTTLib import AWSIoTMQTTShadowClient\n",
    "client_id=\"shadow_client_{}\".format(unique)\n",
    "shadow = AWSIoTMQTTShadowClient(client_id)\n",
    "shadow.configureEndpoint(endpoint_address, 8883)\n",
    "shadow.configureCredentials(ca_file, private_key, certificate_file)\n",
    "shadow.configureConnectDisconnectTimeout(600)\n",
    "shadow.configureMQTTOperationTimeout(10)\n",
    "shadow.connect()"
   ]
  },
  {
   "cell_type": "markdown",
   "metadata": {},
   "source": [
    "On top of the client, a shadow handler is used to dispatch messages and callbacks:"
   ]
  },
  {
   "cell_type": "code",
   "execution_count": null,
   "metadata": {},
   "outputs": [],
   "source": [
    "shadow_handler = shadow.createShadowHandlerWithName(thing_name, True)"
   ]
  },
  {
   "cell_type": "markdown",
   "metadata": {},
   "source": [
    "Let's report the initial device state. Suppose the device was just connected to power and should be standing by with the usual red led."
   ]
  },
  {
   "cell_type": "code",
   "execution_count": null,
   "metadata": {},
   "outputs": [],
   "source": [
    "initial_state = {\n",
    "    \"power_status\": \"standby\",\n",
    "    \"led_color\": \"red\"\n",
    "}\n",
    "\n",
    "import json\n",
    "shadow_state = {\n",
    "    \"state\": {\n",
    "        \"reported\" : initial_state\n",
    "    }\n",
    "}\n",
    "shadow_str = json.dumps(shadow_state, indent = 4)\n",
    "print(shadow_str)"
   ]
  },
  {
   "cell_type": "code",
   "execution_count": null,
   "metadata": {},
   "outputs": [],
   "source": [
    "def update_cb(payload, responseStatus, token):\n",
    "    payload_json = json.loads(payload)\n",
    "    print(str(responseStatus))\n",
    "    print(str(token))\n",
    "    print(json.dumps(payload_json,sort_keys=True,indent=4))\n",
    "    \n",
    "\n",
    "shadow_handler.shadowUpdate(shadow_str, update_cb, 5);"
   ]
  },
  {
   "cell_type": "markdown",
   "metadata": {},
   "source": [
    "Check your device shadow document on AWS Console:"
   ]
  },
  {
   "cell_type": "code",
   "execution_count": null,
   "metadata": {},
   "outputs": [],
   "source": [
    "print(\"https://console.aws.amazon.com/iot/home?region=us-east-1#/thing/{}\".format(thing_name))\n"
   ]
  },
  {
   "cell_type": "markdown",
   "metadata": {},
   "source": [
    "Notice that shadow messages include the metadata required for optimistic conflict resolution and other management information.\n",
    "\n",
    "Confirm by retrieving the current shadow from AWS IoT:"
   ]
  },
  {
   "cell_type": "code",
   "execution_count": null,
   "metadata": {},
   "outputs": [],
   "source": [
    "def get_cb(payload, responseStatus, token):\n",
    "    payload_json = json.loads(payload)\n",
    "    print(json.dumps(payload_json,sort_keys=True,indent=4))\n",
    "    print(str(responseStatus))\n",
    "    print(str(token))\n",
    "\n",
    "shadow_handler.shadowGet(get_cb, 5);"
   ]
  },
  {
   "cell_type": "code",
   "execution_count": null,
   "metadata": {},
   "outputs": [],
   "source": [
    "#Wait for it\n",
    "import time\n",
    "time.sleep(1)"
   ]
  },
  {
   "cell_type": "markdown",
   "metadata": {},
   "source": [
    "Try changing the device state on AWS Console and getting from here again."
   ]
  },
  {
   "cell_type": "markdown",
   "metadata": {},
   "source": [
    "Now let's update the desired state. This will let the device know the desired configuration as soon as it is connected and ready to process deltas."
   ]
  },
  {
   "cell_type": "code",
   "execution_count": null,
   "metadata": {},
   "outputs": [],
   "source": [
    "updated_state = {\n",
    "    \"led_color\": \"blue\",\n",
    "    \"screen_brightness\": \"0.42\"\n",
    "}\n",
    "\n",
    "shadow_state = {\n",
    "    \"state\": {\n",
    "        \"desired\" : updated_state\n",
    "    }\n",
    "}\n",
    "shadow_str = json.dumps(shadow_state, indent=4)\n",
    "shadow_handler.shadowUpdate(shadow_str, update_cb, 5);\n",
    "print(shadow_str)"
   ]
  },
  {
   "cell_type": "markdown",
   "metadata": {},
   "source": [
    "On the device side, we can get the current shadow and either update the deltas or refresh to desired state. Notice that the state now reports not only the desired and reported states but also de differences in ```delta```."
   ]
  },
  {
   "cell_type": "code",
   "execution_count": null,
   "metadata": {},
   "outputs": [],
   "source": [
    "shadow_handler.shadowGet(get_cb, 5);"
   ]
  },
  {
   "cell_type": "markdown",
   "metadata": {},
   "source": [
    "With this data your application can always show the correct state to applications and execute the desired changes on the device without managing conectivity and databases.\n",
    "\n",
    "Speaking of databases, we don't want to loose any data, right?\n",
    "\n",
    "Let's proceed to the [Storing Telemetry Data](aws-iot-storing-telemetry.ipynb) notebook right now!"
   ]
  },
  {
   "cell_type": "markdown",
   "metadata": {},
   "source": [
    "# Extra Credit"
   ]
  },
  {
   "cell_type": "markdown",
   "metadata": {},
   "source": [
    "The MQTT Connection from the shadow client can be used to subscribe directly to the underlying message topics and get notified of state changes:"
   ]
  },
  {
   "cell_type": "code",
   "execution_count": null,
   "metadata": {},
   "outputs": [],
   "source": [
    "deltas_topic = \"$aws/things/{}/shadow/update/accepted\".format(thing_name)\n",
    "print(deltas_topic)\n",
    "mqtt = shadow.getMQTTConnection()\n",
    "# mqtt.subscribe..."
   ]
  }
 ],
 "metadata": {
  "kernelspec": {
   "display_name": "conda_python3",
   "language": "python",
   "name": "conda_python3"
  },
  "language_info": {
   "codemirror_mode": {
    "name": "ipython",
    "version": 3
   },
   "file_extension": ".py",
   "mimetype": "text/x-python",
   "name": "python",
   "nbconvert_exporter": "python",
   "pygments_lexer": "ipython3",
   "version": "3.6.5"
  }
 },
 "nbformat": 4,
 "nbformat_minor": 2
}
