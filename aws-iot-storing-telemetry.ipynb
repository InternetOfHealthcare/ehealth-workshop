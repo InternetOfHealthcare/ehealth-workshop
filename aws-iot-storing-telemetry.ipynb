{
 "cells": [
  {
   "cell_type": "markdown",
   "metadata": {},
   "source": [
    "# Part 2: Storing Telemetry Data into DynamoDB"
   ]
  },
  {
   "cell_type": "markdown",
   "metadata": {},
   "source": [
    "\n",
    "Recover data from the previous steps, make sure you've been through them and understand what they are:"
   ]
  },
  {
   "cell_type": "code",
   "execution_count": null,
   "metadata": {},
   "outputs": [],
   "source": [
    "#Hour and minute when this started to create unique names\n",
    "%store -r unique\n",
    "#Home directory of the user running this notebook\n",
    "%store -r home\n",
    "#Private key file name, for AWS IoT authentication\n",
    "%store -r private_key\n",
    "#Certificate file name, for AWS IoT authentication\n",
    "%store -r certificate_file\n",
    "#Certificate authority file name, for AWS IoT authentication\n",
    "%store -r ca_file\n",
    "#Address to connect using MQTT\n",
    "%store -r endpoint_address\n",
    "#The name of the topic to send MQTT messages to\n",
    "%store -r topic_name\n",
    "#A list of sample messages\n",
    "%store -r payloads\n",
    "#A sample message payload\n",
    "%store -r payload"
   ]
  },
  {
   "cell_type": "markdown",
   "metadata": {},
   "source": [
    "Create a DynamoDB table to store our messages:"
   ]
  },
  {
   "cell_type": "code",
   "execution_count": null,
   "metadata": {},
   "outputs": [],
   "source": [
    "table_name = \"bloodpressure{}\".format(unique)\n",
    "table_name"
   ]
  },
  {
   "cell_type": "code",
   "execution_count": null,
   "metadata": {},
   "outputs": [],
   "source": [
    "!echo Creating table \"{table_name}\" this takes a few seconds...\n",
    "table_arn = !aws dynamodb create-table \\\n",
    "  --table-name {table_name} \\\n",
    "  --attribute-definitions \\\n",
    "    AttributeName=name,AttributeType=S \\\n",
    "    AttributeName=time_stamp,AttributeType=N \\\n",
    "  --key-schema AttributeName=name,KeyType=HASH AttributeName=time_stamp,KeyType=RANGE \\\n",
    "  --provisioned-throughput ReadCapacityUnits=1,WriteCapacityUnits=1 \\\n",
    "  --query TableDescription.TableArn \\\n",
    "  --output text\n",
    "table_arn = table_arn.s\n",
    "!aws dynamodb wait table-exists --table-name {table_name}\n",
    "!echo Table created \"{table_arn}\""
   ]
  },
  {
   "cell_type": "markdown",
   "metadata": {},
   "source": [
    "Create a rule capturing messages from the topic. The rule conditions are expressed in SQL statements like the one below. Note that they can not only capture but also enrich data, see the [AWS IoT SQL Reference\n",
    "](https://docs.aws.amazon.com/iot/latest/developerguide/iot-sql-reference.html) for more information."
   ]
  },
  {
   "cell_type": "code",
   "execution_count": null,
   "metadata": {},
   "outputs": [],
   "source": [
    "sql = \"\"\"\n",
    "SELECT name, \n",
    "    time_stamp, \n",
    "    systolic, \n",
    "    diastolic, \n",
    "    id, \n",
    "    timestamp() as recv_stamp \n",
    "FROM '{}'\n",
    "\"\"\".format(topic_name)\n",
    "print(sql)"
   ]
  },
  {
   "cell_type": "markdown",
   "metadata": {},
   "source": [
    "The rule also requires an IAM Role authorizing it to write data on DynamoDB. The following trust relationship policy states that this role can be assumed by AWS IoT."
   ]
  },
  {
   "cell_type": "code",
   "execution_count": null,
   "metadata": {},
   "outputs": [],
   "source": [
    "# %load iot-trust.json\n",
    "{\n",
    "    \"Version\": \"2012-10-17\",\n",
    "    \"Statement\": [\n",
    "        {\n",
    "            \"Effect\": \"Allow\",\n",
    "            \"Principal\": {\n",
    "                \"Service\": \"iot.amazonaws.com\"\n",
    "            },\n",
    "            \"Action\": \"sts:AssumeRole\"\n",
    "        }\n",
    "    ]\n",
    "}"
   ]
  },
  {
   "cell_type": "code",
   "execution_count": null,
   "metadata": {},
   "outputs": [],
   "source": [
    "role_name = \"bp2dynamodb_role{}\".format(unique) \n",
    "rule_role_arn = !aws iam create-role \\\n",
    "    --role-name {role_name} \\\n",
    "    --assume-role-policy-document file://iot-trust.json \\\n",
    "    --query Role.Arn \\\n",
    "    --output text\n",
    "rule_role_arn = rule_role_arn.s\n",
    "rule_role_arn"
   ]
  },
  {
   "cell_type": "markdown",
   "metadata": {},
   "source": [
    "And the rule policy states that it can insert data into this specific DynamoDB table"
   ]
  },
  {
   "cell_type": "code",
   "execution_count": null,
   "metadata": {},
   "outputs": [],
   "source": [
    "import json\n",
    "rule_policy = {\n",
    "    \"Version\": \"2012-10-17\",\n",
    "    \"Statement\": [{\n",
    "        \"Effect\": \"Allow\",\n",
    "        \"Action\": \"dynamodb:PutItem\",\n",
    "        \"Resource\": table_arn\n",
    "    }]\n",
    "}\n",
    "rule_policy = json.dumps(rule_policy)\n",
    "rule_policy"
   ]
  },
  {
   "cell_type": "code",
   "execution_count": null,
   "metadata": {},
   "outputs": [],
   "source": [
    "policy_name=\"bp2dynamodb_rule_policy{}\".format(unique)\n",
    "policy_arn = !aws iam create-policy \\\n",
    "  --query Policy.Arn \\\n",
    "  --output text \\\n",
    "  --policy-name '{policy_name}' \\\n",
    "  --policy-document '{rule_policy}'\n",
    "policy_arn = policy_arn.s\n",
    "policy_arn"
   ]
  },
  {
   "cell_type": "code",
   "execution_count": null,
   "metadata": {},
   "outputs": [],
   "source": [
    "!aws iam attach-role-policy \\\n",
    "    --role-name {role_name} \\\n",
    "    --policy-arn {policy_arn}"
   ]
  },
  {
   "cell_type": "code",
   "execution_count": null,
   "metadata": {},
   "outputs": [],
   "source": [
    "rule = {\n",
    "    \"ruleDisabled\": False,\n",
    "    \"sql\": sql,\n",
    "    \"description\": \"Send blood preasure measurements to DynamoDB\",\n",
    "    \"actions\": [{\n",
    "        \"dynamoDBv2\": {\n",
    "            \"roleArn\": rule_role_arn,\n",
    "            \"putItem\": {\n",
    "                \"tableName\": table_name\n",
    "            }\n",
    "        }\n",
    "    }]\n",
    "}\n",
    "rule = json.dumps(rule)\n",
    "rule_file=\"{}/rule.json\".format(home)\n",
    "with open(rule_file, \"w\") as f:\n",
    "    f.write(rule)\n",
    "rule_file"
   ]
  },
  {
   "cell_type": "code",
   "execution_count": null,
   "metadata": {},
   "outputs": [],
   "source": [
    "print(open(rule_file).read())"
   ]
  },
  {
   "cell_type": "code",
   "execution_count": null,
   "metadata": {},
   "outputs": [],
   "source": [
    "rule_name=\"bprule{}\".format(unique)\n",
    "!aws iot create-topic-rule \\\n",
    "  --rule-name '{rule_name}' \\\n",
    "  --topic-rule-payload file://{rule_file}"
   ]
  },
  {
   "cell_type": "code",
   "execution_count": null,
   "metadata": {},
   "outputs": [],
   "source": [
    "from AWSIoTPythonSDK.MQTTLib import AWSIoTMQTTClient\n",
    "\n",
    "client_id=\"NotebookCient{}\".format(unique)\n",
    "mqtt = AWSIoTMQTTClient(client_id)\n",
    "mqtt.configureEndpoint(endpoint_address, 8883)\n",
    "mqtt.configureCredentials(ca_file, private_key, certificate_file)\n",
    "mqtt.configureConnectDisconnectTimeout(10)\n",
    "mqtt.connect()\n",
    "mqtt"
   ]
  },
  {
   "cell_type": "code",
   "execution_count": null,
   "metadata": {},
   "outputs": [],
   "source": [
    "import random\n",
    "payload = random.choice(payloads)\n",
    "print(payload)\n",
    "mqtt.publish(topic_name, payload , QoS = 0)"
   ]
  },
  {
   "cell_type": "markdown",
   "metadata": {},
   "source": [
    "Lets check how many records have arrived on DynamoDB..."
   ]
  },
  {
   "cell_type": "code",
   "execution_count": null,
   "metadata": {},
   "outputs": [],
   "source": [
    "!aws dynamodb scan --table-name {table_name} --query Count"
   ]
  },
  {
   "cell_type": "code",
   "execution_count": null,
   "metadata": {},
   "outputs": [],
   "source": [
    "mqtt.disconnect()"
   ]
  },
  {
   "cell_type": "markdown",
   "metadata": {
    "collapsed": true
   },
   "source": [
    "All right, but what if someone has high blood pressure, better let them know, right?\n",
    "Let's do that in the [Reacting to Events notebook](aws-iot-react-events.ipynb)"
   ]
  }
 ],
 "metadata": {
  "kernelspec": {
   "display_name": "conda_python3",
   "language": "python",
   "name": "conda_python3"
  },
  "language_info": {
   "codemirror_mode": {
    "name": "ipython",
    "version": 3
   },
   "file_extension": ".py",
   "mimetype": "text/x-python",
   "name": "python",
   "nbconvert_exporter": "python",
   "pygments_lexer": "ipython3",
   "version": "3.6.5"
  }
 },
 "nbformat": 4,
 "nbformat_minor": 2
}
