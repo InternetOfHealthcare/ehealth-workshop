{
 "cells": [
  {
   "cell_type": "markdown",
   "metadata": {},
   "source": [
    "# Storing Telemetry Data into DynamoDB"
   ]
  },
  {
   "cell_type": "markdown",
   "metadata": {},
   "source": [
    "\n",
    "Recover data from the previous steps, make sure you've been through them and understand what they are:"
   ]
  },
  {
   "cell_type": "code",
   "execution_count": 1,
   "metadata": {},
   "outputs": [],
   "source": [
    "#Hour and minute when this started to create unique names\n",
    "%store -r unique\n",
    "#Home directory of the user running this notebook\n",
    "%store -r home\n",
    "#Private key file name, for AWS IoT authentication\n",
    "%store -r private_key\n",
    "#Certificate file name, for AWS IoT authentication\n",
    "%store -r certificate_file\n",
    "#Certificate authority file name, for AWS IoT authentication\n",
    "%store -r ca_file\n",
    "#Address to connect using MQTT\n",
    "%store -r endpoint_address\n",
    "#The name of the topic to send MQTT messages to\n",
    "%store -r topic_name\n",
    "#A sample message payload\n",
    "%store -r payload"
   ]
  },
  {
   "cell_type": "markdown",
   "metadata": {},
   "source": [
    "Set the name for the blood pressure table:"
   ]
  },
  {
   "cell_type": "markdown",
   "metadata": {},
   "source": [
    "**Extra Credit** If you have already done the [Alexa Nursing Skill Workshop](https://github.com/InternetOfHealthcare/nursing-alexa-skill-workshop) feel free to use the same table by adapting the table name below and skip table creation."
   ]
  },
  {
   "cell_type": "code",
   "execution_count": 3,
   "metadata": {},
   "outputs": [
    {
     "data": {
      "text/plain": [
       "'bp_table_ehw083110'"
      ]
     },
     "execution_count": 3,
     "metadata": {},
     "output_type": "execute_result"
    }
   ],
   "source": [
    "table_name = \"bp_table_{}\".format(unique)\n",
    "table_name"
   ]
  },
  {
   "cell_type": "markdown",
   "metadata": {},
   "source": [
    "Create a DynamoDB table to store our messages. \n",
    "Notice that DynamoDB does not require you to provision or manage servers.\n",
    "It will provision the infrastructure required to maintain the provisioned throughput (ReadCapacityUnits/WriteCapacityUnits)."
   ]
  },
  {
   "cell_type": "code",
   "execution_count": 4,
   "metadata": {},
   "outputs": [
    {
     "name": "stdout",
     "output_type": "stream",
     "text": [
      "Creating table bp_table_ehw083110 this takes a few seconds...\n",
      "Table created arn:aws:dynamodb:us-east-1:030555009967:table/bp_table_ehw083110\n"
     ]
    }
   ],
   "source": [
    "!echo Creating table \"{table_name}\" this takes a few seconds...\n",
    "table_arn = !aws dynamodb create-table \\\n",
    "  --table-name {table_name} \\\n",
    "  --attribute-definitions \\\n",
    "    AttributeName=name,AttributeType=S \\\n",
    "    AttributeName=time_stamp,AttributeType=N \\\n",
    "  --key-schema AttributeName=name,KeyType=HASH AttributeName=time_stamp,KeyType=RANGE \\\n",
    "  --provisioned-throughput ReadCapacityUnits=5,WriteCapacityUnits=5 \\\n",
    "  --query TableDescription.TableArn \\\n",
    "  --output text\n",
    "table_arn = table_arn.s\n",
    "!aws dynamodb wait table-exists --table-name {table_name}\n",
    "!echo Table created \"{table_arn}\""
   ]
  },
  {
   "cell_type": "markdown",
   "metadata": {},
   "source": [
    "Create a rule capturing messages from the topic. The rule conditions are expressed in SQL statements like the one below. Rule statements works like this:\n",
    "\n",
    "\n",
    "**SELECT** clause defines what fields to select from or add to the message.\n",
    "\n",
    "**FROM** clause defines which topics to listen.\n",
    "\n",
    "**WHERE** clause defines under what conditions messages should trigger this rule.\n",
    "\n",
    "\n",
    "Note that they can not only capture but also enrich data and execute functions, see the [AWS IoT SQL Reference\n",
    "](https://docs.aws.amazon.com/iot/latest/developerguide/iot-sql-reference.html) for more information."
   ]
  },
  {
   "cell_type": "code",
   "execution_count": 5,
   "metadata": {},
   "outputs": [
    {
     "name": "stdout",
     "output_type": "stream",
     "text": [
      "\n",
      "SELECT name, \n",
      "    time_stamp, \n",
      "    systolic, \n",
      "    diastolic, \n",
      "    id, \n",
      "    timestamp() as recv_stamp \n",
      "FROM 'bp_topic/data'\n",
      "WHERE 1=1\n",
      "\n"
     ]
    }
   ],
   "source": [
    "sql = \"\"\"\n",
    "SELECT name, \n",
    "    time_stamp, \n",
    "    systolic, \n",
    "    diastolic, \n",
    "    id, \n",
    "    timestamp() as recv_stamp \n",
    "FROM '{}'\n",
    "WHERE 1=1\n",
    "\"\"\".format(topic_name)\n",
    "print(sql)"
   ]
  },
  {
   "cell_type": "markdown",
   "metadata": {},
   "source": [
    "The rule also requires an IAM Role authorizing it to write data on DynamoDB. Let's create an IAM role with a trust policy specifying that this role can be assumed by AWS IoT:"
   ]
  },
  {
   "cell_type": "code",
   "execution_count": 6,
   "metadata": {},
   "outputs": [
    {
     "data": {
      "text/plain": [
       "{'Version': '2012-10-17',\n",
       " 'Statement': [{'Effect': 'Allow',\n",
       "   'Principal': {'Service': 'iot.amazonaws.com'},\n",
       "   'Action': 'sts:AssumeRole'}]}"
      ]
     },
     "execution_count": 6,
     "metadata": {},
     "output_type": "execute_result"
    }
   ],
   "source": [
    "# %load iot-trust.json\n",
    "{\n",
    "    \"Version\": \"2012-10-17\",\n",
    "    \"Statement\": [\n",
    "        {\n",
    "            \"Effect\": \"Allow\",\n",
    "            \"Principal\": {\n",
    "                \"Service\": \"iot.amazonaws.com\"\n",
    "            },\n",
    "            \"Action\": \"sts:AssumeRole\"\n",
    "        }\n",
    "    ]\n",
    "}"
   ]
  },
  {
   "cell_type": "code",
   "execution_count": 7,
   "metadata": {},
   "outputs": [
    {
     "data": {
      "text/plain": [
       "'arn:aws:iam::030555009967:role/bp2dynamodb_role_ehw083110'"
      ]
     },
     "execution_count": 7,
     "metadata": {},
     "output_type": "execute_result"
    }
   ],
   "source": [
    "role_name = \"bp2dynamodb_role_{}\".format(unique) \n",
    "rule_role_arn = !aws iam create-role \\\n",
    "    --role-name {role_name} \\\n",
    "    --assume-role-policy-document file://iot-trust.json \\\n",
    "    --query Role.Arn \\\n",
    "    --output text\n",
    "rule_role_arn = rule_role_arn.s\n",
    "rule_role_arn"
   ]
  },
  {
   "cell_type": "markdown",
   "metadata": {},
   "source": [
    "The role is created but not authorized to do anything yet.\n",
    "This time we'll be more restrictive in the security policy, specifying that the AWS IoT Rule assuming this IAM Role will be allowed to invoke ```dynamodb:PutItem``` only for the blood pressure table."
   ]
  },
  {
   "cell_type": "code",
   "execution_count": 10,
   "metadata": {},
   "outputs": [
    {
     "name": "stdout",
     "output_type": "stream",
     "text": [
      "{\n",
      "    \"Version\": \"2012-10-17\",\n",
      "    \"Statement\": [\n",
      "        {\n",
      "            \"Effect\": \"Allow\",\n",
      "            \"Action\": \"dynamodb:PutItem\",\n",
      "            \"Resource\": \"arn:aws:dynamodb:us-east-1:030555009967:table/bp_table_ehw083110\"\n",
      "        }\n",
      "    ]\n",
      "}\n"
     ]
    }
   ],
   "source": [
    "import json\n",
    "rule_policy = {\n",
    "    \"Version\": \"2012-10-17\",\n",
    "    \"Statement\": [{\n",
    "        \"Effect\": \"Allow\",\n",
    "        \"Action\": \"dynamodb:PutItem\",\n",
    "        \"Resource\": table_arn\n",
    "    }]\n",
    "}\n",
    "rule_policy = json.dumps(rule_policy, indent = 4)\n",
    "print(rule_policy)"
   ]
  },
  {
   "cell_type": "code",
   "execution_count": 11,
   "metadata": {},
   "outputs": [
    {
     "data": {
      "text/plain": [
       "'arn:aws:iam::030555009967:policy/bp2dynamodb_rule_policyehw083110'"
      ]
     },
     "execution_count": 11,
     "metadata": {},
     "output_type": "execute_result"
    }
   ],
   "source": [
    "policy_name=\"bp2dynamodb_policy_{}\".format(unique)\n",
    "policy_arn = !aws iam create-policy \\\n",
    "  --query Policy.Arn \\\n",
    "  --output text \\\n",
    "  --policy-name '{policy_name}' \\\n",
    "  --policy-document '{rule_policy}'\n",
    "policy_arn = policy_arn.s\n",
    "policy_arn"
   ]
  },
  {
   "cell_type": "code",
   "execution_count": 12,
   "metadata": {},
   "outputs": [],
   "source": [
    "!aws iam attach-role-policy \\\n",
    "    --role-name {role_name} \\\n",
    "    --policy-arn {policy_arn}"
   ]
  },
  {
   "cell_type": "markdown",
   "metadata": {},
   "source": [
    "AWS IoT Rules are created by a rule payload file binding the SQL satement to an action and role:"
   ]
  },
  {
   "cell_type": "code",
   "execution_count": 16,
   "metadata": {},
   "outputs": [
    {
     "data": {
      "text/plain": [
       "'/home/ec2-user/bp2dynamodb_rule.json'"
      ]
     },
     "execution_count": 16,
     "metadata": {},
     "output_type": "execute_result"
    }
   ],
   "source": [
    "rule = {\n",
    "    \"ruleDisabled\": False,\n",
    "    \"sql\": sql,\n",
    "    \"description\": \"Send blood preasure measurements to DynamoDB\",\n",
    "    \"actions\": [{\n",
    "        \"dynamoDBv2\": {\n",
    "            \"roleArn\": rule_role_arn,\n",
    "            \"putItem\": {\n",
    "                \"tableName\": table_name\n",
    "            }\n",
    "        }\n",
    "    }]\n",
    "}\n",
    "rule = json.dumps(rule, indent = 4)\n",
    "rule_file=\"{}/bp2dynamodb_rule.json\".format(home)\n",
    "with open(rule_file, \"w\") as f:\n",
    "    f.write(rule)\n",
    "rule_file"
   ]
  },
  {
   "cell_type": "code",
   "execution_count": 17,
   "metadata": {},
   "outputs": [
    {
     "name": "stdout",
     "output_type": "stream",
     "text": [
      "{\n",
      "    \"ruleDisabled\": false,\n",
      "    \"sql\": \"\\nSELECT name, \\n    time_stamp, \\n    systolic, \\n    diastolic, \\n    id, \\n    timestamp() as recv_stamp \\nFROM 'bp_topic/data'\\nWHERE 1=1\\n\",\n",
      "    \"description\": \"Send blood preasure measurements to DynamoDB\",\n",
      "    \"actions\": [\n",
      "        {\n",
      "            \"dynamoDBv2\": {\n",
      "                \"roleArn\": \"arn:aws:iam::030555009967:role/bp2dynamodb_role_ehw083110\",\n",
      "                \"putItem\": {\n",
      "                    \"tableName\": \"bp_table_ehw083110\"\n",
      "                }\n",
      "            }\n",
      "        }\n",
      "    ]\n",
      "}\n"
     ]
    }
   ],
   "source": [
    "print(open(rule_file).read())"
   ]
  },
  {
   "cell_type": "code",
   "execution_count": 18,
   "metadata": {},
   "outputs": [],
   "source": [
    "rule_name=\"bprule{}\".format(unique)\n",
    "!aws iot create-topic-rule \\\n",
    "  --rule-name '{rule_name}' \\\n",
    "  --topic-rule-payload file://{rule_file}"
   ]
  },
  {
   "cell_type": "markdown",
   "metadata": {},
   "source": [
    "# Triggering the topic rule"
   ]
  },
  {
   "cell_type": "code",
   "execution_count": 20,
   "metadata": {},
   "outputs": [
    {
     "data": {
      "text/plain": [
       "<AWSIoTPythonSDK.MQTTLib.AWSIoTMQTTClient at 0x7f7380977128>"
      ]
     },
     "execution_count": 20,
     "metadata": {},
     "output_type": "execute_result"
    }
   ],
   "source": [
    "from AWSIoTPythonSDK.MQTTLib import AWSIoTMQTTClient\n",
    "\n",
    "client_id=\"NotebookCient{}\".format(unique)\n",
    "mqtt = AWSIoTMQTTClient(client_id)\n",
    "mqtt.configureEndpoint(endpoint_address, 8883)\n",
    "mqtt.configureCredentials(ca_file, private_key, certificate_file)\n",
    "mqtt.configureConnectDisconnectTimeout(600)\n",
    "mqtt.connect()\n",
    "mqtt"
   ]
  },
  {
   "cell_type": "code",
   "execution_count": 21,
   "metadata": {},
   "outputs": [
    {
     "data": {
      "text/plain": [
       "True"
      ]
     },
     "execution_count": 21,
     "metadata": {},
     "output_type": "execute_result"
    }
   ],
   "source": [
    "data = {\"id\": \"fa91d2de-24a1-4052-8b58-4f2ab743f20a\",\n",
    "        \"name\": \"Martha Jones\", \n",
    "        \"systolic\": 110, \n",
    "        \"diastolic\": 70, \n",
    "        \"time_stamp\": 1541059348245}\n",
    "import json\n",
    "msg = json.dumps(data, indent=4)\n",
    "mqtt.publish(topic_name, msg , QoS = 1)"
   ]
  },
  {
   "cell_type": "markdown",
   "metadata": {},
   "source": [
    "Lets check how many records have arrived on DynamoDB..."
   ]
  },
  {
   "cell_type": "code",
   "execution_count": 22,
   "metadata": {},
   "outputs": [],
   "source": [
    "#Wait for it\n",
    "import time\n",
    "time.sleep(1)"
   ]
  },
  {
   "cell_type": "code",
   "execution_count": 23,
   "metadata": {},
   "outputs": [
    {
     "name": "stdout",
     "output_type": "stream",
     "text": [
      "1\r\n"
     ]
    }
   ],
   "source": [
    "!aws dynamodb scan --table-name {table_name} --query Count"
   ]
  },
  {
   "cell_type": "code",
   "execution_count": 24,
   "metadata": {},
   "outputs": [
    {
     "data": {
      "text/plain": [
       "True"
      ]
     },
     "execution_count": 24,
     "metadata": {},
     "output_type": "execute_result"
    }
   ],
   "source": [
    "mqtt.disconnect()"
   ]
  },
  {
   "cell_type": "markdown",
   "metadata": {},
   "source": [
    "Visit the DynamoDB Console to visualize table data:"
   ]
  },
  {
   "cell_type": "code",
   "execution_count": 25,
   "metadata": {},
   "outputs": [
    {
     "name": "stdout",
     "output_type": "stream",
     "text": [
      "https://console.aws.amazon.com/dynamodb/home?region=us-east-1#tables:selected=bp_table_ehw083110;tab=items\n"
     ]
    }
   ],
   "source": [
    "print(\"https://console.aws.amazon.com/dynamodb/home?region=us-east-1#tables:selected={};tab=items\".format(table_name))"
   ]
  },
  {
   "cell_type": "markdown",
   "metadata": {
    "collapsed": true
   },
   "source": [
    "All right, data is persisted now.\n",
    "\n",
    "But what if someone has high blood pressure, better let them know, right?\n",
    "\n",
    "Let's do that in the [Reacting to Events notebook](aws-iot-react-events.ipynb)"
   ]
  }
 ],
 "metadata": {
  "kernelspec": {
   "display_name": "conda_python3",
   "language": "python",
   "name": "conda_python3"
  },
  "language_info": {
   "codemirror_mode": {
    "name": "ipython",
    "version": 3
   },
   "file_extension": ".py",
   "mimetype": "text/x-python",
   "name": "python",
   "nbconvert_exporter": "python",
   "pygments_lexer": "ipython3",
   "version": "3.6.5"
  }
 },
 "nbformat": 4,
 "nbformat_minor": 2
}
