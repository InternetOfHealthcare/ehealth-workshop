{
 "cells": [
  {
   "cell_type": "markdown",
   "metadata": {},
   "source": [
    "# Reacting to events"
   ]
  },
  {
   "cell_type": "markdown",
   "metadata": {},
   "source": [
    "If a friend has high blood pressure we better let them know!\n",
    "\n",
    "We'll need some stuff prom those previous notebooks..."
   ]
  },
  {
   "cell_type": "code",
   "execution_count": 34,
   "metadata": {},
   "outputs": [],
   "source": [
    "#Hour and minute when this started to create unique names\n",
    "%store -r unique\n",
    "#Home directory of the user running this notebook\n",
    "%store -r home\n",
    "#Private key file name, for AWS IoT authentication\n",
    "%store -r private_key\n",
    "#Certificate file name, for AWS IoT authentication\n",
    "%store -r certificate_file\n",
    "#Certificate authority file name, for AWS IoT authentication\n",
    "%store -r ca_file\n",
    "#Address to connect using MQTT\n",
    "%store -r endpoint_address\n",
    "#The name of the topic to send MQTT messages to\n",
    "%store -r topic_name\n",
    "#A sample message payload\n",
    "%store -r payload"
   ]
  },
  {
   "cell_type": "markdown",
   "metadata": {},
   "source": [
    "In this example we are going to emmit a simple print to the logs.\n",
    "\n",
    "This is your code and could do anything: send an em-mail, a tweet, a phone call..."
   ]
  },
  {
   "cell_type": "code",
   "execution_count": 35,
   "metadata": {},
   "outputs": [],
   "source": [
    "# %load hypertension.py\n",
    "def on_hbp(event, context):\n",
    "    name = event['name']\n",
    "    print(\"High blood pressure detected. Take care {}!\".format(name))\n"
   ]
  },
  {
   "cell_type": "markdown",
   "metadata": {},
   "source": [
    "To create a lambda function we need to:\n",
    "\n",
    "- Create a zip package with the code"
   ]
  },
  {
   "cell_type": "code",
   "execution_count": 36,
   "metadata": {},
   "outputs": [
    {
     "name": "stdout",
     "output_type": "stream",
     "text": [
      "\tzip warning: /home/ec2-user/aws_iot/hypertensionehw3758579571.zip not found or empty\r\n",
      "  adding: hypertension.py (deflated 11%)\r\n"
     ]
    },
    {
     "data": {
      "text/plain": [
       "'/home/ec2-user/aws_iot/hypertensionehw3758579571.zip'"
      ]
     },
     "execution_count": 36,
     "metadata": {},
     "output_type": "execute_result"
    }
   ],
   "source": [
    "zip_file = \"{}/aws_iot/hypertension{}.zip\".format(home,unique) \n",
    "!zip -g {zip_file} hypertension.py\n",
    "zip_file"
   ]
  },
  {
   "cell_type": "markdown",
   "metadata": {},
   "source": [
    "- Create a role authorizing the function execution"
   ]
  },
  {
   "cell_type": "code",
   "execution_count": 37,
   "metadata": {},
   "outputs": [
    {
     "name": "stdout",
     "output_type": "stream",
     "text": [
      "{\n",
      "    \"Version\": \"2012-10-17\",\n",
      "    \"Statement\": [\n",
      "        {\n",
      "            \"Effect\": \"Allow\",\n",
      "            \"Principal\": {\n",
      "                \"Service\": \"lambda.amazonaws.com\"\n",
      "            },\n",
      "            \"Action\": \"sts:AssumeRole\"\n",
      "        }\n",
      "    ]\n",
      "}\n"
     ]
    }
   ],
   "source": [
    "print(open('lambda-trust.json').read())"
   ]
  },
  {
   "cell_type": "code",
   "execution_count": 38,
   "metadata": {},
   "outputs": [
    {
     "data": {
      "text/plain": [
       "'arn:aws:iam::030555009967:role/fn_hbp_role_ehw3758579571'"
      ]
     },
     "execution_count": 38,
     "metadata": {},
     "output_type": "execute_result"
    }
   ],
   "source": [
    "role_name = \"fn_hbp_role_{}\".format(unique) \n",
    "fn_role_arn = !aws iam create-role \\\n",
    "    --role-name {role_name} \\\n",
    "    --assume-role-policy-document file://lambda-trust.json \\\n",
    "    --query Role.Arn \\\n",
    "    --output text\n",
    "fn_role_arn = fn_role_arn.s\n",
    "fn_role_arn"
   ]
  },
  {
   "cell_type": "code",
   "execution_count": 39,
   "metadata": {},
   "outputs": [],
   "source": [
    "policy_arn=\"arn:aws:iam::aws:policy/service-role/AWSLambdaBasicExecutionRole\"\n",
    "!aws iam attach-role-policy \\\n",
    "    --role-name '{role_name}' \\\n",
    "    --policy-arn '{policy_arn}'"
   ]
  },
  {
   "cell_type": "code",
   "execution_count": 40,
   "metadata": {},
   "outputs": [
    {
     "name": "stdout",
     "output_type": "stream",
     "text": [
      "arn:aws:iam::030555009967:role/fn_hbp_role_ehw3758579571\r\n"
     ]
    }
   ],
   "source": [
    "!echo {fn_role_arn}"
   ]
  },
  {
   "cell_type": "markdown",
   "metadata": {},
   "source": [
    "Create the function:"
   ]
  },
  {
   "cell_type": "code",
   "execution_count": 41,
   "metadata": {},
   "outputs": [
    {
     "data": {
      "text/plain": [
       "'on_hbp_ehw3758579571'"
      ]
     },
     "execution_count": 41,
     "metadata": {},
     "output_type": "execute_result"
    }
   ],
   "source": [
    "function_name=\"on_hbp_{}\".format(unique)\n",
    "function_name"
   ]
  },
  {
   "cell_type": "code",
   "execution_count": 42,
   "metadata": {},
   "outputs": [],
   "source": [
    "#Wait for it\n",
    "import time\n",
    "time.sleep(10)"
   ]
  },
  {
   "cell_type": "code",
   "execution_count": 43,
   "metadata": {},
   "outputs": [
    {
     "data": {
      "text/plain": [
       "'arn:aws:lambda:us-east-1:030555009967:function:on_hbp_ehw3758579571'"
      ]
     },
     "execution_count": 43,
     "metadata": {},
     "output_type": "execute_result"
    }
   ],
   "source": [
    "function_arn = !aws lambda create-function \\\n",
    "    --function-name '{function_name}' \\\n",
    "    --zip-file \"fileb://{zip_file}\" \\\n",
    "    --role '{fn_role_arn}' \\\n",
    "    --handler hypertension.on_hbp \\\n",
    "    --runtime python3.6 \\\n",
    "    --timeout 30 \\\n",
    "    --memory-size 128 \\\n",
    "    --query FunctionArn \\\n",
    "    --output text\n",
    "function_arn = function_arn.s\n",
    "function_arn"
   ]
  },
  {
   "cell_type": "markdown",
   "metadata": {},
   "source": [
    "Now let's create the rule that tells AWS IoT to call that function when a message with high blood pressure arrives.\n",
    "\n",
    "For that we need:\n",
    "- The SQL statement capturing messages with the desired condition"
   ]
  },
  {
   "cell_type": "code",
   "execution_count": 44,
   "metadata": {},
   "outputs": [
    {
     "name": "stdout",
     "output_type": "stream",
     "text": [
      "\n",
      "SELECT name, \n",
      "    time_stamp, \n",
      "    systolic, \n",
      "    diastolic, \n",
      "    id, \n",
      "    timestamp() as recv_stamp \n",
      "FROM 'bp_topic/data'\n",
      "WHERE systolic > 120 \n",
      "    OR diastolic > 80\n",
      "\n"
     ]
    }
   ],
   "source": [
    "sql = \"\"\"\n",
    "SELECT name, \n",
    "    time_stamp, \n",
    "    systolic, \n",
    "    diastolic, \n",
    "    id, \n",
    "    timestamp() as recv_stamp \n",
    "FROM '{}'\n",
    "WHERE systolic > 120 \n",
    "    OR diastolic > 80\n",
    "\"\"\".format(topic_name)\n",
    "print(sql)"
   ]
  },
  {
   "cell_type": "markdown",
   "metadata": {},
   "source": [
    "- Authorize the rule to invoke the lambda function\n",
    "\n",
    "https://docs.aws.amazon.com/iot/latest/developerguide/lambda-rule.html"
   ]
  },
  {
   "cell_type": "code",
   "execution_count": 45,
   "metadata": {},
   "outputs": [
    {
     "data": {
      "text/plain": [
       "'/home/ec2-user/rule.json'"
      ]
     },
     "execution_count": 45,
     "metadata": {},
     "output_type": "execute_result"
    }
   ],
   "source": [
    "import json\n",
    "rule = {\n",
    "        \"sql\": sql, \n",
    "        \"ruleDisabled\": False,\n",
    "        \"awsIotSqlVersion\": \"2016-03-23\",\n",
    "        \"actions\": [{\n",
    "            \"lambda\": {\n",
    "                \"functionArn\": function_arn\n",
    "             }\n",
    "        }]}\n",
    "rule = json.dumps(rule, indent=4)\n",
    "rule_file=\"{}/rule.json\".format(home)\n",
    "with open(rule_file, \"w\") as f:\n",
    "    f.write(rule)\n",
    "rule_file"
   ]
  },
  {
   "cell_type": "code",
   "execution_count": 46,
   "metadata": {},
   "outputs": [
    {
     "name": "stdout",
     "output_type": "stream",
     "text": [
      "{\n",
      "    \"sql\": \"\\nSELECT name, \\n    time_stamp, \\n    systolic, \\n    diastolic, \\n    id, \\n    timestamp() as recv_stamp \\nFROM 'bp_topic/data'\\nWHERE systolic > 120 \\n    OR diastolic > 80\\n\",\n",
      "    \"ruleDisabled\": false,\n",
      "    \"awsIotSqlVersion\": \"2016-03-23\",\n",
      "    \"actions\": [\n",
      "        {\n",
      "            \"lambda\": {\n",
      "                \"functionArn\": \"arn:aws:lambda:us-east-1:030555009967:function:on_hbp_ehw3758579571\"\n",
      "            }\n",
      "        }\n",
      "    ]\n",
      "}\n"
     ]
    }
   ],
   "source": [
    "print(open(rule_file).read())"
   ]
  },
  {
   "cell_type": "code",
   "execution_count": 47,
   "metadata": {},
   "outputs": [
    {
     "data": {
      "text/plain": [
       "'bp2lambda_rule_ehw3758579571'"
      ]
     },
     "execution_count": 47,
     "metadata": {},
     "output_type": "execute_result"
    }
   ],
   "source": [
    "rule_name=\"bp2lambda_rule_{}\".format(unique)\n",
    "!aws iot create-topic-rule \\\n",
    "  --rule-name '{rule_name}' \\\n",
    "  --topic-rule-payload file://{rule_file}\n",
    "rule_name"
   ]
  },
  {
   "cell_type": "code",
   "execution_count": 48,
   "metadata": {},
   "outputs": [
    {
     "data": {
      "text/plain": [
       "'arn:aws:iot:us-east-1:030555009967:rule/bp2lambda_rule_ehw3758579571'"
      ]
     },
     "execution_count": 48,
     "metadata": {},
     "output_type": "execute_result"
    }
   ],
   "source": [
    "rule_arn=!aws iot get-topic-rule --rule-name '{rule_name}' --query ruleArn --output text\n",
    "rule_arn = rule_arn.s\n",
    "rule_arn"
   ]
  },
  {
   "cell_type": "code",
   "execution_count": 49,
   "metadata": {},
   "outputs": [
    {
     "data": {
      "text/plain": [
       "'030555009967'"
      ]
     },
     "execution_count": 49,
     "metadata": {},
     "output_type": "execute_result"
    }
   ],
   "source": [
    "account_id=!aws sts get-caller-identity --query Account --output text\n",
    "account_id =account_id.s\n",
    "account_id"
   ]
  },
  {
   "cell_type": "code",
   "execution_count": 50,
   "metadata": {},
   "outputs": [
    {
     "data": {
      "text/plain": [
       "'statement_ehw3758579571'"
      ]
     },
     "execution_count": 50,
     "metadata": {},
     "output_type": "execute_result"
    }
   ],
   "source": [
    "unique_id = \"statement_{}\".format(unique)\n",
    "unique_id"
   ]
  },
  {
   "cell_type": "code",
   "execution_count": 51,
   "metadata": {},
   "outputs": [
    {
     "name": "stdout",
     "output_type": "stream",
     "text": [
      "{\r\n",
      "    \"Statement\": \"{\\\"Sid\\\":\\\"statement_ehw3758579571\\\",\\\"Effect\\\":\\\"Allow\\\",\\\"Principal\\\":{\\\"Service\\\":\\\"iot.amazonaws.com\\\"},\\\"Action\\\":\\\"lambda:InvokeFunction\\\",\\\"Resource\\\":\\\"arn:aws:lambda:us-east-1:030555009967:function:on_hbp_ehw3758579571\\\",\\\"Condition\\\":{\\\"StringEquals\\\":{\\\"AWS:SourceAccount\\\":\\\"030555009967\\\"},\\\"ArnLike\\\":{\\\"AWS:SourceArn\\\":\\\"arn:aws:iot:us-east-1:030555009967:rule/bp2lambda_rule_ehw3758579571\\\"}}}\"\r\n",
      "}\r\n"
     ]
    }
   ],
   "source": [
    "!aws lambda add-permission \\\n",
    "    --function-name \"{function_name}\" \\\n",
    "    --principal iot.amazonaws.com \\\n",
    "    --source-arn '{rule_arn}' \\\n",
    "    --source-account \"{account_id}\" \\\n",
    "    --statement-id \"{unique_id}\" \\\n",
    "    --action \"lambda:InvokeFunction\""
   ]
  },
  {
   "cell_type": "markdown",
   "metadata": {},
   "source": [
    "# Triggering the rule"
   ]
  },
  {
   "cell_type": "code",
   "execution_count": 52,
   "metadata": {},
   "outputs": [
    {
     "data": {
      "text/plain": [
       "<AWSIoTPythonSDK.MQTTLib.AWSIoTMQTTClient at 0x7f0ce81d3da0>"
      ]
     },
     "execution_count": 52,
     "metadata": {},
     "output_type": "execute_result"
    }
   ],
   "source": [
    "from AWSIoTPythonSDK.MQTTLib import AWSIoTMQTTClient\n",
    "\n",
    "client_id=\"bp_client_{}\".format(unique) \n",
    "mqtt = AWSIoTMQTTClient(client_id)\n",
    "mqtt.configureEndpoint(endpoint_address, 8883)\n",
    "mqtt.configureCredentials(ca_file, private_key, certificate_file)\n",
    "mqtt.configureConnectDisconnectTimeout(600)\n",
    "mqtt.connect()\n",
    "mqtt"
   ]
  },
  {
   "cell_type": "code",
   "execution_count": 53,
   "metadata": {},
   "outputs": [
    {
     "name": "stdout",
     "output_type": "stream",
     "text": [
      "{\n",
      "    \"id\": \"fa91d2de-24a1-4052-8b58-4f2ab743f20k\",\n",
      "    \"name\": \"Rose Tyle\",\n",
      "    \"systolic\": 130,\n",
      "    \"diastolic\": 90,\n",
      "    \"time_stamp\": 1541059348245\n",
      "}\n"
     ]
    }
   ],
   "source": [
    "data = {\"id\": \"fa91d2de-24a1-4052-8b58-4f2ab743f20k\",\n",
    "        \"name\": \"Rose Tyle\", \n",
    "        \"systolic\": 130, \n",
    "        \"diastolic\": 90, \n",
    "        \"time_stamp\": 1541059348245}\n",
    "import json\n",
    "msg = json.dumps(data, indent=4)\n",
    "mqtt.publish(topic_name, msg , QoS = 0)\n",
    "print(msg)"
   ]
  },
  {
   "cell_type": "code",
   "execution_count": 54,
   "metadata": {},
   "outputs": [],
   "source": [
    "#Wait for it\n",
    "import time\n",
    "time.sleep(5)"
   ]
  },
  {
   "cell_type": "code",
   "execution_count": 55,
   "metadata": {},
   "outputs": [
    {
     "name": "stdout",
     "output_type": "stream",
     "text": [
      "/aws/lambda/on_hbp_ehw3758579571\n",
      "{\n",
      "    \"logGroups\": [\n",
      "        {\n",
      "            \"logGroupName\": \"/aws/lambda/on_hbp_ehw3758579571\",\n",
      "            \"creationTime\": 1541151561677,\n",
      "            \"metricFilterCount\": 0,\n",
      "            \"arn\": \"arn:aws:logs:us-east-1:030555009967:log-group:/aws/lambda/on_hbp_ehw3758579571:*\",\n",
      "            \"storedBytes\": 0\n",
      "        }\n",
      "    ]\n",
      "}\n"
     ]
    }
   ],
   "source": [
    "log_group=\"/aws/lambda/{}\".format(function_name)\n",
    "print(log_group)\n",
    "!aws logs describe-log-groups --log-group-name-prefix '{log_group}'"
   ]
  },
  {
   "cell_type": "code",
   "execution_count": 68,
   "metadata": {},
   "outputs": [
    {
     "data": {
      "text/plain": [
       "'2018/11/01/[$LATEST]564ffab1fae0421084809accfb64526d'"
      ]
     },
     "execution_count": 68,
     "metadata": {},
     "output_type": "execute_result"
    }
   ],
   "source": [
    "log_stream = !aws logs describe-log-streams \\\n",
    "    --log-group-name '{log_group}' \\\n",
    "    --order-by LastEventTime \\\n",
    "    --max-items 1  \\\n",
    "    --query 'logStreams[0].logStreamName'\\\n",
    "    --output text\n",
    "log_stream = log_stream.s\n",
    "log_stream"
   ]
  },
  {
   "cell_type": "markdown",
   "metadata": {},
   "source": [
    "Check for our messages in the logs:"
   ]
  },
  {
   "cell_type": "code",
   "execution_count": 58,
   "metadata": {},
   "outputs": [
    {
     "name": "stdout",
     "output_type": "stream",
     "text": [
      "\r\n",
      "An error occurred (InvalidParameterException) when calling the GetLogEvents operation: 1 validation error detected: Value '{log_group}' at 'logGroupName' failed to satisfy constraint: Member must satisfy regular expression pattern: [\\.\\-_/#A-Za-z0-9]+\r\n"
     ]
    }
   ],
   "source": [
    "!aws logs get-log-events \\\n",
    "    --log-group-name '{log_group}' \\\n",
    "    --log-stream-name '{log_stream}' \\\n",
    "    --query 'events[].message' \\\n",
    "    --output text "
   ]
  },
  {
   "cell_type": "code",
   "execution_count": 59,
   "metadata": {},
   "outputs": [
    {
     "data": {
      "text/plain": [
       "True"
      ]
     },
     "execution_count": 59,
     "metadata": {},
     "output_type": "execute_result"
    }
   ],
   "source": [
    "mqtt.disconnect()"
   ]
  },
  {
   "cell_type": "markdown",
   "metadata": {
    "collapsed": true
   },
   "source": [
    "Thank you! That is it for now, time to build \\o/\n",
    "\n",
    "Keep updated with new releases of this workshop at https://internetof.healthcare"
   ]
  }
 ],
 "metadata": {
  "kernelspec": {
   "display_name": "conda_python3",
   "language": "python",
   "name": "conda_python3"
  },
  "language_info": {
   "codemirror_mode": {
    "name": "ipython",
    "version": 3
   },
   "file_extension": ".py",
   "mimetype": "text/x-python",
   "name": "python",
   "nbconvert_exporter": "python",
   "pygments_lexer": "ipython3",
   "version": "3.6.5"
  }
 },
 "nbformat": 4,
 "nbformat_minor": 2
}
