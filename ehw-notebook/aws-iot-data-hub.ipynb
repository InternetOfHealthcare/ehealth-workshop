{
 "cells": [
  {
   "cell_type": "markdown",
   "metadata": {},
   "source": [
    "# AWS IoT - Subscribing to External AWS IoT Account Topics \n"
   ]
  },
  {
   "cell_type": "markdown",
   "metadata": {},
   "source": [
    "Now we are going to subscribe our sensors topic to start receiving real data. We are going to use a temporary certificate to access the MQTT topic during this workshop."
   ]
  },
  {
   "cell_type": "markdown",
   "metadata": {},
   "source": [
    "### Let's recover some data and stablish a MQTT connection with our own AWS Account & thing"
   ]
  },
  {
   "cell_type": "code",
   "execution_count": 3,
   "metadata": {},
   "outputs": [
    {
     "data": {
      "text/plain": [
       "<AWSIoTPythonSDK.MQTTLib.AWSIoTMQTTClient at 0x7f7334392470>"
      ]
     },
     "execution_count": 3,
     "metadata": {},
     "output_type": "execute_result"
    }
   ],
   "source": [
    "#Hour and minute when this started to create unique names\n",
    "%store -r HM\n",
    "#Home directory of the user running this notebook\n",
    "%store -r home\n",
    "#Private key file name, for AWS IoT authentication\n",
    "%store -r private_key\n",
    "#Certificate file name, for AWS IoT authentication\n",
    "%store -r certificate_file\n",
    "#Certificate authority file name, for AWS IoT authentication\n",
    "%store -r ca_file\n",
    "#Address to connect using MQTT\n",
    "%store -r endpoint_address\n",
    "\n",
    "from AWSIoTPythonSDK.MQTTLib import AWSIoTMQTTClient\n",
    "\n",
    "client_id=\"NotebookCient{}\".format(HM)\n",
    "mqtt = AWSIoTMQTTClient(client_id)\n",
    "mqtt.configureEndpoint(endpoint_address, 8883)\n",
    "mqtt.configureCredentials(ca_file, private_key, certificate_file)\n",
    "mqtt.configureConnectDisconnectTimeout(10)\n",
    "mqtt.connect()\n",
    "mqtt"
   ]
  },
  {
   "cell_type": "code",
   "execution_count": 4,
   "metadata": {},
   "outputs": [
    {
     "name": "stdout",
     "output_type": "stream",
     "text": [
      "Stored 'hub_certificate_file' (str)\n",
      "Stored 'hub_public_key' (str)\n",
      "Stored 'hub_private_key' (str)\n",
      "Stored 'hub_ca_file' (str)\n"
     ]
    }
   ],
   "source": [
    "\n",
    "! mkdir -p \"{home}/aws_iot_hub\"\n",
    "\n",
    "hub_certificate_file = \"{}/aws_iot_hub/certificate-hub.pem\".format(home)\n",
    "hub_public_key = \"{}/aws_iot_hub/public-key-hub.pem\".format(home)\n",
    "hub_private_key = \"{}/aws_iot_hub/private-key-hub.pem\".format(home)\n",
    "hub_ca_file = \"{}/aws_iot_hub/ca.pem\".format(home)\n",
    "\n",
    "%store hub_certificate_file\n",
    "%store hub_public_key\n",
    "%store hub_private_key\n",
    "%store hub_ca_file\n"
   ]
  },
  {
   "cell_type": "code",
   "execution_count": null,
   "metadata": {},
   "outputs": [],
   "source": [
    "! wget https://s3.amazonaws.com/healthcare-workshop/certificate-hub.pem -O {hub_certificate_file}\n",
    "! wget https://s3.amazonaws.com/healthcare-workshop/public-key-hub.pem -O {hub_public_key}\n",
    "! wget https://s3.amazonaws.com/healthcare-workshop/private-key-hub.pem -O {hub_private_key}\n",
    "! wget https://www.symantec.com/content/en/us/enterprise/verisign/roots/VeriSign-Class%203-Public-Primary-Certification-Authority-G5.pem -O {hub_ca_file}\n"
   ]
  },
  {
   "cell_type": "markdown",
   "metadata": {},
   "source": [
    "Double check that you have the 4 files required for TLS mutual authentication used by AWS IoT\n",
    "1. Private Key\n",
    "1. Public Key\n",
    "1. Certificate\n",
    "1. Root CA"
   ]
  },
  {
   "cell_type": "code",
   "execution_count": 5,
   "metadata": {},
   "outputs": [
    {
     "name": "stdout",
     "output_type": "stream",
     "text": [
      "Private Key /home/ec2-user/aws_iot_hub/private-key-hub.pem found\n",
      "Public Key /home/ec2-user/aws_iot_hub/public-key-hub.pem found\n",
      "Certificate /home/ec2-user/aws_iot_hub/certificate-hub.pem found\n",
      "Certification Authority /home/ec2-user/aws_iot_hub/ca.pem found"
     ]
    }
   ],
   "source": [
    "! printf \"Private Key {hub_private_key} \" && [ -f {hub_private_key} ] && printf \"found\" || printf \"not found\"\n",
    "! printf \"\\nPublic Key {hub_public_key} \" && [ -f {hub_public_key} ] && printf \"found\" || printf \"not found\"\n",
    "! printf \"\\nCertificate {hub_certificate_file} \" && [ -f {hub_certificate_file} ] && printf \"found\" || printf \"not found\"\n",
    "! printf \"\\nCertification Authority {hub_ca_file} \" && [ -f {hub_ca_file} ] && printf \"found\" || printf \"not found\""
   ]
  },
  {
   "cell_type": "markdown",
   "metadata": {},
   "source": [
    "# Connecting to our AWS IoT Account  - Workshop Data Hub"
   ]
  },
  {
   "cell_type": "markdown",
   "metadata": {},
   "source": [
    "AWS IoT provides account-specific endpoints for your things to connect. We are using the instructor workshop endpoint at this time:"
   ]
  },
  {
   "cell_type": "code",
   "execution_count": 6,
   "metadata": {},
   "outputs": [
    {
     "name": "stdout",
     "output_type": "stream",
     "text": [
      "Stored 'hub_endpoint_address' (str)\n"
     ]
    },
    {
     "data": {
      "text/plain": [
       "'a2enzbgohiblz2.iot.us-east-1.amazonaws.com'"
      ]
     },
     "execution_count": 6,
     "metadata": {},
     "output_type": "execute_result"
    }
   ],
   "source": [
    "hub_endpoint_address = \"a2enzbgohiblz2.iot.us-east-1.amazonaws.com\"\n",
    "%store hub_endpoint_address\n",
    "hub_endpoint_address"
   ]
  },
  {
   "cell_type": "markdown",
   "metadata": {
    "collapsed": true
   },
   "source": [
    "Ready to go! Create your MQTT client instance:"
   ]
  },
  {
   "cell_type": "code",
   "execution_count": 7,
   "metadata": {},
   "outputs": [
    {
     "data": {
      "text/plain": [
       "<AWSIoTPythonSDK.MQTTLib.AWSIoTMQTTClient at 0x7f7334387cf8>"
      ]
     },
     "execution_count": 7,
     "metadata": {},
     "output_type": "execute_result"
    }
   ],
   "source": [
    "from AWSIoTPythonSDK.MQTTLib import AWSIoTMQTTClient\n",
    "\n",
    "client_id=\"NotebookCient{}\".format(HM)\n",
    "mqtt_hub = AWSIoTMQTTClient(client_id)\n",
    "mqtt_hub.configureEndpoint(hub_endpoint_address, 8883)\n",
    "mqtt_hub.configureCredentials(hub_ca_file, hub_private_key, hub_certificate_file)\n",
    "mqtt_hub.configureConnectDisconnectTimeout(10)\n",
    "mqtt_hub.connect()\n",
    "mqtt_hub"
   ]
  },
  {
   "cell_type": "markdown",
   "metadata": {},
   "source": [
    "# Forward Data Hub MQTT messages to our Account / Thing"
   ]
  },
  {
   "cell_type": "code",
   "execution_count": 10,
   "metadata": {},
   "outputs": [
    {
     "name": "stdout",
     "output_type": "stream",
     "text": [
      "Stored 'hub_topic_name_in' (str)\n"
     ]
    },
    {
     "data": {
      "text/plain": [
       "True"
      ]
     },
     "execution_count": 10,
     "metadata": {},
     "output_type": "execute_result"
    },
    {
     "name": "stdout",
     "output_type": "stream",
     "text": [
      "\n",
      "Received a new message: \n",
      "\n",
      "{ \"on\" : true}\n",
      "\n",
      "--------------\n",
      "\n"
     ]
    }
   ],
   "source": [
    "hub_topic_name_in =\"healthcare/bloodpressure\"\n",
    "my_topic_out = \"myhealthcare\"\n",
    "%store hub_topic_name_in\n",
    "\n",
    "subscribe_qos = 1\n",
    "publish_qos = 0\n",
    "\n",
    "def custom_callback(client, userdata, message):\n",
    "    print(\"\\nReceived a new message: \\n\")\n",
    "    print(message.payload.decode(\"utf-8\") )\n",
    "    mqtt.publish(my_topic_out, message.payload.decode(\"utf-8\"), publish_qos)\n",
    "    print(\"\\n--------------\\n\")\n",
    "    \n",
    "mqtt_hub.subscribe(hub_topic_name_in, subscribe_qos, custom_callback)"
   ]
  },
  {
   "cell_type": "markdown",
   "metadata": {},
   "source": [
    "Now are going to forward the received message from Data Hub to our Thing in our account:"
   ]
  },
  {
   "cell_type": "code",
   "execution_count": null,
   "metadata": {},
   "outputs": [],
   "source": [
    "subscribe_qos = 1\n",
    "publish_qos = 0\n",
    "pub_topic_name=\"myHealthcare\"\n",
    "def custom_callback1(client, userdata, message):\n",
    "    print(\"\\nReceived a new message: \\n\")\n",
    "    print(message.payload.decode(\"utf-8\").decode(\"utf-8\") )\n",
    "    mqtt.publish(pub_topic_name, message.payload, publish_qos)\n",
    "    print(\"\\n--------------\\n\")\n",
    "    \n",
    "mqtt_hub.subscribe(hub_topic_name, subscribe_qos, custom_callback1)"
   ]
  },
  {
   "cell_type": "markdown",
   "metadata": {
    "collapsed": true
   },
   "source": [
    "All working fine, done for now, disconnect."
   ]
  },
  {
   "cell_type": "code",
   "execution_count": null,
   "metadata": {},
   "outputs": [],
   "source": [
    "mqtt.disconnect()\n",
    "mqtt_hub.disconnect()\n"
   ]
  },
  {
   "cell_type": "markdown",
   "metadata": {},
   "source": [
    "Now we don't want to loose this data, right?\n",
    "Let's proceed to the [Storing Telemetry Data](aws-iot-storing-telemetry.ipynb) notebook right now!"
   ]
  },
  {
   "cell_type": "code",
   "execution_count": null,
   "metadata": {
    "collapsed": true
   },
   "outputs": [],
   "source": []
  }
 ],
 "metadata": {
  "kernelspec": {
   "display_name": "Python 3",
   "language": "python",
   "name": "python3"
  },
  "language_info": {
   "codemirror_mode": {
    "name": "ipython",
    "version": 3
   },
   "file_extension": ".py",
   "mimetype": "text/x-python",
   "name": "python",
   "nbconvert_exporter": "python",
   "pygments_lexer": "ipython3",
   "version": "3.6.3"
  }
 },
 "nbformat": 4,
 "nbformat_minor": 2
}
