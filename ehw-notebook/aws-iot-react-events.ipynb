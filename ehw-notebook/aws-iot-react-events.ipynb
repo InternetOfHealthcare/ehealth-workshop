{
 "cells": [
  {
   "cell_type": "markdown",
   "metadata": {},
   "source": [
    "# Part 3: Reacting to events"
   ]
  },
  {
   "cell_type": "markdown",
   "metadata": {},
   "source": [
    "If a friend has high blood pressure we better let them know!\n",
    "\n",
    "We'll need some stuff prom those previous notebooks..."
   ]
  },
  {
   "cell_type": "code",
   "execution_count": null,
   "metadata": {},
   "outputs": [],
   "source": [
    "#Hour and minute when this started to create unique names\n",
    "%store -r HM\n",
    "#Home directory of the user running this notebook\n",
    "%store -r home\n",
    "#Private key file name, for AWS IoT authentication\n",
    "%store -r private_key\n",
    "#Certificate file name, for AWS IoT authentication\n",
    "%store -r certificate_file\n",
    "#Certificate authority file name, for AWS IoT authentication\n",
    "%store -r ca_file\n",
    "#Address to connect using MQTT\n",
    "%store -r endpoint_address\n",
    "#The name of the topic to send MQTT messages to\n",
    "%store -r topic_name\n",
    "#A list of sample messages\n",
    "%store -r payloads\n",
    "#A sample message payload\n",
    "%store -r payload"
   ]
  },
  {
   "cell_type": "markdown",
   "metadata": {},
   "source": [
    "Let's start with a very simple function that logs a simple message.\n",
    "\n",
    "\n",
    "This is your code and could do anything: send an em-mail, a tweet, a phone call..."
   ]
  },
  {
   "cell_type": "code",
   "execution_count": null,
   "metadata": {},
   "outputs": [],
   "source": [
    "# %load hypertension.py\n",
    "def on_hbp(event, context):\n",
    "    name = event['name']\n",
    "    print(\"High blood pressure detected. Take care {}!\".format(name))\n"
   ]
  },
  {
   "cell_type": "markdown",
   "metadata": {},
   "source": [
    "To create a lambda function we need to:\n",
    "\n",
    "- Create a zip package with the code"
   ]
  },
  {
   "cell_type": "code",
   "execution_count": null,
   "metadata": {},
   "outputs": [],
   "source": [
    "zip_file = \"{}/aws_iot/hypertension{}.zip\".format(home,HM) \n",
    "!zip -g {zip_file} hypertension.py\n",
    "zip_file"
   ]
  },
  {
   "cell_type": "markdown",
   "metadata": {},
   "source": [
    "- Create a role authorizing the function execution"
   ]
  },
  {
   "cell_type": "code",
   "execution_count": null,
   "metadata": {},
   "outputs": [],
   "source": [
    "print(open('lambda-trust.json').read())"
   ]
  },
  {
   "cell_type": "code",
   "execution_count": null,
   "metadata": {},
   "outputs": [],
   "source": [
    "role_name = \"fn_hbp_role{}\".format(HM) \n",
    "fn_role_arn = !aws iam create-role \\\n",
    "    --role-name {role_name} \\\n",
    "    --assume-role-policy-document file://lambda-trust.json \\\n",
    "    --query Role.Arn \\\n",
    "    --output text\n",
    "fn_role_arn = fn_role_arn.s\n",
    "fn_role_arn"
   ]
  },
  {
   "cell_type": "code",
   "execution_count": null,
   "metadata": {},
   "outputs": [],
   "source": [
    "policy_arn=\"arn:aws:iam::aws:policy/service-role/AWSLambdaBasicExecutionRole\"\n",
    "!aws iam attach-role-policy \\\n",
    "    --role-name '{role_name}' \\\n",
    "    --policy-arn '{policy_arn}'"
   ]
  },
  {
   "cell_type": "code",
   "execution_count": null,
   "metadata": {},
   "outputs": [],
   "source": [
    "!echo {fn_role_arn}"
   ]
  },
  {
   "cell_type": "markdown",
   "metadata": {},
   "source": [
    "Create the function:"
   ]
  },
  {
   "cell_type": "code",
   "execution_count": null,
   "metadata": {},
   "outputs": [],
   "source": [
    "function_name=\"on_hbp{}\".format(HM)\n",
    "function_name"
   ]
  },
  {
   "cell_type": "code",
   "execution_count": null,
   "metadata": {},
   "outputs": [],
   "source": [
    "function_arn = !aws lambda create-function \\\n",
    "    --function-name '{function_name}' \\\n",
    "    --zip-file \"fileb://{zip_file}\" \\\n",
    "    --role '{fn_role_arn}' \\\n",
    "    --handler hypertension.on_hbp \\\n",
    "    --runtime python3.6 \\\n",
    "    --timeout 30 \\\n",
    "    --memory-size 128 \\\n",
    "    --query FunctionArn \\\n",
    "    --output text\n",
    "function_arn = function_arn.s\n",
    "function_arn"
   ]
  },
  {
   "cell_type": "markdown",
   "metadata": {},
   "source": [
    "Now let's create the rule that tells AWS IoT to call that function when a message with high blood pressure arrives.\n",
    "\n",
    "For that we need:\n",
    "- The SQL statement capturing messages with the desired condition"
   ]
  },
  {
   "cell_type": "code",
   "execution_count": null,
   "metadata": {},
   "outputs": [],
   "source": [
    "sql = \"\"\"\n",
    "SELECT name, \n",
    "    time_stamp, \n",
    "    systolic, \n",
    "    diastolic, \n",
    "    id, \n",
    "    timestamp() as recv_stamp \n",
    "FROM '{}'\n",
    "WHERE systolic > 120 \n",
    "    OR diastolic > 80\n",
    "\"\"\".format(topic_name)\n",
    "print(sql)"
   ]
  },
  {
   "cell_type": "markdown",
   "metadata": {},
   "source": [
    "- Authorize the rule to invoke the lambda function\n",
    "\n",
    "https://docs.aws.amazon.com/iot/latest/developerguide/lambda-rule.html"
   ]
  },
  {
   "cell_type": "code",
   "execution_count": null,
   "metadata": {},
   "outputs": [],
   "source": [
    "import json\n",
    "rule = {\n",
    "        \"sql\": sql, \n",
    "        \"ruleDisabled\": False,\n",
    "        \"awsIotSqlVersion\": \"2016-03-23\",\n",
    "        \"actions\": [{\n",
    "            \"lambda\": {\n",
    "                \"functionArn\": function_arn\n",
    "             }\n",
    "        }]}\n",
    "rule = json.dumps(rule)\n",
    "rule_file=\"{}/rule.json\".format(home)\n",
    "with open(rule_file, \"w\") as f:\n",
    "    f.write(rule)\n",
    "rule_file"
   ]
  },
  {
   "cell_type": "code",
   "execution_count": null,
   "metadata": {},
   "outputs": [],
   "source": [
    "print(open(rule_file).read())"
   ]
  },
  {
   "cell_type": "code",
   "execution_count": null,
   "metadata": {},
   "outputs": [],
   "source": [
    "rule_name=\"bp2lambda_rule{}\".format(HM)\n",
    "!aws iot create-topic-rule \\\n",
    "  --rule-name '{rule_name}' \\\n",
    "  --topic-rule-payload file://{rule_file}\n",
    "rule_name"
   ]
  },
  {
   "cell_type": "code",
   "execution_count": null,
   "metadata": {},
   "outputs": [],
   "source": [
    "rule_arn=!aws iot get-topic-rule --rule-name '{rule_name}' --query ruleArn --output text\n",
    "rule_arn = rule_arn.s\n",
    "rule_arn"
   ]
  },
  {
   "cell_type": "code",
   "execution_count": null,
   "metadata": {},
   "outputs": [],
   "source": [
    "account_id=!aws sts get-caller-identity --query Account --output text\n",
    "account_id =account_id.s\n",
    "account_id"
   ]
  },
  {
   "cell_type": "code",
   "execution_count": null,
   "metadata": {},
   "outputs": [],
   "source": [
    "unique_id = \"unique{}\".format(HM)\n",
    "unique_id"
   ]
  },
  {
   "cell_type": "code",
   "execution_count": null,
   "metadata": {},
   "outputs": [],
   "source": [
    "!aws lambda add-permission \\\n",
    "    --function-name \"{function_name}\" \\\n",
    "    --principal iot.amazonaws.com \\\n",
    "    --source-arn '{rule_arn}' \\\n",
    "    --source-account \"{account_id}\" \\\n",
    "    --statement-id \"{unique_id}\" \\\n",
    "    --action \"lambda:InvokeFunction\""
   ]
  },
  {
   "cell_type": "code",
   "execution_count": null,
   "metadata": {},
   "outputs": [],
   "source": [
    "from AWSIoTPythonSDK.MQTTLib import AWSIoTMQTTClient\n",
    "\n",
    "client_id=\"NotebookCient{}\".format(HM) \n",
    "mqtt = AWSIoTMQTTClient(client_id)\n",
    "mqtt.configureEndpoint(endpoint_address, 8883)\n",
    "mqtt.configureCredentials(ca_file, private_key, certificate_file)\n",
    "mqtt.configureConnectDisconnectTimeout(10)\n",
    "mqtt.connect()\n",
    "mqtt"
   ]
  },
  {
   "cell_type": "code",
   "execution_count": null,
   "metadata": {},
   "outputs": [],
   "source": [
    "import random\n",
    "payload = random.choice(payloads)\n",
    "print(payload)\n",
    "mqtt.publish(topic_name, payload , QoS = 0)"
   ]
  },
  {
   "cell_type": "code",
   "execution_count": null,
   "metadata": {},
   "outputs": [],
   "source": [
    "log_group=\"/aws/lambda/{}\".format(function_name)\n",
    "print(log_group)\n",
    "!aws logs describe-log-groups --log-group-name-prefix '{log_group}'"
   ]
  },
  {
   "cell_type": "code",
   "execution_count": null,
   "metadata": {},
   "outputs": [],
   "source": [
    "log_stream = !aws logs describe-log-streams \\\n",
    "    --log-group-name '{log_group}' \\\n",
    "    --order-by LastEventTime \\\n",
    "    --max-items 1  \\\n",
    "    --query 'logStreams[0].logStreamName'\\\n",
    "    --output text\n",
    "log_stream = log_stream.s\n",
    "log_stream"
   ]
  },
  {
   "cell_type": "code",
   "execution_count": null,
   "metadata": {},
   "outputs": [],
   "source": [
    "!aws logs get-log-events \\\n",
    "    --log-group-name '{log_group}' \\\n",
    "    --log-stream-name '{log_stream}' \\\n",
    "    --query 'events[].message' \\\n",
    "    --output text "
   ]
  },
  {
   "cell_type": "code",
   "execution_count": null,
   "metadata": {},
   "outputs": [],
   "source": [
    "mqtt.disconnect()"
   ]
  },
  {
   "cell_type": "markdown",
   "metadata": {
    "collapsed": true
   },
   "source": [
    "Now let's have some fun accessing real things.Let's see how we can use certificates to allow access from other AWS IoT Core Accounts. [Click here to start controling other things!](aws-iot-other-things.ipynb)"
   ]
  },
  {
   "cell_type": "code",
   "execution_count": null,
   "metadata": {},
   "outputs": [],
   "source": []
  }
 ],
 "metadata": {
  "kernelspec": {
   "display_name": "conda_python3",
   "language": "python",
   "name": "conda_python3"
  },
  "language_info": {
   "codemirror_mode": {
    "name": "ipython",
    "version": 3
   },
   "file_extension": ".py",
   "mimetype": "text/x-python",
   "name": "python",
   "nbconvert_exporter": "python",
   "pygments_lexer": "ipython3",
   "version": "3.6.5"
  }
 },
 "nbformat": 4,
 "nbformat_minor": 2
}
