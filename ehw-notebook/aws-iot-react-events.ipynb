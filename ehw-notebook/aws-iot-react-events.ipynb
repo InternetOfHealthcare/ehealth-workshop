{
 "cells": [
  {
   "cell_type": "markdown",
   "metadata": {},
   "source": [
    "# Reacting to events"
   ]
  },
  {
   "cell_type": "markdown",
   "metadata": {},
   "source": [
    "If a friend has high blood pressure we better let them know!\n",
    "\n",
    "We'll need some stuff prom those previous notebooks..."
   ]
  },
  {
   "cell_type": "code",
   "execution_count": 109,
   "metadata": {},
   "outputs": [],
   "source": [
    "#Hour and minute when this started to create unique names\n",
    "%store -r HM\n",
    "#Home directory of the user running this notebook\n",
    "%store -r home\n",
    "#Private key file name, for AWS IoT authentication\n",
    "%store -r private_key\n",
    "#Certificate file name, for AWS IoT authentication\n",
    "%store -r certificate_file\n",
    "#Certificate authority file name, for AWS IoT authentication\n",
    "%store -r ca_file\n",
    "#Address to connect using MQTT\n",
    "%store -r endpoint_address\n",
    "#The name of the topic to send MQTT messages to\n",
    "%store -r topic_name\n",
    "#A list of sample messages\n",
    "%store -r payloads\n",
    "#A sample message payload\n",
    "%store -r payload"
   ]
  },
  {
   "cell_type": "markdown",
   "metadata": {},
   "source": [
    "Let's start with a very simple function that logs a simple message.\n",
    "\n",
    "\n",
    "This is your code and could do anything: send an em-mail, a tweet, a phone call..."
   ]
  },
  {
   "cell_type": "code",
   "execution_count": 110,
   "metadata": {
    "collapsed": true
   },
   "outputs": [],
   "source": [
    "# %load hypertension.py\n",
    "def on_hbp(event, context):\n",
    "    name = event['name']\n",
    "    print(\"High blood pressure detected. Take care {name}!\")\n"
   ]
  },
  {
   "cell_type": "markdown",
   "metadata": {},
   "source": [
    "To create a lambda function we need to:\n",
    "\n",
    "- Create a zip package with the code"
   ]
  },
  {
   "cell_type": "code",
   "execution_count": 111,
   "metadata": {},
   "outputs": [
    {
     "name": "stdout",
     "output_type": "stream",
     "text": [
      "\tzip warning: /Users/faermanj/aws_iot/hypertension0545.zip not found or empty\r\n",
      "  adding: hypertension.py (deflated 11%)\r\n"
     ]
    },
    {
     "data": {
      "text/plain": [
       "'/Users/faermanj/aws_iot/hypertension0545.zip'"
      ]
     },
     "execution_count": 111,
     "metadata": {},
     "output_type": "execute_result"
    }
   ],
   "source": [
    "zip_file = f\"{home}/aws_iot/hypertension{HM}.zip\"\n",
    "!zip -g {zip_file} hypertension.py\n",
    "zip_file"
   ]
  },
  {
   "cell_type": "markdown",
   "metadata": {},
   "source": [
    "- Create a role authorizing the function execution"
   ]
  },
  {
   "cell_type": "code",
   "execution_count": 34,
   "metadata": {},
   "outputs": [
    {
     "name": "stdout",
     "output_type": "stream",
     "text": [
      "{\n",
      "    \"Version\": \"2012-10-17\",\n",
      "    \"Statement\": [\n",
      "        {\n",
      "            \"Effect\": \"Allow\",\n",
      "            \"Principal\": {\n",
      "                \"Service\": \"lambda.amazonaws.com\"\n",
      "            },\n",
      "            \"Action\": \"sts:AssumeRole\"\n",
      "        }\n",
      "    ]\n",
      "}\n"
     ]
    }
   ],
   "source": [
    "print(open('lambda-trust.json').read())"
   ]
  },
  {
   "cell_type": "code",
   "execution_count": 112,
   "metadata": {},
   "outputs": [
    {
     "data": {
      "text/plain": [
       "'arn:aws:iam::030555009967:role/fn_hbp_role0545'"
      ]
     },
     "execution_count": 112,
     "metadata": {},
     "output_type": "execute_result"
    }
   ],
   "source": [
    "role_name = f\"fn_hbp_role{HM}\"\n",
    "fn_role_arn = !aws iam create-role \\\n",
    "    --role-name {role_name} \\\n",
    "    --assume-role-policy-document file://lambda-trust.json \\\n",
    "    --query Role.Arn \\\n",
    "    --output text\n",
    "fn_role_arn = fn_role_arn.s\n",
    "fn_role_arn"
   ]
  },
  {
   "cell_type": "code",
   "execution_count": 116,
   "metadata": {
    "collapsed": true
   },
   "outputs": [],
   "source": [
    "policy_arn=\"arn:aws:iam::aws:policy/service-role/AWSLambdaBasicExecutionRole\"\n",
    "!aws iam attach-role-policy \\\n",
    "    --role-name '{role_name}' \\\n",
    "    --policy-arn '{policy_arn}'"
   ]
  },
  {
   "cell_type": "code",
   "execution_count": 117,
   "metadata": {},
   "outputs": [
    {
     "name": "stdout",
     "output_type": "stream",
     "text": [
      "arn:aws:iam::030555009967:role/fn_hbp_role0545\r\n"
     ]
    }
   ],
   "source": [
    "!echo {fn_role_arn}"
   ]
  },
  {
   "cell_type": "markdown",
   "metadata": {},
   "source": [
    "Create the function:"
   ]
  },
  {
   "cell_type": "code",
   "execution_count": 135,
   "metadata": {},
   "outputs": [
    {
     "data": {
      "text/plain": [
       "'on_hbp0545'"
      ]
     },
     "execution_count": 135,
     "metadata": {},
     "output_type": "execute_result"
    }
   ],
   "source": [
    "function_name=f\"on_hbp{HM}\"\n",
    "function_name"
   ]
  },
  {
   "cell_type": "code",
   "execution_count": 118,
   "metadata": {},
   "outputs": [
    {
     "data": {
      "text/plain": [
       "'arn:aws:lambda:us-east-1:030555009967:function:on_hbp0545'"
      ]
     },
     "execution_count": 118,
     "metadata": {},
     "output_type": "execute_result"
    }
   ],
   "source": [
    "function_arn = !aws lambda create-function \\\n",
    "    --function-name '{function_name}' \\\n",
    "    --zip-file \"fileb://{zip_file}\" \\\n",
    "    --role '{fn_role_arn}' \\\n",
    "    --handler hypertension.on_hbp \\\n",
    "    --runtime python3.6 \\\n",
    "    --timeout 30 \\\n",
    "    --memory-size 128 \\\n",
    "    --query FunctionArn \\\n",
    "    --output text\n",
    "function_arn = function_arn.s\n",
    "function_arn"
   ]
  },
  {
   "cell_type": "markdown",
   "metadata": {},
   "source": [
    "Now let's create the rule that tells AWS IoT to call that function when a message with high blood pressure arrives.\n",
    "\n",
    "For that we need:\n",
    "- The SQL statement capturing messages with the desired condition"
   ]
  },
  {
   "cell_type": "code",
   "execution_count": 119,
   "metadata": {},
   "outputs": [
    {
     "name": "stdout",
     "output_type": "stream",
     "text": [
      "\n",
      "SELECT name, \n",
      "    time_stamp, \n",
      "    sistolic, \n",
      "    diastolic, \n",
      "    id, \n",
      "    timestamp() as recv_stamp \n",
      "FROM 'notebook-topic'\n",
      "WHERE sistolic > 120 \n",
      "    OR diastolic > 80\n",
      "\n"
     ]
    }
   ],
   "source": [
    "sql = f\"\"\"\n",
    "SELECT name, \n",
    "    time_stamp, \n",
    "    sistolic, \n",
    "    diastolic, \n",
    "    id, \n",
    "    timestamp() as recv_stamp \n",
    "FROM '{topic_name}'\n",
    "WHERE sistolic > 120 \n",
    "    OR diastolic > 80\n",
    "\"\"\"\n",
    "print(sql)"
   ]
  },
  {
   "cell_type": "markdown",
   "metadata": {},
   "source": [
    "- Authorize the rule to invoke the lambda function\n",
    "\n",
    "https://docs.aws.amazon.com/iot/latest/developerguide/lambda-rule.html"
   ]
  },
  {
   "cell_type": "code",
   "execution_count": 126,
   "metadata": {},
   "outputs": [
    {
     "data": {
      "text/plain": [
       "'/Users/faermanj/rule.json'"
      ]
     },
     "execution_count": 126,
     "metadata": {},
     "output_type": "execute_result"
    }
   ],
   "source": [
    "import json\n",
    "rule = {\n",
    "        \"sql\": sql, \n",
    "        \"ruleDisabled\": False,\n",
    "        \"awsIotSqlVersion\": \"2016-03-23\",\n",
    "        \"actions\": [{\n",
    "            \"lambda\": {\n",
    "                \"functionArn\": function_arn\n",
    "             }\n",
    "        }]}\n",
    "rule = json.dumps(rule)\n",
    "rule_file=f\"{home}/rule.json\" \n",
    "with open(rule_file, \"w\") as f:\n",
    "    f.write(rule)\n",
    "rule_file"
   ]
  },
  {
   "cell_type": "code",
   "execution_count": 127,
   "metadata": {},
   "outputs": [
    {
     "name": "stdout",
     "output_type": "stream",
     "text": [
      "{\"sql\": \"\\nSELECT name, \\n    time_stamp, \\n    sistolic, \\n    diastolic, \\n    id, \\n    timestamp() as recv_stamp \\nFROM 'notebook-topic'\\nWHERE sistolic > 120 \\n    OR diastolic > 80\\n\", \"ruleDisabled\": false, \"awsIotSqlVersion\": \"2016-03-23\", \"actions\": [{\"lambda\": {\"functionArn\": \"arn:aws:lambda:us-east-1:030555009967:function:on_hbp0545\"}}]}\n"
     ]
    }
   ],
   "source": [
    "print(open(rule_file).read())"
   ]
  },
  {
   "cell_type": "code",
   "execution_count": 128,
   "metadata": {},
   "outputs": [
    {
     "name": "stdout",
     "output_type": "stream",
     "text": [
      "\r\n",
      "An error occurred (ResourceAlreadyExistsException) when calling the CreateTopicRule operation: Topic Rule 'bp2lambda_rule0545' already exists for account\r\n"
     ]
    },
    {
     "data": {
      "text/plain": [
       "'bp2lambda_rule0545'"
      ]
     },
     "execution_count": 128,
     "metadata": {},
     "output_type": "execute_result"
    }
   ],
   "source": [
    "rule_name=f\"bp2lambda_rule{HM}\"\n",
    "!aws iot create-topic-rule \\\n",
    "  --rule-name '{rule_name}' \\\n",
    "  --topic-rule-payload file://{rule_file}\n",
    "rule_name"
   ]
  },
  {
   "cell_type": "code",
   "execution_count": 158,
   "metadata": {},
   "outputs": [
    {
     "data": {
      "text/plain": [
       "'arn:aws:iot:us-east-1:030555009967:rule/bp2lambda_rule0545'"
      ]
     },
     "execution_count": 158,
     "metadata": {},
     "output_type": "execute_result"
    }
   ],
   "source": [
    "rule_arn=!aws iot get-topic-rule --rule-name '{rule_name}' --query ruleArn --output text\n",
    "rule_arn = rule_arn.s\n",
    "rule_arn"
   ]
  },
  {
   "cell_type": "code",
   "execution_count": 149,
   "metadata": {},
   "outputs": [
    {
     "data": {
      "text/plain": [
       "'030555009967'"
      ]
     },
     "execution_count": 149,
     "metadata": {},
     "output_type": "execute_result"
    }
   ],
   "source": [
    "account_id=!aws sts get-caller-identity --query Account --output text\n",
    "account_id =account_id.s\n",
    "account_id"
   ]
  },
  {
   "cell_type": "code",
   "execution_count": 159,
   "metadata": {},
   "outputs": [
    {
     "data": {
      "text/plain": [
       "'unique0545'"
      ]
     },
     "execution_count": 159,
     "metadata": {},
     "output_type": "execute_result"
    }
   ],
   "source": [
    "unique_id = f\"unique{HM}\" \n",
    "unique_id"
   ]
  },
  {
   "cell_type": "code",
   "execution_count": 161,
   "metadata": {},
   "outputs": [
    {
     "name": "stdout",
     "output_type": "stream",
     "text": [
      "{\r\n",
      "    \"Statement\": \"{\\\"Sid\\\":\\\"unique0545\\\",\\\"Effect\\\":\\\"Allow\\\",\\\"Principal\\\":{\\\"Service\\\":\\\"iot.amazonaws.com\\\"},\\\"Action\\\":\\\"lambda:InvokeFunction\\\",\\\"Resource\\\":\\\"arn:aws:lambda:us-east-1:030555009967:function:on_hbp0545\\\",\\\"Condition\\\":{\\\"StringEquals\\\":{\\\"AWS:SourceAccount\\\":\\\"030555009967\\\"},\\\"ArnLike\\\":{\\\"AWS:SourceArn\\\":\\\"arn:aws:iot:us-east-1:030555009967:rule/bp2lambda_rule0545\\\"}}}\"\r\n",
      "}\r\n"
     ]
    }
   ],
   "source": [
    "!aws lambda add-permission \\\n",
    "    --function-name \"{function_name}\" \\\n",
    "    --principal iot.amazonaws.com \\\n",
    "    --source-arn '{rule_arn}' \\\n",
    "    --source-account \"{account_id}\" \\\n",
    "    --statement-id \"{unique_id}\" \\\n",
    "    --action \"lambda:InvokeFunction\""
   ]
  },
  {
   "cell_type": "code",
   "execution_count": 162,
   "metadata": {},
   "outputs": [
    {
     "data": {
      "text/plain": [
       "<AWSIoTPythonSDK.MQTTLib.AWSIoTMQTTClient at 0x10402f668>"
      ]
     },
     "execution_count": 162,
     "metadata": {},
     "output_type": "execute_result"
    }
   ],
   "source": [
    "from AWSIoTPythonSDK.MQTTLib import AWSIoTMQTTClient\n",
    "\n",
    "client_id=f\"NotebookCient{HM}\"\n",
    "mqtt = AWSIoTMQTTClient(client_id)\n",
    "mqtt.configureEndpoint(endpoint_address, 8883)\n",
    "mqtt.configureCredentials(ca_file, private_key, certificate_file)\n",
    "mqtt.configureConnectDisconnectTimeout(10)\n",
    "mqtt.connect()\n",
    "mqtt"
   ]
  },
  {
   "cell_type": "code",
   "execution_count": 167,
   "metadata": {},
   "outputs": [
    {
     "name": "stdout",
     "output_type": "stream",
     "text": [
      "{\"id\": \"baacda63-26a3-4a24-941c-dfe8ed2f4485\", \"name\": \"Clara Oswald\", \"sistolic\": 138, \"diastolic\": 98, \"time_stamp\": 1517405078085}\n"
     ]
    },
    {
     "data": {
      "text/plain": [
       "True"
      ]
     },
     "execution_count": 167,
     "metadata": {},
     "output_type": "execute_result"
    }
   ],
   "source": [
    "import random\n",
    "payload = random.choice(payloads)\n",
    "print(payload)\n",
    "mqtt.publish(topic_name, payload , QoS = 0)"
   ]
  },
  {
   "cell_type": "code",
   "execution_count": 168,
   "metadata": {},
   "outputs": [
    {
     "name": "stdout",
     "output_type": "stream",
     "text": [
      "{\r\n",
      "    \"logGroups\": [\r\n",
      "        {\r\n",
      "            \"logGroupName\": \"/aws/lambda/on_hbp0545\",\r\n",
      "            \"creationTime\": 1517407363376,\r\n",
      "            \"metricFilterCount\": 0,\r\n",
      "            \"arn\": \"arn:aws:logs:us-east-1:030555009967:log-group:/aws/lambda/on_hbp0545:*\",\r\n",
      "            \"storedBytes\": 0\r\n",
      "        }\r\n",
      "    ]\r\n",
      "}\r\n"
     ]
    }
   ],
   "source": [
    "log_group=f\"/aws/lambda/{function_name}\"\n",
    "!aws logs describe-log-groups --log-group-name-prefix {log_group}"
   ]
  },
  {
   "cell_type": "code",
   "execution_count": 169,
   "metadata": {},
   "outputs": [
    {
     "data": {
      "text/plain": [
       "'2018/01/31/[$LATEST]f538993e78054058a578d609f5426bb2'"
      ]
     },
     "execution_count": 169,
     "metadata": {},
     "output_type": "execute_result"
    }
   ],
   "source": [
    "log_stream = !aws logs describe-log-streams \\\n",
    "    --log-group-name '{log_group}' \\\n",
    "    --order-by LastEventTime \\\n",
    "    --max-items 1  \\\n",
    "    --query 'logStreams[0].logStreamName'\\\n",
    "    --output text\n",
    "log_stream = log_stream.s\n",
    "log_stream"
   ]
  },
  {
   "cell_type": "code",
   "execution_count": 170,
   "metadata": {},
   "outputs": [
    {
     "name": "stdout",
     "output_type": "stream",
     "text": [
      "START RequestId: 68186871-068f-11e8-a25c-c1f18b0cc7b9 Version: $LATEST\n",
      "\tHigh blood pressure detected. Take care {name}!\n",
      "\tEND RequestId: 68186871-068f-11e8-a25c-c1f18b0cc7b9\n",
      "\tREPORT RequestId: 68186871-068f-11e8-a25c-c1f18b0cc7b9\tDuration: 0.31 ms\tBilled Duration: 100 ms \tMemory Size: 128 MB\tMax Memory Used: 22 MB\t\n",
      "\tSTART RequestId: 69401fa2-068f-11e8-a2a4-d5bfb547d840 Version: $LATEST\n",
      "\tHigh blood pressure detected. Take care {name}!\n",
      "\tEND RequestId: 69401fa2-068f-11e8-a2a4-d5bfb547d840\n",
      "\tREPORT RequestId: 69401fa2-068f-11e8-a2a4-d5bfb547d840\tDuration: 0.30 ms\tBilled Duration: 100 ms \tMemory Size: 128 MB\tMax Memory Used: 22 MB\t\n",
      "\tSTART RequestId: 6a43ac31-068f-11e8-ae0a-ff4e85248d6f Version: $LATEST\n",
      "\tHigh blood pressure detected. Take care {name}!\n",
      "\tEND RequestId: 6a43ac31-068f-11e8-ae0a-ff4e85248d6f\n",
      "\tREPORT RequestId: 6a43ac31-068f-11e8-ae0a-ff4e85248d6f\tDuration: 0.30 ms\tBilled Duration: 100 ms \tMemory Size: 128 MB\tMax Memory Used: 22 MB\t\n",
      "\n",
      "[Errno 54] Connection reset by peer\n",
      "[Errno 54] Connection reset by peer[Errno 54] Connection reset by peer\n",
      "\n",
      "[Errno 54] Connection reset by peer\n",
      "[Errno 54] Connection reset by peer\n",
      "[Errno 54] Connection reset by peer\n"
     ]
    }
   ],
   "source": [
    "!aws logs get-log-events \\\n",
    "    --log-group-name '{log_group}' \\\n",
    "    --log-stream-name '{log_stream}' \\\n",
    "    --query 'events[].message' \\\n",
    "    --output text "
   ]
  },
  {
   "cell_type": "code",
   "execution_count": null,
   "metadata": {
    "collapsed": true
   },
   "outputs": [],
   "source": [
    "mqtt.disconnect()"
   ]
  }
 ],
 "metadata": {
  "kernelspec": {
   "display_name": "Python 3",
   "language": "python",
   "name": "python3"
  },
  "language_info": {
   "codemirror_mode": {
    "name": "ipython",
    "version": 3
   },
   "file_extension": ".py",
   "mimetype": "text/x-python",
   "name": "python",
   "nbconvert_exporter": "python",
   "pygments_lexer": "ipython3",
   "version": "3.6.1"
  }
 },
 "nbformat": 4,
 "nbformat_minor": 2
}
