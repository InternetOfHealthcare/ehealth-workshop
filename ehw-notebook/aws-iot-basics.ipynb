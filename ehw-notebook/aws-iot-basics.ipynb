{
 "cells": [
  {
   "cell_type": "markdown",
   "metadata": {},
   "source": [
    "# Part 1: Creating your first Thing using AWS IoT\n"
   ]
  },
  {
   "cell_type": "markdown",
   "metadata": {},
   "source": [
    "To start the workshop we are going to create a Thing inside AWS IoT. A Thing should represent any phisycal thing in world: button, a raspberry pi, a lamp or even your own laptop can be a thing. We are going to identify this thing by a name starting with MyHealthThing followed by six numbers."
   ]
  },
  {
   "cell_type": "code",
   "execution_count": 23,
   "metadata": {},
   "outputs": [
    {
     "data": {
      "text/plain": [
       "'/home/ec2-user'"
      ]
     },
     "execution_count": 23,
     "metadata": {},
     "output_type": "execute_result"
    }
   ],
   "source": [
    "%store -r home\n",
    "home"
   ]
  },
  {
   "cell_type": "markdown",
   "metadata": {},
   "source": [
    "Create a Thing, a unique name helps to make references more clear.\n",
    "Any computer can be a thing, lets use this notebook instance as our thing to begin."
   ]
  },
  {
   "cell_type": "code",
   "execution_count": 24,
   "metadata": {},
   "outputs": [
    {
     "data": {
      "text/plain": [
       "'110602'"
      ]
     },
     "execution_count": 24,
     "metadata": {},
     "output_type": "execute_result"
    }
   ],
   "source": [
    "%store -r HM\n",
    "HM"
   ]
  },
  {
   "cell_type": "code",
   "execution_count": 25,
   "metadata": {},
   "outputs": [
    {
     "data": {
      "text/plain": [
       "'MyHealthThing110602'"
      ]
     },
     "execution_count": 25,
     "metadata": {},
     "output_type": "execute_result"
    }
   ],
   "source": [
    "thing_name = \"MyHealthThing{}\".format(HM)\n",
    "thing_name"
   ]
  },
  {
   "cell_type": "code",
   "execution_count": 26,
   "metadata": {},
   "outputs": [
    {
     "name": "stdout",
     "output_type": "stream",
     "text": [
      "{\r\n",
      "    \"thingArn\": \"arn:aws:iot:us-east-1:977842192436:thing/MyHealthThing110602\", \r\n",
      "    \"thingName\": \"MyHealthThing110602\", \r\n",
      "    \"thingId\": \"2d8d136e-6a92-4af0-9c0d-988206e6209f\"\r\n",
      "}\r\n"
     ]
    }
   ],
   "source": [
    "! aws iot create-thing --thing-name {thing_name}"
   ]
  },
  {
   "cell_type": "markdown",
   "metadata": {},
   "source": [
    "# Authentication and Authorization\n"
   ]
  },
  {
   "cell_type": "markdown",
   "metadata": {},
   "source": [
    "Create a certificate and keys to authenticate your thing. "
   ]
  },
  {
   "cell_type": "code",
   "execution_count": 27,
   "metadata": {},
   "outputs": [
    {
     "name": "stdout",
     "output_type": "stream",
     "text": [
      "Stored 'certificate_file' (str)\n",
      "Stored 'public_key' (str)\n",
      "Stored 'private_key' (str)\n"
     ]
    }
   ],
   "source": [
    "! mkdir -p \"{home}/aws_iot\"\n",
    "\n",
    "certificate_file = \"{}/aws_iot/certificate{}.pem\".format(home,HM)\n",
    "public_key = \"{}/aws_iot/public-key{}.pem\".format(home,HM)\n",
    "private_key = \"{}/aws_iot/private-key{}.pem\".format(home,HM)\n",
    "\n",
    "%store certificate_file\n",
    "%store public_key\n",
    "%store private_key"
   ]
  },
  {
   "cell_type": "code",
   "execution_count": 28,
   "metadata": {},
   "outputs": [
    {
     "data": {
      "text/plain": [
       "'arn:aws:iot:us-east-1:977842192436:cert/57d0c9073ae3c74634726be6e15c7efed72f6082aa36ff24b2d46b8ee423d964'"
      ]
     },
     "execution_count": 28,
     "metadata": {},
     "output_type": "execute_result"
    }
   ],
   "source": [
    "certificateArn = ! aws iot create-keys-and-certificate \\\n",
    "  --set-as-active \\\n",
    "  --certificate-pem-outfile {certificate_file} \\\n",
    "  --public-key-outfile {public_key} \\\n",
    "  --private-key-outfile {private_key} \\\n",
    "  --query certificateArn \\\n",
    "  --output text\n",
    "certificate_arn = certificateArn.s\n",
    "certificate_arn"
   ]
  },
  {
   "cell_type": "markdown",
   "metadata": {},
   "source": [
    "Download the root Certification Authority used by AWS IoT\n"
   ]
  },
  {
   "cell_type": "code",
   "execution_count": 29,
   "metadata": {},
   "outputs": [
    {
     "name": "stdout",
     "output_type": "stream",
     "text": [
      "Stored 'ca_file' (str)\n",
      "--2018-05-22 13:26:38--  https://www.symantec.com/content/en/us/enterprise/verisign/roots/VeriSign-Class%203-Public-Primary-Certification-Authority-G5.pem\n",
      "Resolving www.symantec.com (www.symantec.com)... 104.112.44.114, 2600:1408:20:397::145b, 2600:1408:20:398::145b\n",
      "Connecting to www.symantec.com (www.symantec.com)|104.112.44.114|:443... connected.\n",
      "HTTP request sent, awaiting response... 200 OK\n",
      "Length: 1758 (1.7K) [text/plain]\n",
      "Saving to: ‘/home/ec2-user/aws_iot/ca110602.pem’\n",
      "\n",
      "/home/ec2-user/aws_ 100%[===================>]   1.72K  --.-KB/s    in 0s      \n",
      "\n",
      "2018-05-22 13:26:38 (324 MB/s) - ‘/home/ec2-user/aws_iot/ca110602.pem’ saved [1758/1758]\n",
      "\n"
     ]
    }
   ],
   "source": [
    "ca_file = \"{}/aws_iot/ca{}.pem\".format(home,HM)\n",
    "%store ca_file\n",
    "! wget https://www.symantec.com/content/en/us/enterprise/verisign/roots/VeriSign-Class%203-Public-Primary-Certification-Authority-G5.pem -O {ca_file}"
   ]
  },
  {
   "cell_type": "markdown",
   "metadata": {},
   "source": [
    "Double check that you have the 4 files required for TLS mutual authentication used by AWS IoT\n",
    "1. Private Key\n",
    "1. Public Key\n",
    "1. Certificate\n",
    "1. Root CA"
   ]
  },
  {
   "cell_type": "code",
   "execution_count": 30,
   "metadata": {},
   "outputs": [
    {
     "name": "stdout",
     "output_type": "stream",
     "text": [
      "Private Key /home/ec2-user/aws_iot/private-key110602.pem found\n",
      "Public Key /home/ec2-user/aws_iot/public-key110602.pem found\n",
      "Certificate /home/ec2-user/aws_iot/certificate110602.pem found\n",
      "Certification Authority /home/ec2-user/aws_iot/ca110602.pem found"
     ]
    }
   ],
   "source": [
    "! printf \"Private Key {private_key} \" && [ -f {private_key} ] && printf \"found\" || printf \"not found\"\n",
    "! printf \"\\nPublic Key {public_key} \" && [ -f {public_key} ] && printf \"found\" || printf \"not found\"\n",
    "! printf \"\\nCertificate {certificate_file} \" && [ -f {certificate_file} ] && printf \"found\" || printf \"not found\"\n",
    "! printf \"\\nCertification Authority {ca_file} \" && [ -f {ca_file} ] && printf \"found\" || printf \"not found\""
   ]
  },
  {
   "cell_type": "markdown",
   "metadata": {},
   "source": [
    "Create an IAM authorization policy stating what is going to be allowed."
   ]
  },
  {
   "cell_type": "code",
   "execution_count": 31,
   "metadata": {},
   "outputs": [
    {
     "data": {
      "text/plain": [
       "'{\\n  \"Version\": \"2012-10-17\",\\n  \"Statement\": [{\\n    \"Effect\": \"Allow\",\\n    \"Action\": \"iot:*\",\\n    \"Resource\": \"*\"}]\\n}'"
      ]
     },
     "execution_count": 31,
     "metadata": {},
     "output_type": "execute_result"
    }
   ],
   "source": [
    "#TODO: Use a more restrictive policy\n",
    "policy_document = '''{\n",
    "  \"Version\": \"2012-10-17\",\n",
    "  \"Statement\": [{\n",
    "    \"Effect\": \"Allow\",\n",
    "    \"Action\": \"iot:*\",\n",
    "    \"Resource\": \"*\"}]\n",
    "}'''\n",
    "policy_document"
   ]
  },
  {
   "cell_type": "code",
   "execution_count": 32,
   "metadata": {},
   "outputs": [
    {
     "data": {
      "text/plain": [
       "' An error occurred (ResourceAlreadyExistsException) when calling the CreatePolicy operation: Policy cannot be created - name already exists (name=NotebooksPolicy110602)'"
      ]
     },
     "execution_count": 32,
     "metadata": {},
     "output_type": "execute_result"
    }
   ],
   "source": [
    "policy_name = \"NotebooksPolicy{}\".format(HM)\n",
    "policyArn = ! aws iot create-policy \\\n",
    "    --policy-name {policy_name} \\\n",
    "    --policy-document '{policy_document}' \\\n",
    "    --query policyArn \\\n",
    "    --output text\n",
    "policyArn.s"
   ]
  },
  {
   "cell_type": "markdown",
   "metadata": {},
   "source": [
    "Attach certificate to thing and policy"
   ]
  },
  {
   "cell_type": "code",
   "execution_count": 33,
   "metadata": {
    "collapsed": true
   },
   "outputs": [],
   "source": [
    "! aws iot attach-policy \\\n",
    "    --policy-name {policy_name} \\\n",
    "    --target {certificate_arn}"
   ]
  },
  {
   "cell_type": "code",
   "execution_count": 34,
   "metadata": {
    "collapsed": true
   },
   "outputs": [],
   "source": [
    "! aws iot attach-thing-principal \\\n",
    "  --thing-name {thing_name} \\\n",
    "  --principal {certificate_arn}"
   ]
  },
  {
   "cell_type": "markdown",
   "metadata": {},
   "source": [
    "# Connecting to AWS IoT"
   ]
  },
  {
   "cell_type": "markdown",
   "metadata": {},
   "source": [
    "AWS IoT provides account-specific endpoints for your things to connect:"
   ]
  },
  {
   "cell_type": "code",
   "execution_count": 35,
   "metadata": {},
   "outputs": [
    {
     "name": "stdout",
     "output_type": "stream",
     "text": [
      "Stored 'endpoint_address' (str)\n"
     ]
    },
    {
     "data": {
      "text/plain": [
       "'a2enzbgohiblz2.iot.us-east-1.amazonaws.com'"
      ]
     },
     "execution_count": 35,
     "metadata": {},
     "output_type": "execute_result"
    }
   ],
   "source": [
    "endpoint_address = !aws iot describe-endpoint --query endpointAddress --output=text\n",
    "endpoint_address = endpoint_address.s\n",
    "%store endpoint_address\n",
    "endpoint_address"
   ]
  },
  {
   "cell_type": "markdown",
   "metadata": {
    "collapsed": true
   },
   "source": [
    "Ready to go! Create your MQTT client instance:"
   ]
  },
  {
   "cell_type": "code",
   "execution_count": 36,
   "metadata": {},
   "outputs": [
    {
     "data": {
      "text/plain": [
       "<AWSIoTPythonSDK.MQTTLib.AWSIoTMQTTClient at 0x7f1e28de20b8>"
      ]
     },
     "execution_count": 36,
     "metadata": {},
     "output_type": "execute_result"
    }
   ],
   "source": [
    "from AWSIoTPythonSDK.MQTTLib import AWSIoTMQTTClient\n",
    "\n",
    "client_id=\"NotebookCient{}\".format(HM)\n",
    "mqtt = AWSIoTMQTTClient(client_id)\n",
    "mqtt.configureEndpoint(endpoint_address, 8883)\n",
    "mqtt.configureCredentials(ca_file, private_key, certificate_file)\n",
    "mqtt.configureConnectDisconnectTimeout(10)\n",
    "mqtt"
   ]
  },
  {
   "cell_type": "markdown",
   "metadata": {},
   "source": [
    "# Receiving and Sending Messages"
   ]
  },
  {
   "cell_type": "markdown",
   "metadata": {},
   "source": [
    "Connect to the service to send and receive messages:"
   ]
  },
  {
   "cell_type": "code",
   "execution_count": 37,
   "metadata": {},
   "outputs": [
    {
     "data": {
      "text/plain": [
       "True"
      ]
     },
     "execution_count": 37,
     "metadata": {},
     "output_type": "execute_result"
    }
   ],
   "source": [
    "mqtt.connect()"
   ]
  },
  {
   "cell_type": "markdown",
   "metadata": {},
   "source": [
    "Subscribe to a topic:"
   ]
  },
  {
   "cell_type": "code",
   "execution_count": 38,
   "metadata": {},
   "outputs": [
    {
     "name": "stdout",
     "output_type": "stream",
     "text": [
      "Stored 'topic_name' (str)\n"
     ]
    },
    {
     "data": {
      "text/plain": [
       "True"
      ]
     },
     "execution_count": 38,
     "metadata": {},
     "output_type": "execute_result"
    }
   ],
   "source": [
    "topic_name =\"myhealthcare/data\"\n",
    "%store topic_name\n",
    "subscribe_qos = 1\n",
    "def custom_callback(client, userdata, message):\n",
    "    print(\"\\nReceived a new message: \\n\")\n",
    "    print(message.payload.decode(\"utf-8\") )\n",
    "    print(\"\\n--------------\\n\")\n",
    "    \n",
    "mqtt.subscribe(topic_name, subscribe_qos, custom_callback)"
   ]
  },
  {
   "cell_type": "markdown",
   "metadata": {},
   "source": [
    "Publish to a topic:"
   ]
  },
  {
   "cell_type": "code",
   "execution_count": 39,
   "metadata": {},
   "outputs": [
    {
     "name": "stdout",
     "output_type": "stream",
     "text": [
      "Stored 'payloads' (list)\n",
      "Stored 'payload' (str)\n"
     ]
    },
    {
     "data": {
      "text/plain": [
       "'{\"id\": \"53600673-2f17-475d-9610-f25c9760f1c1\", \"name\": \"Clara Oswald\", \"sistolic\": 127, \"diastolic\": 87, \"time_stamp\": 1526995629766}'"
      ]
     },
     "execution_count": 39,
     "metadata": {},
     "output_type": "execute_result"
    }
   ],
   "source": [
    "import uuid\n",
    "import json\n",
    "import datetime \n",
    "import random\n",
    "import time\n",
    "def genPayload():\n",
    "    names = [\"Sarah Jane\", \"Rory Williams\", \"Amy Pond\", \"Jack Harkness\", \"Clara Oswald\", \"Martha Jones\", \"Rose Tyler\"] \n",
    "    name = random.choice(names)\n",
    "    id = str(uuid.uuid4())\n",
    "    now = int(time.time()*1000)\n",
    "    noise = round(40 * random.random());\n",
    "    data = {\n",
    "        \"id\" : id ,\n",
    "        \"name\" : name,\n",
    "        \"sistolic\" : 110 + noise,\n",
    "        \"diastolic\" : 70 + noise,\n",
    "        \"time_stamp\" : now\n",
    "    }\n",
    "    payload = json.dumps(data)\n",
    "    return payload\n",
    "payloads = []\n",
    "for x in range(100):\n",
    "    payloads.append(genPayload())\n",
    "%store payloads\n",
    "payload = random.choice(payloads)\n",
    "%store payload\n",
    "payload"
   ]
  },
  {
   "cell_type": "code",
   "execution_count": 42,
   "metadata": {},
   "outputs": [
    {
     "data": {
      "text/plain": [
       "False"
      ]
     },
     "execution_count": 42,
     "metadata": {},
     "output_type": "execute_result"
    },
    {
     "name": "stdout",
     "output_type": "stream",
     "text": [
      "\n",
      "Received a new message: \n",
      "\n",
      "{\"id\": \"53600673-2f17-475d-9610-f25c9760f1c1\", \"name\": \"Clara Oswald\", \"sistolic\": 127, \"diastolic\": 87, \"time_stamp\": 1526995629766}\n",
      "\n",
      "--------------\n",
      "\n",
      "\n",
      "Received a new message: \n",
      "\n",
      "{\"id\": \"53600673-2f17-475d-9610-f25c9760f1c1\", \"name\": \"Clara Oswald\", \"sistolic\": 127, \"diastolic\": 87, \"time_stamp\": 1526995629766}\n",
      "\n",
      "--------------\n",
      "\n"
     ]
    }
   ],
   "source": [
    "publish_qos = 0\n",
    "mqtt.publish(topic_name, payload , publish_qos)"
   ]
  },
  {
   "cell_type": "markdown",
   "metadata": {},
   "source": [
    "The subscribe_qos and publish_qos arguments refer to the quality of service parameter of the MQTT protocol. Selecting the QoS level is a tradeoff between delivery guarantee and performance, see the following resources for more infomation:\n",
    "\n",
    "https://www.hivemq.com/blog/mqtt-essentials-part-6-mqtt-quality-of-service-levels\n",
    "\n",
    "https://docs.aws.amazon.com//iot/latest/developerguide/protocols.html"
   ]
  },
  {
   "cell_type": "markdown",
   "metadata": {
    "collapsed": true
   },
   "source": [
    "All working fine, done for now, disconnect."
   ]
  },
  {
   "cell_type": "code",
   "execution_count": null,
   "metadata": {
    "collapsed": true
   },
   "outputs": [],
   "source": [
    "mqtt.disconnect()"
   ]
  },
  {
   "cell_type": "markdown",
   "metadata": {},
   "source": [
    "Now we don't want to loose this data, right?\n",
    "Let's proceed to the [Storing Telemetry Data](aws-iot-storing-telemetry.ipynb) notebook right now!"
   ]
  }
 ],
 "metadata": {
  "kernelspec": {
   "display_name": "Python 3",
   "language": "python",
   "name": "python3"
  },
  "language_info": {
   "codemirror_mode": {
    "name": "ipython",
    "version": 3
   },
   "file_extension": ".py",
   "mimetype": "text/x-python",
   "name": "python",
   "nbconvert_exporter": "python",
   "pygments_lexer": "ipython3",
   "version": "3.6.3"
  }
 },
 "nbformat": 4,
 "nbformat_minor": 2
}
