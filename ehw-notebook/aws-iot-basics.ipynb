{
 "cells": [
  {
   "cell_type": "markdown",
   "metadata": {},
   "source": [
    "# AWS IoT Authentication and Authorization\n"
   ]
  },
  {
   "cell_type": "markdown",
   "metadata": {},
   "source": [
    "Create a Thing, a unique name helps to make references more clear.\n",
    "Any computer can be a thing, lets use this notebook instance as our thing to begin."
   ]
  },
  {
   "cell_type": "code",
   "execution_count": null,
   "metadata": {},
   "outputs": [],
   "source": [
    "from datetime import datetime\n",
    "HM = datetime.now().strftime('%H%M')\n",
    "thing_name = f\"NotebookThing{HM}\"\n",
    "thing_name"
   ]
  },
  {
   "cell_type": "code",
   "execution_count": null,
   "metadata": {},
   "outputs": [],
   "source": [
    "! aws iot create-thing --thing-name {thing_name}"
   ]
  },
  {
   "cell_type": "markdown",
   "metadata": {},
   "source": [
    "Create a certificate and keys to authenticate your thing. "
   ]
  },
  {
   "cell_type": "code",
   "execution_count": null,
   "metadata": {},
   "outputs": [],
   "source": [
    "certificate_file = f\"./certificate{HM}.pem\"\n",
    "public_key = f\"./public-key{HM}.pem\"\n",
    "private_key = f\"./private-key{HM}.pem\"\n",
    "\n",
    "certificateArn = ! aws iot create-keys-and-certificate \\\n",
    "  --set-as-active \\\n",
    "  --certificate-pem-outfile {certificate_file} \\\n",
    "  --public-key-outfile {public_key} \\\n",
    "  --private-key-outfile {private_key} \\\n",
    "  --query certificateArn \\\n",
    "  --output text\n",
    "certificate_arn = certificateArn.s\n",
    "certificate_arn"
   ]
  },
  {
   "cell_type": "markdown",
   "metadata": {},
   "source": [
    "Download the root Certification Authority used by AWS IoT\n"
   ]
  },
  {
   "cell_type": "code",
   "execution_count": null,
   "metadata": {},
   "outputs": [],
   "source": [
    "ca_file = f\"./ca{HM}.pem\"\n",
    "! wget https://www.symantec.com/content/en/us/enterprise/verisign/roots/VeriSign-Class%203-Public-Primary-Certification-Authority-G5.pem -O {ca_file}"
   ]
  },
  {
   "cell_type": "markdown",
   "metadata": {},
   "source": [
    "Double check that you have the 4 files required for TLS mutual authentication used by AWS IoT\n",
    "1. Private Key\n",
    "1. Public Key\n",
    "1. Certificate\n",
    "1. Root CA"
   ]
  },
  {
   "cell_type": "code",
   "execution_count": null,
   "metadata": {},
   "outputs": [],
   "source": [
    "! printf \"Private Key {private_key} \" && [ -f {private_key} ] && printf \"found\" || printf \"not found\"\n",
    "! printf \"\\nPublic Key {public_key} \" && [ -f {public_key} ] && printf \"found\" || printf \"not found\"\n",
    "! printf \"\\nCertificate {certificate_file} \" && [ -f {certificate_file} ] && printf \"found\" || printf \"not found\"\n",
    "! printf \"\\nCertification Authority {ca_file} \" && [ -f {ca_file} ] && printf \"found\" || printf \"not found\""
   ]
  },
  {
   "cell_type": "markdown",
   "metadata": {},
   "source": [
    "Create an IAM authorization policy stating what is going to be allowed."
   ]
  },
  {
   "cell_type": "code",
   "execution_count": null,
   "metadata": {
    "collapsed": true
   },
   "outputs": [],
   "source": [
    "#TODO: Use a more restrictive policy\n",
    "policy_document = '''{\n",
    "  \"Version\": \"2012-10-17\",\n",
    "  \"Statement\": [{\n",
    "    \"Effect\": \"Allow\",\n",
    "    \"Action\": \"iot:*\",\n",
    "    \"Resource\": \"*\"}]\n",
    "}'''"
   ]
  },
  {
   "cell_type": "code",
   "execution_count": null,
   "metadata": {},
   "outputs": [],
   "source": [
    "policy_name = f\"NotebooksPolicy{HM}\"\n",
    "policyArn = ! aws iot create-policy \\\n",
    "    --policy-name {policy_name} \\\n",
    "    --policy-document '{policy_document}' \\\n",
    "    --query policyArn \\\n",
    "    --output text\n",
    "policyArn.s"
   ]
  },
  {
   "cell_type": "markdown",
   "metadata": {},
   "source": [
    "Attach certificate to thing and policy"
   ]
  },
  {
   "cell_type": "code",
   "execution_count": null,
   "metadata": {
    "collapsed": true
   },
   "outputs": [],
   "source": [
    "! aws iot attach-policy \\\n",
    "    --policy-name {policy_name} \\\n",
    "    --target {certificate_arn}"
   ]
  },
  {
   "cell_type": "markdown",
   "metadata": {
    "collapsed": true
   },
   "source": [
    "! aws iot attach-thing-principal \\\n",
    "  --thing-name {thing_name} \\\n",
    "  --principal {certificate_arn}"
   ]
  },
  {
   "cell_type": "markdown",
   "metadata": {},
   "source": [
    "# Connecting to AWS IoT"
   ]
  },
  {
   "cell_type": "markdown",
   "metadata": {},
   "source": [
    "AWS IoT provides account-specific endpoints for your things to connect:"
   ]
  },
  {
   "cell_type": "code",
   "execution_count": null,
   "metadata": {},
   "outputs": [],
   "source": [
    "endpoint_address = !aws iot describe-endpoint --query endpointAddress --output=text\n",
    "endpoint_address = endpoint_address.s\n",
    "endpoint_address"
   ]
  },
  {
   "cell_type": "markdown",
   "metadata": {
    "collapsed": true
   },
   "source": [
    "Ready to go! Create your MQTT client instance:"
   ]
  },
  {
   "cell_type": "code",
   "execution_count": null,
   "metadata": {},
   "outputs": [],
   "source": [
    "from AWSIoTPythonSDK.MQTTLib import AWSIoTMQTTClient\n",
    "\n",
    "client_id=f\"NotebookCient{HM}\"\n",
    "mqtt = AWSIoTMQTTClient(client_id)\n",
    "mqtt.configureEndpoint(endpoint_address, 8883)\n",
    "mqtt.configureCredentials(ca_file, private_key, certificate_file)\n",
    "mqtt.configureConnectDisconnectTimeout(10)\n",
    "mqtt"
   ]
  },
  {
   "cell_type": "markdown",
   "metadata": {},
   "source": [
    "# Receiving and Sending Messages"
   ]
  },
  {
   "cell_type": "markdown",
   "metadata": {},
   "source": [
    "Connect to the service to send and receive messages:"
   ]
  },
  {
   "cell_type": "code",
   "execution_count": null,
   "metadata": {},
   "outputs": [],
   "source": [
    "mqtt.connect()"
   ]
  },
  {
   "cell_type": "markdown",
   "metadata": {},
   "source": [
    "Subscribe to a topic:"
   ]
  },
  {
   "cell_type": "code",
   "execution_count": null,
   "metadata": {},
   "outputs": [],
   "source": [
    "topic_name =\"notebook-topic\"\n",
    "subscribe_qos = 1\n",
    "def custom_callback(client, userdata, message):\n",
    "    print(\"\\nReceived a new message: \\n\")\n",
    "    print(message.payload.decode(\"utf-8\") )\n",
    "    print(\"\\n--------------\\n\")\n",
    "    \n",
    "mqtt.subscribe(topic_name, subscribe_qos, custom_callback)"
   ]
  },
  {
   "cell_type": "markdown",
   "metadata": {},
   "source": [
    "Publish to a topic:"
   ]
  },
  {
   "cell_type": "code",
   "execution_count": null,
   "metadata": {},
   "outputs": [],
   "source": [
    "payload = '{\"helo\":\"from Jupyter\"}'\n",
    "publish_qos = 0\n",
    "mqtt.publish(topic_name, payload , publish_qos)"
   ]
  },
  {
   "cell_type": "markdown",
   "metadata": {},
   "source": [
    "The subscribe_qos and publish_qos arguments refer to the quality of service parameter of the MQTT protocol. Selecting the QoS level is a tradeoff between delivery guarantee and performance, see the following resources for more infomation:\n",
    "\n",
    "https://www.hivemq.com/blog/mqtt-essentials-part-6-mqtt-quality-of-service-levels\n",
    "\n",
    "https://docs.aws.amazon.com//iot/latest/developerguide/protocols.html"
   ]
  },
  {
   "cell_type": "markdown",
   "metadata": {
    "collapsed": true
   },
   "source": [
    "All working fine, done for now, disconnect."
   ]
  },
  {
   "cell_type": "code",
   "execution_count": null,
   "metadata": {},
   "outputs": [],
   "source": [
    "mqtt.disconnect()"
   ]
  },
  {
   "cell_type": "markdown",
   "metadata": {},
   "source": []
  }
 ],
 "metadata": {
  "kernelspec": {
   "display_name": "Python 3",
   "language": "python",
   "name": "python3"
  },
  "language_info": {
   "codemirror_mode": {
    "name": "ipython",
    "version": 3
   },
   "file_extension": ".py",
   "mimetype": "text/x-python",
   "name": "python",
   "nbconvert_exporter": "python",
   "pygments_lexer": "ipython3",
   "version": "3.6.1"
  }
 },
 "nbformat": 4,
 "nbformat_minor": 2
}
