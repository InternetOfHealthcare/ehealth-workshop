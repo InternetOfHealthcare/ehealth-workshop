{
 "cells": [
  {
   "cell_type": "markdown",
   "metadata": {},
   "source": [
    "# Soundcheck"
   ]
  },
  {
   "cell_type": "markdown",
   "metadata": {},
   "source": [
    "This section is just to check if your workshop stack is healthy and ready to roll!\n"
   ]
  },
  {
   "cell_type": "markdown",
   "metadata": {},
   "source": [
    "## AWS CLI"
   ]
  },
  {
   "cell_type": "code",
   "execution_count": 1,
   "metadata": {},
   "outputs": [
    {
     "name": "stdout",
     "output_type": "stream",
     "text": [
      "REGIONS\tec2.ap-south-1.amazonaws.com\tap-south-1\n",
      "REGIONS\tec2.eu-west-3.amazonaws.com\teu-west-3\n",
      "REGIONS\tec2.eu-west-2.amazonaws.com\teu-west-2\n",
      "REGIONS\tec2.eu-west-1.amazonaws.com\teu-west-1\n",
      "REGIONS\tec2.ap-northeast-2.amazonaws.com\tap-northeast-2\n",
      "REGIONS\tec2.ap-northeast-1.amazonaws.com\tap-northeast-1\n",
      "REGIONS\tec2.sa-east-1.amazonaws.com\tsa-east-1\n",
      "REGIONS\tec2.ca-central-1.amazonaws.com\tca-central-1\n",
      "REGIONS\tec2.ap-southeast-1.amazonaws.com\tap-southeast-1\n",
      "REGIONS\tec2.ap-southeast-2.amazonaws.com\tap-southeast-2\n",
      "REGIONS\tec2.eu-central-1.amazonaws.com\teu-central-1\n",
      "REGIONS\tec2.us-east-1.amazonaws.com\tus-east-1\n",
      "REGIONS\tec2.us-east-2.amazonaws.com\tus-east-2\n",
      "REGIONS\tec2.us-west-1.amazonaws.com\tus-west-1\n",
      "REGIONS\tec2.us-west-2.amazonaws.com\tus-west-2\n"
     ]
    }
   ],
   "source": [
    "!aws ec2 describe-regions --output text"
   ]
  },
  {
   "cell_type": "markdown",
   "metadata": {},
   "source": [
    "## AWS SDK for Python"
   ]
  },
  {
   "cell_type": "code",
   "execution_count": 2,
   "metadata": {},
   "outputs": [
    {
     "data": {
      "text/plain": [
       "{'Regions': [{'Endpoint': 'ec2.ap-south-1.amazonaws.com',\n",
       "   'RegionName': 'ap-south-1'},\n",
       "  {'Endpoint': 'ec2.eu-west-3.amazonaws.com', 'RegionName': 'eu-west-3'},\n",
       "  {'Endpoint': 'ec2.eu-west-2.amazonaws.com', 'RegionName': 'eu-west-2'},\n",
       "  {'Endpoint': 'ec2.eu-west-1.amazonaws.com', 'RegionName': 'eu-west-1'},\n",
       "  {'Endpoint': 'ec2.ap-northeast-2.amazonaws.com',\n",
       "   'RegionName': 'ap-northeast-2'},\n",
       "  {'Endpoint': 'ec2.ap-northeast-1.amazonaws.com',\n",
       "   'RegionName': 'ap-northeast-1'},\n",
       "  {'Endpoint': 'ec2.sa-east-1.amazonaws.com', 'RegionName': 'sa-east-1'},\n",
       "  {'Endpoint': 'ec2.ca-central-1.amazonaws.com', 'RegionName': 'ca-central-1'},\n",
       "  {'Endpoint': 'ec2.ap-southeast-1.amazonaws.com',\n",
       "   'RegionName': 'ap-southeast-1'},\n",
       "  {'Endpoint': 'ec2.ap-southeast-2.amazonaws.com',\n",
       "   'RegionName': 'ap-southeast-2'},\n",
       "  {'Endpoint': 'ec2.eu-central-1.amazonaws.com', 'RegionName': 'eu-central-1'},\n",
       "  {'Endpoint': 'ec2.us-east-1.amazonaws.com', 'RegionName': 'us-east-1'},\n",
       "  {'Endpoint': 'ec2.us-east-2.amazonaws.com', 'RegionName': 'us-east-2'},\n",
       "  {'Endpoint': 'ec2.us-west-1.amazonaws.com', 'RegionName': 'us-west-1'},\n",
       "  {'Endpoint': 'ec2.us-west-2.amazonaws.com', 'RegionName': 'us-west-2'}],\n",
       " 'ResponseMetadata': {'HTTPHeaders': {'content-length': '2559',\n",
       "   'content-type': 'text/xml;charset=UTF-8',\n",
       "   'date': 'Wed, 24 Jan 2018 12:59:39 GMT',\n",
       "   'server': 'AmazonEC2',\n",
       "   'vary': 'Accept-Encoding'},\n",
       "  'HTTPStatusCode': 200,\n",
       "  'RequestId': 'a4fbcf20-f818-4f97-8ebc-03e2eeb26faf',\n",
       "  'RetryAttempts': 0}}"
      ]
     },
     "execution_count": 2,
     "metadata": {},
     "output_type": "execute_result"
    }
   ],
   "source": [
    "import boto3\n",
    "\n",
    "ec2 = boto3.client('ec2')\n",
    "response = ec2.describe_regions()\n",
    "response"
   ]
  },
  {
   "cell_type": "code",
   "execution_count": null,
   "metadata": {
    "collapsed": true
   },
   "outputs": [],
   "source": []
  }
 ],
 "metadata": {
  "kernelspec": {
   "display_name": "Python 3",
   "language": "python",
   "name": "python3"
  },
  "language_info": {
   "codemirror_mode": {
    "name": "ipython",
    "version": 3
   },
   "file_extension": ".py",
   "mimetype": "text/x-python",
   "name": "python",
   "nbconvert_exporter": "python",
   "pygments_lexer": "ipython3",
   "version": "3.6.1"
  }
 },
 "nbformat": 4,
 "nbformat_minor": 2
}
