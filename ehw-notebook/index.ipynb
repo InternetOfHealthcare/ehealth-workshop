{
 "cells": [
  {
   "cell_type": "markdown",
   "metadata": {},
   "source": [
    "# Welcome to the E-Health Workshop\n",
    "This workshop is developed to help you get started in building e-health solutions, using the cloud (AWS in specific), IoT, Machine Learning and all that jazz.\n",
    "\n",
    "If you are unfamiliar with jupyter notebooks, don't worry. They help to execute code without installing native RDP/SSH clients and without changing window or loosing focus. Go cell by cell. Each cell is a little step, in information or in code, for the next cell. Make sure you understand and execute the code without errors before moving on and ask us help anytime.\n",
    "\n",
    "You can execute the code cells using shift+enter, the step forward button on the menu bar or Cell > Run Cells menu."
   ]
  },
  {
   "cell_type": "markdown",
   "metadata": {},
   "source": [
    "# Disclaimer\n",
    "This workshop creates AWS resources that may incur in costs. We don't know exactly how much yet, but it should all fit in the free tier or at most a couple dollars.\n",
    "\n",
    "Also, the practices, code and opinions in this lab does not have anything to do with AWS, they are just the authors viewpoint. We hope you enjoy it!"
   ]
  },
  {
   "cell_type": "markdown",
   "metadata": {},
   "source": [
    "# Soundcheck"
   ]
  },
  {
   "cell_type": "markdown",
   "metadata": {},
   "source": [
    "Let's get started executing notebook cells! The following python code gets the user home directory from the operating system and stores that into the notebooks database, we'll create files there in our upcoming examples."
   ]
  },
  {
   "cell_type": "code",
   "execution_count": 1,
   "metadata": {},
   "outputs": [
    {
     "name": "stdout",
     "output_type": "stream",
     "text": [
      "Python 3.6.5 :: Anaconda custom (64-bit)\n",
      "aws-cli/1.16.9 Python/3.6.5 Linux/4.9.119-44.140.amzn1.x86_64 botocore/1.11.9\n",
      "Requirement already satisfied: AWSIoTPythonSDK in /home/ec2-user/anaconda3/envs/python3/lib/python3.6/site-packages (1.4.0)\n",
      "\u001b[31mdistributed 1.21.8 requires msgpack, which is not installed.\u001b[0m\n",
      "\u001b[33mYou are using pip version 10.0.1, however version 18.1 is available.\n",
      "You should consider upgrading via the 'pip install --upgrade pip' command.\u001b[0m\n"
     ]
    }
   ],
   "source": [
    "!python --version\n",
    "!aws --version\n",
    "!pip install AWSIoTPythonSDK"
   ]
  },
  {
   "cell_type": "code",
   "execution_count": null,
   "metadata": {},
   "outputs": [],
   "source": [
    "from pathlib import Path\n",
    "home = str(Path.home())\n",
    "%store home\n",
    "home"
   ]
  },
  {
   "cell_type": "markdown",
   "metadata": {},
   "source": [
    "Another helpful one is a unique name for the resources we create. \n",
    "Let's use the current time to help identify when resources were created, but also to run steps again. If you'd like to restart the lab you can just re-run this cell and proceed so resource names won't conflict."
   ]
  },
  {
   "cell_type": "code",
   "execution_count": null,
   "metadata": {},
   "outputs": [],
   "source": [
    "from datetime import datetime\n",
    "HM = datetime.now().strftime('%H%M%S')\n",
    "%store HM\n",
    "print(\"Resources created by this lab will have their names ending in {}\".format(HM))"
   ]
  },
  {
   "cell_type": "markdown",
   "metadata": {},
   "source": [
    "Let us make sure you can execute code and access AWS. Instead of using the AWS Console on the web, we are going to use two other clients: the [AWS Command Line Interface](http://aws.amazon.com/cli) or the [AWS SDK for Python](https://aws.amazon.com/sdk-for-python/) (aka boto3). You can acomplish nearly the same on any client, the choice of client for each task is mostly a matter of convenience.\n",
    "\n",
    "The following command should fetch information about the current user using the AWS CLI:"
   ]
  },
  {
   "cell_type": "code",
   "execution_count": null,
   "metadata": {},
   "outputs": [],
   "source": [
    "!aws ec2 describe-regions --query Regions[].RegionName --output text"
   ]
  },
  {
   "cell_type": "markdown",
   "metadata": {},
   "source": [
    "See a list of region codenames (ap-south-1, eu-west-3, eu-west-2, ...)? \n",
    "\n",
    "Now let's try the same, but in python code using the boto3:"
   ]
  },
  {
   "cell_type": "code",
   "execution_count": null,
   "metadata": {},
   "outputs": [],
   "source": [
    "import boto3\n",
    "\n",
    "ec2 = boto3.client('ec2')\n",
    "response = ec2.describe_regions()\n",
    "for region in response[\"Regions\"]:\n",
    "    print(region['RegionName'])"
   ]
  },
  {
   "cell_type": "markdown",
   "metadata": {},
   "source": [
    "Got the same region codes?\n",
    "You're good to go, let's get started with [AWS IoT Basics](aws-iot-basics.ipynb)"
   ]
  },
  {
   "cell_type": "code",
   "execution_count": null,
   "metadata": {},
   "outputs": [],
   "source": []
  }
 ],
 "metadata": {
  "kernelspec": {
   "display_name": "conda_python3",
   "language": "python",
   "name": "conda_python3"
  },
  "language_info": {
   "codemirror_mode": {
    "name": "ipython",
    "version": 3
   },
   "file_extension": ".py",
   "mimetype": "text/x-python",
   "name": "python",
   "nbconvert_exporter": "python",
   "pygments_lexer": "ipython3",
   "version": "3.6.5"
  }
 },
 "nbformat": 4,
 "nbformat_minor": 2
}
