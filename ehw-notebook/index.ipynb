{
 "cells": [
  {
   "cell_type": "markdown",
   "metadata": {},
   "source": [
    "# Welcome to the E-Health Workshop\n",
    "This workshop is developed to help you get started in building e-health solutions, using the cloud (AWS in specific), IoT, Machine Learning and all that jazz.\n",
    "\n",
    "If you are unfamiliar with jupyter notebooks, don't worry. They help to execute code without installing native RDP/SSH clients and without changing window or loosing focus. Go cell by cell. Each cell is a little step, in information or in code, for the next cell. Make sure you understand and execute the code without errors before moving on and ask us help anytime.\n",
    "\n",
    "You can execute the code cells using shift+enter, the step forward button on the menu bar or Cell > Run Cells menu."
   ]
  },
  {
   "cell_type": "markdown",
   "metadata": {},
   "source": [
    "# Disclaimer\n",
    "This workshop creates AWS resources that may incur in costs. We don't know exactly how much yet, but it should all fit in the free tier or at most a couple dollars.\n",
    "\n",
    "Also, the practices, code and opinions in this lab does not have anything to do with AWS, they are just the authors viewpoint. We hope you enjoy it!"
   ]
  },
  {
   "cell_type": "markdown",
   "metadata": {},
   "source": [
    "# Soundcheck"
   ]
  },
  {
   "cell_type": "markdown",
   "metadata": {},
   "source": [
    "Before we begin, let us make sure you can execute code and access AWS. Instead of using the AWS Console on the web, we are going to use two other clients: the [AWS Command Line Interface](http://aws.amazon.com/cli) or the [AWS SDK for Python](https://aws.amazon.com/sdk-for-python/) (aka boto3). You can acomplish nearly the same on any client, the choice of client for each task is mostly a matter of convenience.\n",
    "\n",
    "The following command should fetch information about the current user using the AWS CLI:"
   ]
  },
  {
   "cell_type": "code",
   "execution_count": 10,
   "metadata": {},
   "outputs": [
    {
     "name": "stdout",
     "output_type": "stream",
     "text": [
      "ap-south-1\teu-west-3\teu-west-2\teu-west-1\tap-northeast-2\tap-northeast-1\tsa-east-1\tca-central-1\tap-southeast-1\tap-southeast-2\teu-central-1\tus-east-1\tus-east-2\tus-west-1\tus-west-2\r\n"
     ]
    }
   ],
   "source": [
    "!aws ec2 describe-regions --query Regions[].RegionName --output text"
   ]
  },
  {
   "cell_type": "markdown",
   "metadata": {},
   "source": [
    "See a list of region codenames (ap-south-1, eu-west-3, eu-west-2, ...)? \n",
    "\n",
    "Now let's try the same, but in python code using the boto3:"
   ]
  },
  {
   "cell_type": "code",
   "execution_count": 11,
   "metadata": {},
   "outputs": [
    {
     "name": "stdout",
     "output_type": "stream",
     "text": [
      "ap-south-1\n",
      "eu-west-3\n",
      "eu-west-2\n",
      "eu-west-1\n",
      "ap-northeast-2\n",
      "ap-northeast-1\n",
      "sa-east-1\n",
      "ca-central-1\n",
      "ap-southeast-1\n",
      "ap-southeast-2\n",
      "eu-central-1\n",
      "us-east-1\n",
      "us-east-2\n",
      "us-west-1\n",
      "us-west-2\n"
     ]
    }
   ],
   "source": [
    "import boto3\n",
    "\n",
    "ec2 = boto3.client('ec2')\n",
    "response = ec2.describe_regions()\n",
    "for region in response[\"Regions\"]:\n",
    "    print(region['RegionName'])"
   ]
  },
  {
   "cell_type": "markdown",
   "metadata": {},
   "source": [
    "Se the same region codes?\n",
    "Awesome! Let's get started with [AWS IoT Basics](aws-iot-basics.ipynb)"
   ]
  },
  {
   "cell_type": "code",
   "execution_count": null,
   "metadata": {
    "collapsed": true
   },
   "outputs": [],
   "source": []
  }
 ],
 "metadata": {
  "kernelspec": {
   "display_name": "Python 3",
   "language": "python",
   "name": "python3"
  },
  "language_info": {
   "codemirror_mode": {
    "name": "ipython",
    "version": 3
   },
   "file_extension": ".py",
   "mimetype": "text/x-python",
   "name": "python",
   "nbconvert_exporter": "python",
   "pygments_lexer": "ipython3",
   "version": "3.6.1"
  }
 },
 "nbformat": 4,
 "nbformat_minor": 2
}
