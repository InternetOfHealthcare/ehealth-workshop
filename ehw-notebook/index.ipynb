{
 "cells": [
  {
   "cell_type": "markdown",
   "metadata": {},
   "source": [
    "# Welcome to the E-Health Workshop\n",
    "This workshop is developed to help you get started in building e-health solutions, using the cloud (AWS in specific), IoT, Machine Learning and all that jazz.\n",
    "\n",
    "If you are unfamiliar with jupyter notebooks, don't worry. They help to execute code without installing native RDP/SSH clients and without changing window or loosing focus. Go cell by cell. Each cell is a little step, in information or in code, for the next cell. Make sure you understand and execute the code without errors before moving on and ask us help anytime.\n",
    "\n",
    "You can execute the code cells using shift+enter, the step forward button on the menu bar or Cell > Run Cells menu."
   ]
  },
  {
   "cell_type": "markdown",
   "metadata": {},
   "source": [
    "# Disclaimer\n",
    "This workshop creates AWS resources that may incur in costs. We don't know exactly how much yet, but it should all fit in the free tier or at most a couple dollars.\n",
    "\n",
    "Also, the practices, code and opinions in this lab does not have anything to do with AWS and are just "
   ]
  },
  {
   "cell_type": "markdown",
   "metadata": {},
   "source": [
    "# Soundcheck"
   ]
  },
  {
   "cell_type": "markdown",
   "metadata": {},
   "source": [
    "Before we begin, let us make sure you can execute code and access AWS. Instead of using the AWS Console on the web, we are going to use two other clients: the [AWS Command Line Interface](http://aws.amazon.com/cli) or the [AWS SDK for Python](https://aws.amazon.com/sdk-for-python/) (aka boto3). You can acomplish nearly the same on any client, the choice of client for each task is mostly a matter of convenience.\n",
    "\n",
    "The following command should fetch information about the current user using the AWS CLI:"
   ]
  },
  {
   "cell_type": "code",
   "execution_count": null,
   "metadata": {},
   "outputs": [],
   "source": [
    "!aws iam get-user"
   ]
  },
  {
   "cell_type": "markdown",
   "metadata": {},
   "source": [
    "You should see some information about your authenticated user (UserId, ARN, CreateDate, ...).\n",
    "\n",
    "Now let's try some python code using the boto3:"
   ]
  },
  {
   "cell_type": "code",
   "execution_count": null,
   "metadata": {},
   "outputs": [],
   "source": [
    "import boto3\n",
    "\n",
    "ec2 = boto3.client('ec2')\n",
    "response = ec2.describe_regions()\n",
    "for region in response[\"Regions\"]:\n",
    "    print(region['RegionName'])"
   ]
  },
  {
   "cell_type": "markdown",
   "metadata": {},
   "source": [
    "See a list of region codenames (ap-south-1, eu-west-3, eu-west-2, ...)? \n",
    "\n",
    "Awesome! Let's get started with [AWS IoT Basics](aws-iot-basics.ipynb)"
   ]
  },
  {
   "cell_type": "code",
   "execution_count": null,
   "metadata": {
    "collapsed": true
   },
   "outputs": [],
   "source": []
  }
 ],
 "metadata": {
  "kernelspec": {
   "display_name": "Python 3",
   "language": "python",
   "name": "python3"
  },
  "language_info": {
   "codemirror_mode": {
    "name": "ipython",
    "version": 3
   },
   "file_extension": ".py",
   "mimetype": "text/x-python",
   "name": "python",
   "nbconvert_exporter": "python",
   "pygments_lexer": "ipython3",
   "version": "3.6.1"
  }
 },
 "nbformat": 4,
 "nbformat_minor": 2
}
