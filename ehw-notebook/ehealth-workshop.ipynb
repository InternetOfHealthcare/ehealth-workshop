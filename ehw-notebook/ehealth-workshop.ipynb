{
 "cells": [
  {
   "cell_type": "markdown",
   "metadata": {},
   "source": [
    "# Welcome to the E-Health Workshop"
   ]
  },
  {
   "cell_type": "markdown",
   "metadata": {},
   "source": [
    "You should have a group, an aws account and even a raspberry pi by now. Just follow along and enjoy! Call us anytime, we're here to help."
   ]
  },
  {
   "cell_type": "markdown",
   "metadata": {},
   "source": [
    "## Soundcheck"
   ]
  },
  {
   "cell_type": "markdown",
   "metadata": {},
   "source": [
    "This section is just to check if your workshop stack is healthy and ready to roll!\n"
   ]
  },
  {
   "cell_type": "markdown",
   "metadata": {},
   "source": [
    "Let's see if AWS CLI is working ..."
   ]
  },
  {
   "cell_type": "code",
   "execution_count": null,
   "metadata": {},
   "outputs": [],
   "source": [
    "!aws ec2 describe-regions --output text"
   ]
  },
  {
   "cell_type": "markdown",
   "metadata": {},
   "source": [
    "The API call bellow lists the availability zones for your account. Just to make sure AWS SDK for Python, boto3, is setup and authenticating correctly."
   ]
  },
  {
   "cell_type": "code",
   "execution_count": null,
   "metadata": {},
   "outputs": [],
   "source": [
    "import boto3\n",
    "\n",
    "ec2 = boto3.client('ec2')\n",
    "response = ec2.describe_regions()\n",
    "response"
   ]
  },
  {
   "cell_type": "markdown",
   "metadata": {},
   "source": [
    "Do not proceed if you have errors in the cells above, as accessing AWS is essential to this workshop. Call us if you see any error or need some help.\n",
    "\n",
    "That's it, you're all set, enjoy!"
   ]
  },
  {
   "cell_type": "markdown",
   "metadata": {},
   "source": [
    "# AWS IoT Basics\n"
   ]
  },
  {
   "cell_type": "markdown",
   "metadata": {},
   "source": [
    "Create a Thing, a unique name helps to make references more clear.\n",
    "Any computer can be a thing, lets use this notebook instance as our thing to begin."
   ]
  },
  {
   "cell_type": "code",
   "execution_count": null,
   "metadata": {},
   "outputs": [],
   "source": [
    "from datetime import datetime\n",
    "HM = datetime.now().strftime('%H%M')\n",
    "thingName = f\"NotebookThing{HM}\"\n",
    "thingName"
   ]
  },
  {
   "cell_type": "code",
   "execution_count": null,
   "metadata": {},
   "outputs": [],
   "source": [
    "! aws iot create-thing --thing-name {thingName}"
   ]
  },
  {
   "cell_type": "markdown",
   "metadata": {},
   "source": [
    "Create a certificate and keys to authenticate your thing. "
   ]
  },
  {
   "cell_type": "code",
   "execution_count": null,
   "metadata": {},
   "outputs": [],
   "source": [
    "certificateFile = f\"./certificate{HM}.pem\"\n",
    "publicKey = f\"./public-key{HM}.pem\"\n",
    "privateKey = f\"./private-key{HM}.pem\"\n",
    "\n",
    "certificateArn = ! aws iot create-keys-and-certificate \\\n",
    "  --set-as-active \\\n",
    "  --certificate-pem-outfile {certificateFile} \\\n",
    "  --public-key-outfile {publicKey} \\\n",
    "  --private-key-outfile {privateKey} \\\n",
    "  --query certificateArn \\\n",
    "  --output text\n",
    "certificateArn = certificateArn.s\n",
    "certificateArn"
   ]
  },
  {
   "cell_type": "markdown",
   "metadata": {},
   "source": [
    "Download the root Certification Authority used by AWS IoT\n"
   ]
  },
  {
   "cell_type": "code",
   "execution_count": null,
   "metadata": {},
   "outputs": [],
   "source": [
    "caFile = f\"./ca{HM}.pem\"\n",
    "! wget https://www.symantec.com/content/en/us/enterprise/verisign/roots/VeriSign-Class%203-Public-Primary-Certification-Authority-G5.pem -O {caFile}"
   ]
  },
  {
   "cell_type": "markdown",
   "metadata": {},
   "source": [
    "Double check that you have the 4 files required for TLS mutual authentication used by AWS IoT\n",
    "1. Private Key\n",
    "1. Public Key\n",
    "1. Certificate\n",
    "1. Root CA"
   ]
  },
  {
   "cell_type": "code",
   "execution_count": null,
   "metadata": {},
   "outputs": [],
   "source": [
    "! printf \"Private Key {privateKey} \" && [ -f {privateKey} ] && printf \"found\" || printf \"not found\"\n",
    "! printf \"\\nPrivate Key {publicKey} \" && [ -f {publicKey} ] && printf \"found\" || printf \"not found\"\n",
    "! printf \"\\nPrivate Key {certificateFile} \" && [ -f {certificateFile} ] && printf \"found\" || printf \"not found\"\n",
    "! printf \"\\nPrivate Key {caFile} \" && [ -f {caFile} ] && printf \"found\" || printf \"not found\""
   ]
  },
  {
   "cell_type": "markdown",
   "metadata": {},
   "source": [
    "Create an IAM authorization policy stating what is going to be allowed."
   ]
  },
  {
   "cell_type": "code",
   "execution_count": null,
   "metadata": {
    "collapsed": true
   },
   "outputs": [],
   "source": [
    "#TODO: Use a more restrictive policy on your own account!\n",
    "policyDocument = '{\"Version\": \"2012-10-17\",\"Statement\": [{\"Effect\": \"Allow\",\"Action\": \"iot:*\",\"Resource\": \"*\"}]}'"
   ]
  },
  {
   "cell_type": "code",
   "execution_count": null,
   "metadata": {},
   "outputs": [],
   "source": [
    "policyName = f\"NotebooksPolicy{HM}\"\n",
    "policyArn = ! aws iot create-policy \\\n",
    "    --policy-name {policyName} \\\n",
    "    --policy-document '{policyDocument}' \\\n",
    "    --query policyArn \\\n",
    "    --output text\n",
    "policyArn.s"
   ]
  },
  {
   "cell_type": "markdown",
   "metadata": {},
   "source": [
    "Attach certificate to thing and policy"
   ]
  },
  {
   "cell_type": "code",
   "execution_count": null,
   "metadata": {
    "collapsed": true
   },
   "outputs": [],
   "source": [
    "! aws iot attach-policy \\\n",
    "    --policy-name {policyName} \\\n",
    "    --target {certificateArn}"
   ]
  },
  {
   "cell_type": "code",
   "execution_count": null,
   "metadata": {
    "collapsed": true
   },
   "outputs": [],
   "source": [
    "! aws iot attach-thing-principal \\\n",
    "  --thing-name {thingName} \\\n",
    "  --principal {certificateArn}"
   ]
  },
  {
   "cell_type": "markdown",
   "metadata": {},
   "source": [
    "AWS IoT provides account-specific endpoints for your things to connect:"
   ]
  },
  {
   "cell_type": "code",
   "execution_count": null,
   "metadata": {},
   "outputs": [],
   "source": [
    "endpointAddress = !aws iot describe-endpoint --query endpointAddress --output=text\n",
    "endpointAddress = endpointAddress.s\n",
    "endpointAddress"
   ]
  },
  {
   "cell_type": "markdown",
   "metadata": {
    "collapsed": true
   },
   "source": [
    "Ready to go! Create your MQTT client instance:"
   ]
  },
  {
   "cell_type": "code",
   "execution_count": null,
   "metadata": {},
   "outputs": [],
   "source": [
    "from AWSIoTPythonSDK.MQTTLib import AWSIoTMQTTClient\n",
    "\n",
    "clientId=\"NotebookCient\"\n",
    "mqtt = AWSIoTMQTTClient(clientId)\n",
    "mqtt.configureEndpoint(endpointAddress, 8883)\n",
    "mqtt.configureCredentials(caFile, privateKey, certificateFile)\n",
    "mqtt.configureConnectDisconnectTimeout(10)\n",
    "mqtt"
   ]
  },
  {
   "cell_type": "markdown",
   "metadata": {},
   "source": [
    "Connect to the service to send and receive messages:"
   ]
  },
  {
   "cell_type": "code",
   "execution_count": null,
   "metadata": {},
   "outputs": [],
   "source": [
    "mqtt.connect()"
   ]
  },
  {
   "cell_type": "markdown",
   "metadata": {},
   "source": [
    "Subscribe to a topic:"
   ]
  },
  {
   "cell_type": "code",
   "execution_count": null,
   "metadata": {},
   "outputs": [],
   "source": [
    "def customCallback(client, userdata, message):\n",
    "    print(\"\\nReceived a new message: \\n\")\n",
    "    print(message.payload.decode(\"utf-8\") )\n",
    "    print(\"\\n--------------\\n\")\n",
    "    \n",
    "mqtt.subscribe(\"notebook-topic\", 1, customCallback)"
   ]
  },
  {
   "cell_type": "markdown",
   "metadata": {},
   "source": [
    "Publish to a topic:"
   ]
  },
  {
   "cell_type": "code",
   "execution_count": null,
   "metadata": {},
   "outputs": [],
   "source": [
    "mqtt.publish(\"notebook-topic\", '{\"helo\":\"from Jupyter\"}' , 0)"
   ]
  },
  {
   "cell_type": "markdown",
   "metadata": {
    "collapsed": true
   },
   "source": [
    "All working fine, done for now, disconnect."
   ]
  },
  {
   "cell_type": "code",
   "execution_count": null,
   "metadata": {},
   "outputs": [],
   "source": [
    "mqtt.disconnect()"
   ]
  },
  {
   "cell_type": "code",
   "execution_count": null,
   "metadata": {
    "collapsed": true
   },
   "outputs": [],
   "source": []
  }
 ],
 "metadata": {
  "kernelspec": {
   "display_name": "Python 3",
   "language": "python",
   "name": "python3"
  },
  "language_info": {
   "codemirror_mode": {
    "name": "ipython",
    "version": 3
   },
   "file_extension": ".py",
   "mimetype": "text/x-python",
   "name": "python",
   "nbconvert_exporter": "python",
   "pygments_lexer": "ipython3",
   "version": "3.6.1"
  }
 },
 "nbformat": 4,
 "nbformat_minor": 2
}
