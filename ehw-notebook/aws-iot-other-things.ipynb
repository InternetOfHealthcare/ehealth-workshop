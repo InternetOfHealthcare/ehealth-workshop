{
 "cells": [
  {
   "cell_type": "markdown",
   "metadata": {},
   "source": [
    "# Part 4: Accessing other Things, actually the instructor's things!\n"
   ]
  },
  {
   "cell_type": "markdown",
   "metadata": {},
   "source": [
    "Now we are going control things in other AWS IoT Core account and other MQTT broker."
   ]
  },
  {
   "cell_type": "markdown",
   "metadata": {},
   "source": [
    "### Let's recover some data"
   ]
  },
  {
   "cell_type": "code",
   "execution_count": 1,
   "metadata": {},
   "outputs": [],
   "source": [
    "#Hour and minute when this started to create unique names\n",
    "%store -r HM\n",
    "#Home directory of the user running this notebook\n",
    "%store -r home\n"
   ]
  },
  {
   "cell_type": "markdown",
   "metadata": {},
   "source": [
    "### Now we are going to download a pre-generated certificate and access keys to the target account"
   ]
  },
  {
   "cell_type": "code",
   "execution_count": 2,
   "metadata": {},
   "outputs": [
    {
     "name": "stdout",
     "output_type": "stream",
     "text": [
      "Stored 'other_certificate_file' (str)\n",
      "Stored 'other_public_key' (str)\n",
      "Stored 'other_private_key' (str)\n",
      "Stored 'other_ca_file' (str)\n"
     ]
    }
   ],
   "source": [
    "\n",
    "! mkdir -p \"{home}/aws_iot_hub\"\n",
    "\n",
    "other_certificate_file = \"{}/aws_iot_hub/certificate-hub.pem\".format(home)\n",
    "other_public_key = \"{}/aws_iot_hub/public-key-hub.pem\".format(home)\n",
    "other_private_key = \"{}/aws_iot_hub/private-key-hub.pem\".format(home)\n",
    "other_ca_file = \"{}/aws_iot_hub/ca.pem\".format(home)\n",
    "\n",
    "%store other_certificate_file\n",
    "%store other_public_key\n",
    "%store other_private_key\n",
    "%store other_ca_file\n"
   ]
  },
  {
   "cell_type": "code",
   "execution_count": 3,
   "metadata": {},
   "outputs": [
    {
     "name": "stdout",
     "output_type": "stream",
     "text": [
      "--2018-05-22 15:10:42--  https://s3.amazonaws.com/healthcare-workshop/certificate-hub.pem\n",
      "Resolving s3.amazonaws.com (s3.amazonaws.com)... 52.216.129.29\n",
      "Connecting to s3.amazonaws.com (s3.amazonaws.com)|52.216.129.29|:443... connected.\n",
      "HTTP request sent, awaiting response... 200 OK\n",
      "Length: 1220 (1.2K) [application/x-x509-ca-cert]\n",
      "Saving to: ‘/home/ec2-user/aws_iot_hub/certificate-hub.pem’\n",
      "\n",
      "/home/ec2-user/aws_ 100%[===================>]   1.19K  --.-KB/s    in 0s      \n",
      "\n",
      "2018-05-22 15:10:42 (94.1 MB/s) - ‘/home/ec2-user/aws_iot_hub/certificate-hub.pem’ saved [1220/1220]\n",
      "\n",
      "--2018-05-22 15:10:42--  https://s3.amazonaws.com/healthcare-workshop/public-key-hub.pem\n",
      "Resolving s3.amazonaws.com (s3.amazonaws.com)... 52.216.1.147\n",
      "Connecting to s3.amazonaws.com (s3.amazonaws.com)|52.216.1.147|:443... connected.\n",
      "HTTP request sent, awaiting response... 200 OK\n",
      "Length: 451 [application/x-x509-ca-cert]\n",
      "Saving to: ‘/home/ec2-user/aws_iot_hub/public-key-hub.pem’\n",
      "\n",
      "/home/ec2-user/aws_ 100%[===================>]     451  --.-KB/s    in 0s      \n",
      "\n",
      "2018-05-22 15:10:42 (17.3 MB/s) - ‘/home/ec2-user/aws_iot_hub/public-key-hub.pem’ saved [451/451]\n",
      "\n",
      "--2018-05-22 15:10:42--  https://s3.amazonaws.com/healthcare-workshop/private-key-hub.pem\n",
      "Resolving s3.amazonaws.com (s3.amazonaws.com)... 52.216.1.147\n",
      "Connecting to s3.amazonaws.com (s3.amazonaws.com)|52.216.1.147|:443... connected.\n",
      "HTTP request sent, awaiting response... 200 OK\n",
      "Length: 1679 (1.6K) [application/x-x509-ca-cert]\n",
      "Saving to: ‘/home/ec2-user/aws_iot_hub/private-key-hub.pem’\n",
      "\n",
      "/home/ec2-user/aws_ 100%[===================>]   1.64K  --.-KB/s    in 0s      \n",
      "\n",
      "2018-05-22 15:10:42 (127 MB/s) - ‘/home/ec2-user/aws_iot_hub/private-key-hub.pem’ saved [1679/1679]\n",
      "\n",
      "--2018-05-22 15:10:42--  https://www.symantec.com/content/en/us/enterprise/verisign/roots/VeriSign-Class%203-Public-Primary-Certification-Authority-G5.pem\n",
      "Resolving www.symantec.com (www.symantec.com)... 104.112.44.114, 2600:1408:20:398::145b, 2600:1408:20:397::145b\n",
      "Connecting to www.symantec.com (www.symantec.com)|104.112.44.114|:443... connected.\n",
      "HTTP request sent, awaiting response... 200 OK\n",
      "Length: 1758 (1.7K) [text/plain]\n",
      "Saving to: ‘/home/ec2-user/aws_iot_hub/ca.pem’\n",
      "\n",
      "/home/ec2-user/aws_ 100%[===================>]   1.72K  --.-KB/s    in 0s      \n",
      "\n",
      "2018-05-22 15:10:42 (353 MB/s) - ‘/home/ec2-user/aws_iot_hub/ca.pem’ saved [1758/1758]\n",
      "\n"
     ]
    }
   ],
   "source": [
    "! wget https://s3.amazonaws.com/healthcare-workshop/certificate-hub.pem -O {other_certificate_file}\n",
    "! wget https://s3.amazonaws.com/healthcare-workshop/public-key-hub.pem -O {other_public_key}\n",
    "! wget https://s3.amazonaws.com/healthcare-workshop/private-key-hub.pem -O {other_private_key}\n",
    "! wget https://www.symantec.com/content/en/us/enterprise/verisign/roots/VeriSign-Class%203-Public-Primary-Certification-Authority-G5.pem -O {other_ca_file}\n"
   ]
  },
  {
   "cell_type": "markdown",
   "metadata": {},
   "source": [
    "Double check that you have the 4 files required for TLS mutual authentication used by AWS IoT\n",
    "1. Private Key\n",
    "1. Public Key\n",
    "1. Certificate\n",
    "1. Root CA"
   ]
  },
  {
   "cell_type": "code",
   "execution_count": 5,
   "metadata": {},
   "outputs": [
    {
     "name": "stdout",
     "output_type": "stream",
     "text": [
      "Private Key /home/ec2-user/aws_iot_hub/private-key-hub.pem found\n",
      "Public Key /home/ec2-user/aws_iot_hub/public-key-hub.pem found\n",
      "Certificate /home/ec2-user/aws_iot_hub/certificate-hub.pem found\n",
      "Certification Authority /home/ec2-user/aws_iot_hub/ca.pem found"
     ]
    }
   ],
   "source": [
    "! printf \"Private Key {other_private_key} \" && [ -f {other_private_key} ] && printf \"found\" || printf \"not found\"\n",
    "! printf \"\\nPublic Key {other_public_key} \" && [ -f {other_public_key} ] && printf \"found\" || printf \"not found\"\n",
    "! printf \"\\nCertificate {other_certificate_file} \" && [ -f {other_certificate_file} ] && printf \"found\" || printf \"not found\"\n",
    "! printf \"\\nCertification Authority {other_ca_file} \" && [ -f {other_ca_file} ] && printf \"found\" || printf \"not found\""
   ]
  },
  {
   "cell_type": "markdown",
   "metadata": {},
   "source": [
    "# Connecting to our AWS IoT Account"
   ]
  },
  {
   "cell_type": "markdown",
   "metadata": {},
   "source": [
    "AWS IoT provides account-specific endpoints for your things to connect. We are using the instructor workshop endpoint at this time:"
   ]
  },
  {
   "cell_type": "code",
   "execution_count": 62,
   "metadata": {},
   "outputs": [
    {
     "name": "stdout",
     "output_type": "stream",
     "text": [
      "Stored 'other_endpoint_address' (str)\n"
     ]
    },
    {
     "data": {
      "text/plain": [
       "<AWSIoTPythonSDK.MQTTLib.AWSIoTMQTTClient at 0x7f73cd10aef0>"
      ]
     },
     "execution_count": 62,
     "metadata": {},
     "output_type": "execute_result"
    }
   ],
   "source": [
    "from AWSIoTPythonSDK.MQTTLib import AWSIoTMQTTClient\n",
    "\n",
    "other_endpoint_address = \"a2enzbgohiblz2.iot.us-east-1.amazonaws.com\"\n",
    "%store other_endpoint_address\n",
    "\n",
    "client_id=\"NotebookCient{}\".format(HM)\n",
    "other_mqtt = AWSIoTMQTTClient(client_id)\n",
    "other_mqtt.configureEndpoint(other_endpoint_address, 8883)\n",
    "other_mqtt.configureCredentials(other_ca_file, other_private_key, other_certificate_file)\n",
    "other_mqtt.configureConnectDisconnectTimeout(10)\n",
    "other_mqtt.connect()\n",
    "other_mqtt"
   ]
  },
  {
   "cell_type": "markdown",
   "metadata": {},
   "source": [
    "# Let's control our lamp"
   ]
  },
  {
   "cell_type": "markdown",
   "metadata": {},
   "source": [
    "## Turn on lamp"
   ]
  },
  {
   "cell_type": "code",
   "execution_count": 63,
   "metadata": {},
   "outputs": [
    {
     "data": {
      "text/plain": [
       "False"
      ]
     },
     "execution_count": 63,
     "metadata": {},
     "output_type": "execute_result"
    }
   ],
   "source": [
    "other_topic_name =\"/request\"\n",
    "publish_qos = 0\n",
    "msg = \"{ gpio: { pin: 25, state: 0}}\"\n",
    "other_mqtt.publish(other_topic_name, msg, publish_qos)\n"
   ]
  },
  {
   "cell_type": "markdown",
   "metadata": {},
   "source": [
    "## Turn off lamp"
   ]
  },
  {
   "cell_type": "code",
   "execution_count": 64,
   "metadata": {},
   "outputs": [
    {
     "data": {
      "text/plain": [
       "True"
      ]
     },
     "execution_count": 64,
     "metadata": {},
     "output_type": "execute_result"
    }
   ],
   "source": [
    "other_topic_name =\"/request\"\n",
    "publish_qos = 0\n",
    "msg = \"{ gpio: { pin: 25, state: 1}}\"\n",
    "other_mqtt.publish(other_topic_name, msg, publish_qos)\n"
   ]
  },
  {
   "cell_type": "markdown",
   "metadata": {},
   "source": [
    "# Let's subscribe to IoT Button"
   ]
  },
  {
   "cell_type": "code",
   "execution_count": 65,
   "metadata": {},
   "outputs": [
    {
     "data": {
      "text/plain": [
       "True"
      ]
     },
     "execution_count": 65,
     "metadata": {},
     "output_type": "execute_result"
    },
    {
     "name": "stdout",
     "output_type": "stream",
     "text": [
      "\n",
      "Received a new message: \n",
      "\n",
      "{\"serialNumber\": \"G030JF05639203PU\", \"batteryVoltage\": \"1629mV\", \"clickType\": \"SINGLE\"}\n",
      "\n",
      "--------------\n",
      "\n"
     ]
    }
   ],
   "source": [
    "from AWSIoTPythonSDK.MQTTLib import AWSIoTMQTTClient\n",
    "\n",
    "client_id=\"NotebookCient_2{}\".format(HM)\n",
    "other_mqtt = AWSIoTMQTTClient(client_id)\n",
    "other_mqtt.configureEndpoint(other_endpoint_address, 8883)\n",
    "other_mqtt.configureCredentials(other_ca_file, other_private_key, other_certificate_file)\n",
    "other_mqtt.configureConnectDisconnectTimeout(10)\n",
    "other_mqtt.connect()\n",
    "other_mqtt\n",
    "button_topic_name =\"healthcare/button\"\n",
    "\n",
    "subscribe_qos = 1\n",
    "\n",
    "def print_message(client, userdata, message):\n",
    "    print(\"\\nReceived a new message: \\n\")\n",
    "    print(message.payload.decode(\"utf-8\") )\n",
    "    print(\"\\n--------------\\n\")\n",
    "    \n",
    "other_mqtt.subscribe(button_topic_name, subscribe_qos, print_message)"
   ]
  },
  {
   "cell_type": "markdown",
   "metadata": {
    "collapsed": true
   },
   "source": [
    "All working fine, done for now, disconnect."
   ]
  },
  {
   "cell_type": "code",
   "execution_count": 66,
   "metadata": {},
   "outputs": [
    {
     "data": {
      "text/plain": [
       "True"
      ]
     },
     "execution_count": 66,
     "metadata": {},
     "output_type": "execute_result"
    }
   ],
   "source": [
    "other_mqtt.disconnect()\n"
   ]
  },
  {
   "cell_type": "markdown",
   "metadata": {},
   "source": [
    "Now we don't want to loose this data, right?\n",
    "Let's proceed to the [Storing Telemetry Data](aws-iot-storing-telemetry.ipynb) notebook right now!"
   ]
  }
 ],
 "metadata": {
  "kernelspec": {
   "display_name": "Python 3",
   "language": "python",
   "name": "python3"
  },
  "language_info": {
   "codemirror_mode": {
    "name": "ipython",
    "version": 3
   },
   "file_extension": ".py",
   "mimetype": "text/x-python",
   "name": "python",
   "nbconvert_exporter": "python",
   "pygments_lexer": "ipython3",
   "version": "3.6.3"
  }
 },
 "nbformat": 4,
 "nbformat_minor": 2
}
