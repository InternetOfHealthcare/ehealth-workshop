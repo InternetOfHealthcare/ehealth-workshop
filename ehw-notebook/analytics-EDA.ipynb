{
 "cells": [
  {
   "cell_type": "code",
   "execution_count": 1,
   "metadata": {},
   "outputs": [
    {
     "name": "stdout",
     "output_type": "stream",
     "text": [
      "total 29728\r\n",
      "40875098 drwxr-xr-x@ 3 faermanj  ANT\\Domain Users   102B 15 May 11:39 \u001b[34m.\u001b[m\u001b[m\r\n",
      "40875097 drwxr-xr-x@ 5 faermanj  ANT\\Domain Users   170B 15 May 11:39 \u001b[34m..\u001b[m\u001b[m\r\n",
      "40875099 -rwxr-xr-x@ 1 faermanj  ANT\\Domain Users    15M 15 May 09:40 \u001b[31mleading_causes_of_death_by_zip_code_1999_2013.csv\u001b[m\u001b[m\r\n"
     ]
    }
   ],
   "source": [
    "!ls -liah ./data/health-leading-causes-death-zip-99-13/data/"
   ]
  },
  {
   "cell_type": "code",
   "execution_count": 2,
   "metadata": {
    "collapsed": true
   },
   "outputs": [],
   "source": [
    "dataFile = \"./data/health-leading-causes-death-zip-99-13/data/leading_causes_of_death_by_zip_code_1999_2013.csv\""
   ]
  },
  {
   "cell_type": "code",
   "execution_count": 3,
   "metadata": {},
   "outputs": [
    {
     "name": "stdout",
     "output_type": "stream",
     "text": [
      "year,zip_code,causes_of_death,count,location\r",
      "\r\n",
      "1999,90002,SUI,1,POINT (33.94969 -118.246213)\r",
      "\r\n",
      "1999,90005,HOM,1,POINT (34.058508 -118.301197)\r",
      "\r\n",
      "1999,90006,ALZ,1,POINT (34.049323 -118.291687)\r",
      "\r\n",
      "1999,90007,ALZ,1,POINT (34.029442 -118.287095)\r",
      "\r\n",
      "1999,90009,DIA,1,POINT (33.9452 -118.3832)\r",
      "\r\n",
      "1999,90009,LIV,1,POINT (33.9452 -118.3832)\r",
      "\r\n",
      "1999,90009,OTH,1,POINT (33.9452 -118.3832)\r",
      "\r\n",
      "1999,90010,STK,1,POINT (34.060633 -118.302664)\r",
      "\r\n",
      "1999,90010,CLD,1,POINT (34.060633 -118.302664)\r",
      "\r\n"
     ]
    }
   ],
   "source": [
    "!head {dataFile}"
   ]
  },
  {
   "cell_type": "code",
   "execution_count": 4,
   "metadata": {},
   "outputs": [
    {
     "data": {
      "text/plain": [
       "'1526391316'"
      ]
     },
     "execution_count": 4,
     "metadata": {},
     "output_type": "execute_result"
    }
   ],
   "source": [
    "import time\n",
    "seed = str(int(time.time()))\n",
    "seed"
   ]
  },
  {
   "cell_type": "code",
   "execution_count": 5,
   "metadata": {},
   "outputs": [
    {
     "data": {
      "text/plain": [
       "'s3://ehealthdata1526391316'"
      ]
     },
     "execution_count": 5,
     "metadata": {},
     "output_type": "execute_result"
    }
   ],
   "source": [
    "bucketName = \"ehealthdata\" + seed\n",
    "bucketURL = \"s3://\" + bucketName\n",
    "bucketURL"
   ]
  },
  {
   "cell_type": "code",
   "execution_count": 6,
   "metadata": {},
   "outputs": [
    {
     "name": "stdout",
     "output_type": "stream",
     "text": [
      "make_bucket: ehealthdata1526391316\r\n"
     ]
    }
   ],
   "source": [
    "!aws s3 mb {bucketURL}"
   ]
  },
  {
   "cell_type": "code",
   "execution_count": null,
   "metadata": {
    "collapsed": true
   },
   "outputs": [],
   "source": []
  },
  {
   "cell_type": "code",
   "execution_count": 7,
   "metadata": {},
   "outputs": [
    {
     "name": "stdout",
     "output_type": "stream",
     "text": [
      "upload: data/health-leading-causes-death-zip-99-13/data/leading_causes_of_death_by_zip_code_1999_2013.csv to s3://ehealthdata1526391316/leading_causes_of_death_by_zip_code_1999_2013.csv\n"
     ]
    }
   ],
   "source": [
    "!aws s3 cp {dataFile} {bucketURL}"
   ]
  },
  {
   "cell_type": "code",
   "execution_count": 8,
   "metadata": {},
   "outputs": [
    {
     "name": "stdout",
     "output_type": "stream",
     "text": [
      "{\n",
      "  \"Version\": \"2012-10-17\",\n",
      "  \"Statement\": [{\n",
      "    \"Effect\": \"Allow\",\n",
      "    \"Action\": \"s3:*\",\n",
      "    \"Resource\": [\n",
      "        \"arn:aws:s3:::ehealthdata1526391316\",\n",
      "        \"arn:aws:s3:::ehealthdata1526391316/*\"]\n",
      "    }\n",
      "  ]\n",
      "}\n"
     ]
    }
   ],
   "source": [
    "policy_document = '''{{\n",
    "  \"Version\": \"2012-10-17\",\n",
    "  \"Statement\": [{{\n",
    "    \"Effect\": \"Allow\",\n",
    "    \"Action\": \"s3:*\",\n",
    "    \"Resource\": [\n",
    "        \"arn:aws:s3:::{bucketName}\",\n",
    "        \"arn:aws:s3:::{bucketName}/*\"]\n",
    "    }}\n",
    "  ]\n",
    "}}'''\n",
    "policy_document = policy_document.format(bucketName=bucketName)\n",
    "print(policy_document)"
   ]
  },
  {
   "cell_type": "code",
   "execution_count": 9,
   "metadata": {},
   "outputs": [
    {
     "data": {
      "text/plain": [
       "'arn:aws:iam::030555009967:policy/ehealthdata1526391316-policy'"
      ]
     },
     "execution_count": 9,
     "metadata": {},
     "output_type": "execute_result"
    }
   ],
   "source": [
    "policy_name = \"{}-policy\".format(bucketName)\n",
    "policyArn = ! aws iam create-policy \\\n",
    "    --policy-name {policy_name} \\\n",
    "    --policy-document '{policy_document}' \\\n",
    "    --query Policy.Arn \\\n",
    "    --output text\n",
    "policyArn = policyArn.s\n",
    "policyArn"
   ]
  },
  {
   "cell_type": "code",
   "execution_count": 10,
   "metadata": {},
   "outputs": [
    {
     "data": {
      "text/plain": [
       "'arn:aws:iam::030555009967:role/ehealthdata1526391316-role'"
      ]
     },
     "execution_count": 10,
     "metadata": {},
     "output_type": "execute_result"
    }
   ],
   "source": [
    "rolename = \"{}-role\".format(bucketName) \n",
    "role_arn = !aws iam create-role \\\n",
    "    --role-name {rolename} \\\n",
    "    --assume-role-policy-document file://glue-trust.json \\\n",
    "    --query Role.Arn \\\n",
    "    --output text\n",
    "role_arn = role_arn.s\n",
    "role_arn"
   ]
  },
  {
   "cell_type": "code",
   "execution_count": 11,
   "metadata": {},
   "outputs": [],
   "source": [
    "!aws iam attach-role-policy \\\n",
    "    --role-name {rolename} \\\n",
    "    --policy-arn \"arn:aws:iam::aws:policy/service-role/AWSGlueServiceRole\"\n",
    "    \n",
    "!aws iam attach-role-policy \\\n",
    "    --role-name {rolename} \\\n",
    "    --policy-arn {policyArn}\n",
    "time.sleep(5)"
   ]
  },
  {
   "cell_type": "code",
   "execution_count": 12,
   "metadata": {},
   "outputs": [
    {
     "data": {
      "text/plain": [
       "'ehealthdata1526391316-gluedb'"
      ]
     },
     "execution_count": 12,
     "metadata": {},
     "output_type": "execute_result"
    }
   ],
   "source": [
    "database_name = \"{}-gluedb\".format(bucketName) \n",
    "!aws glue create-database \\\n",
    "    --database-input \"Name={database_name}\"\n",
    "database_name"
   ]
  },
  {
   "cell_type": "code",
   "execution_count": 13,
   "metadata": {},
   "outputs": [
    {
     "name": "stdout",
     "output_type": "stream",
     "text": [
      "\n",
      "{\n",
      "  \"S3Targets\": [\n",
      "    {\n",
      "      \"Path\": \"s3://ehealthdata1526391316\"\n",
      "    }\n",
      "  ]\n",
      "}\n",
      "\n"
     ]
    }
   ],
   "source": [
    "targets = '''\n",
    "{{\n",
    "  \"S3Targets\": [\n",
    "    {{\n",
    "      \"Path\": \"{bucketURL}\"\n",
    "    }}\n",
    "  ]\n",
    "}}\n",
    "'''\n",
    "targets = targets.format(bucketURL=bucketURL)\n",
    "print(targets)"
   ]
  },
  {
   "cell_type": "code",
   "execution_count": 14,
   "metadata": {},
   "outputs": [],
   "source": [
    "crawlerName = \"crawler-\"+seed\n",
    "!aws glue create-crawler \\\n",
    "    --name  \"{crawlerName}\" \\\n",
    "    --role '{role_arn}' \\\n",
    "    --database-name \"{database_name}\" \\\n",
    "    --targets '{targets}'"
   ]
  },
  {
   "cell_type": "code",
   "execution_count": 15,
   "metadata": {},
   "outputs": [],
   "source": [
    "!aws glue start-crawler \\\n",
    "    --name \"{crawlerName}\" \n",
    "time.sleep(60)"
   ]
  },
  {
   "cell_type": "code",
   "execution_count": 16,
   "metadata": {},
   "outputs": [
    {
     "name": "stdout",
     "output_type": "stream",
     "text": [
      "\n",
      "SELECT causes_of_death, sum(count) \n",
      "FROM \"ehealthdata1526391316-gluedb\".\"ehealthdata1526391316\"\n",
      "GROUP BY causes_of_death\n",
      "\n"
     ]
    }
   ],
   "source": [
    "tableName = bucketName\n",
    "sql = '''\n",
    "SELECT causes_of_death, sum(count) \n",
    "FROM \"{}\".\"{}\"\n",
    "GROUP BY causes_of_death\n",
    "'''.format(database_name,tableName)\n",
    "print(sql)"
   ]
  },
  {
   "cell_type": "code",
   "execution_count": 17,
   "metadata": {},
   "outputs": [],
   "source": [
    "import boto3\n",
    "\n",
    "athena = boto3.client('athena')"
   ]
  },
  {
   "cell_type": "code",
   "execution_count": 18,
   "metadata": {},
   "outputs": [
    {
     "name": "stdout",
     "output_type": "stream",
     "text": [
      "make_bucket: ehealth-workshop-out-1526391316\r\n"
     ]
    }
   ],
   "source": [
    "outputName = \"ehealth-workshop-out-\" + seed\n",
    "outputURL = \"s3://\" + outputName\n",
    "outputURL\n",
    "\n",
    "!aws s3 mb '{outputURL}'"
   ]
  },
  {
   "cell_type": "code",
   "execution_count": 19,
   "metadata": {},
   "outputs": [],
   "source": [
    "start_query_execution = athena.start_query_execution(\n",
    "    QueryString=sql,\n",
    "    QueryExecutionContext={\n",
    "        'Database': database_name\n",
    "    },\n",
    "    ResultConfiguration={\n",
    "        'OutputLocation': outputURL,        \n",
    "    }\n",
    ")\n",
    "queryId = start_query_execution['QueryExecutionId']\n",
    "queryId\n",
    "time.sleep(5)"
   ]
  },
  {
   "cell_type": "code",
   "execution_count": 20,
   "metadata": {},
   "outputs": [
    {
     "data": {
      "text/plain": [
       "[{'Data': [{'VarCharValue': 'causes_of_death'}, {'VarCharValue': '_col1'}]},\n",
       " {'Data': [{'VarCharValue': 'HYP'}, {'VarCharValue': '41251'}]},\n",
       " {'Data': [{'VarCharValue': 'STK'}, {'VarCharValue': '231897'}]},\n",
       " {'Data': [{'VarCharValue': 'CAN'}, {'VarCharValue': '822906'}]},\n",
       " {'Data': [{'VarCharValue': 'DIA'}, {'VarCharValue': '106960'}]},\n",
       " {'Data': [{'VarCharValue': 'HTD'}, {'VarCharValue': '957108'}]},\n",
       " {'Data': [{'VarCharValue': 'SUI'}, {'VarCharValue': '52572'}]},\n",
       " {'Data': [{'VarCharValue': 'PNF'}, {'VarCharValue': '115926'}]},\n",
       " {'Data': [{'VarCharValue': 'CLD'}, {'VarCharValue': '194961'}]},\n",
       " {'Data': [{'VarCharValue': 'INJ'}, {'VarCharValue': '157313'}]},\n",
       " {'Data': [{'VarCharValue': 'LIV'}, {'VarCharValue': '60526'}]},\n",
       " {'Data': [{'VarCharValue': 'HOM'}, {'VarCharValue': '21336'}]},\n",
       " {'Data': [{'VarCharValue': 'ALZ'}, {'VarCharValue': '111178'}]},\n",
       " {'Data': [{'VarCharValue': 'OTH'}, {'VarCharValue': '637764'}]},\n",
       " {'Data': [{'VarCharValue': 'NEP'}, {'VarCharValue': '14338'}]}]"
      ]
     },
     "execution_count": 20,
     "metadata": {},
     "output_type": "execute_result"
    }
   ],
   "source": [
    "results = athena.get_query_results(\n",
    "    QueryExecutionId=queryId\n",
    ")\n",
    "results['ResultSet']['Rows']"
   ]
  },
  {
   "cell_type": "code",
   "execution_count": null,
   "metadata": {
    "collapsed": true
   },
   "outputs": [],
   "source": []
  }
 ],
 "metadata": {
  "kernelspec": {
   "display_name": "Python 3",
   "language": "python",
   "name": "python3"
  },
  "language_info": {
   "codemirror_mode": {
    "name": "ipython",
    "version": 3
   },
   "file_extension": ".py",
   "mimetype": "text/x-python",
   "name": "python",
   "nbconvert_exporter": "python",
   "pygments_lexer": "ipython3",
   "version": "3.6.1"
  }
 },
 "nbformat": 4,
 "nbformat_minor": 2
}
