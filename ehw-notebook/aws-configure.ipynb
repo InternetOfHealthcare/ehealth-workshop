{
 "cells": [
  {
   "cell_type": "markdown",
   "metadata": {},
   "source": [
    "# AWS Configure"
   ]
  },
  {
   "cell_type": "code",
   "execution_count": 6,
   "metadata": {
    "collapsed": true
   },
   "outputs": [],
   "source": [
    "accessKey=\"\"\n",
    "secretKey=\"\""
   ]
  },
  {
   "cell_type": "code",
   "execution_count": 45,
   "metadata": {
    "collapsed": true
   },
   "outputs": [],
   "source": [
    "region = \"us-east-1\"\n",
    "outfmt = \"json\""
   ]
  },
  {
   "cell_type": "code",
   "execution_count": 47,
   "metadata": {
    "collapsed": true
   },
   "outputs": [],
   "source": [
    "!aws configure set aws_access_key_id \"{accessKey}\"\n",
    "!aws configure set aws_secret_access_key \"{secretKey}\"\n",
    "!aws configure set default.region \"{secretKey}\"\n",
    "!aws configure set default.output \"{outfmt}\"\n"
   ]
  },
  {
   "cell_type": "code",
   "execution_count": 48,
   "metadata": {},
   "outputs": [
    {
     "name": "stdout",
     "output_type": "stream",
     "text": [
      "{\r\n",
      "    \"Regions\": [\r\n",
      "        {\r\n",
      "            \"Endpoint\": \"ec2.ap-south-1.amazonaws.com\",\r\n",
      "            \"RegionName\": \"ap-south-1\"\r\n",
      "        },\r\n",
      "        {\r\n",
      "            \"Endpoint\": \"ec2.eu-west-3.amazonaws.com\",\r\n",
      "            \"RegionName\": \"eu-west-3\"\r\n",
      "        },\r\n",
      "        {\r\n",
      "            \"Endpoint\": \"ec2.eu-west-2.amazonaws.com\",\r\n",
      "            \"RegionName\": \"eu-west-2\"\r\n",
      "        },\r\n",
      "        {\r\n",
      "            \"Endpoint\": \"ec2.eu-west-1.amazonaws.com\",\r\n",
      "            \"RegionName\": \"eu-west-1\"\r\n",
      "        },\r\n",
      "        {\r\n",
      "            \"Endpoint\": \"ec2.ap-northeast-2.amazonaws.com\",\r\n",
      "            \"RegionName\": \"ap-northeast-2\"\r\n",
      "        },\r\n",
      "        {\r\n",
      "            \"Endpoint\": \"ec2.ap-northeast-1.amazonaws.com\",\r\n",
      "            \"RegionName\": \"ap-northeast-1\"\r\n",
      "        },\r\n",
      "        {\r\n",
      "            \"Endpoint\": \"ec2.sa-east-1.amazonaws.com\",\r\n",
      "            \"RegionName\": \"sa-east-1\"\r\n",
      "        },\r\n",
      "        {\r\n",
      "            \"Endpoint\": \"ec2.ca-central-1.amazonaws.com\",\r\n",
      "            \"RegionName\": \"ca-central-1\"\r\n",
      "        },\r\n",
      "        {\r\n",
      "            \"Endpoint\": \"ec2.ap-southeast-1.amazonaws.com\",\r\n",
      "            \"RegionName\": \"ap-southeast-1\"\r\n",
      "        },\r\n",
      "        {\r\n",
      "            \"Endpoint\": \"ec2.ap-southeast-2.amazonaws.com\",\r\n",
      "            \"RegionName\": \"ap-southeast-2\"\r\n",
      "        },\r\n",
      "        {\r\n",
      "            \"Endpoint\": \"ec2.eu-central-1.amazonaws.com\",\r\n",
      "            \"RegionName\": \"eu-central-1\"\r\n",
      "        },\r\n",
      "        {\r\n",
      "            \"Endpoint\": \"ec2.us-east-1.amazonaws.com\",\r\n",
      "            \"RegionName\": \"us-east-1\"\r\n",
      "        },\r\n",
      "        {\r\n",
      "            \"Endpoint\": \"ec2.us-east-2.amazonaws.com\",\r\n",
      "            \"RegionName\": \"us-east-2\"\r\n",
      "        },\r\n",
      "        {\r\n",
      "            \"Endpoint\": \"ec2.us-west-1.amazonaws.com\",\r\n",
      "            \"RegionName\": \"us-west-1\"\r\n",
      "        },\r\n",
      "        {\r\n",
      "            \"Endpoint\": \"ec2.us-west-2.amazonaws.com\",\r\n",
      "            \"RegionName\": \"us-west-2\"\r\n",
      "        }\r\n",
      "    ]\r\n",
      "}\r\n"
     ]
    }
   ],
   "source": [
    "!aws ec2 describe-regions"
   ]
  },
  {
   "cell_type": "code",
   "execution_count": 1,
   "metadata": {
    "collapsed": true
   },
   "outputs": [],
   "source": [
    "from AWSIoTPythonSDK.MQTTLib import AWSIoTMQTTClient\n"
   ]
  },
  {
   "cell_type": "code",
   "execution_count": null,
   "metadata": {
    "collapsed": true
   },
   "outputs": [],
   "source": []
  }
 ],
 "metadata": {
  "kernelspec": {
   "display_name": "Python 3",
   "language": "python",
   "name": "python3"
  },
  "language_info": {
   "codemirror_mode": {
    "name": "ipython",
    "version": 3
   },
   "file_extension": ".py",
   "mimetype": "text/x-python",
   "name": "python",
   "nbconvert_exporter": "python",
   "pygments_lexer": "ipython3",
   "version": "3.5.3"
  }
 },
 "nbformat": 4,
 "nbformat_minor": 2
}
