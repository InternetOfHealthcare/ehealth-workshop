{
 "cells": [
  {
   "cell_type": "markdown",
   "metadata": {},
   "source": [
    "# Part 5: Receiving real data sensor from Bluetooth device\n"
   ]
  },
  {
   "cell_type": "markdown",
   "metadata": {},
   "source": [
    "Now we are going to subscribe our sensors topic to start receiving real data. We are going to use a temporary certificate to access the MQTT topic during this workshop."
   ]
  },
  {
   "cell_type": "markdown",
   "metadata": {},
   "source": [
    "### Let's recover some data and stablish a MQTT connection with our own AWS Account & thing"
   ]
  },
  {
   "cell_type": "code",
   "execution_count": 30,
   "metadata": {},
   "outputs": [
    {
     "data": {
      "text/plain": [
       "<AWSIoTPythonSDK.MQTTLib.AWSIoTMQTTClient at 0x7f49441bac18>"
      ]
     },
     "execution_count": 30,
     "metadata": {},
     "output_type": "execute_result"
    }
   ],
   "source": [
    "#Hour and minute when this started to create unique names\n",
    "%store -r HM\n",
    "#Home directory of the user running this notebook\n",
    "%store -r home\n",
    "#Private key file name, for AWS IoT authentication\n",
    "%store -r private_key\n",
    "#Certificate file name, for AWS IoT authentication\n",
    "%store -r certificate_file\n",
    "#Certificate authority file name, for AWS IoT authentication\n",
    "%store -r ca_file\n",
    "#Address to connect using MQTT\n",
    "%store -r endpoint_address\n",
    "#The name of the topic to send MQTT messages to\n",
    "%store -r topic_name\n",
    "\n",
    "from AWSIoTPythonSDK.MQTTLib import AWSIoTMQTTClient\n",
    "\n",
    "client_id=\"NotebookCient11{}\".format(HM)\n",
    "my_mqtt = AWSIoTMQTTClient(client_id)\n",
    "my_mqtt.configureEndpoint(endpoint_address, 8883)\n",
    "my_mqtt.configureCredentials(ca_file, private_key, certificate_file)\n",
    "my_mqtt.configureConnectDisconnectTimeout(10)\n",
    "my_mqtt.connect()\n",
    "my_mqtt"
   ]
  },
  {
   "cell_type": "code",
   "execution_count": 31,
   "metadata": {},
   "outputs": [
    {
     "name": "stdout",
     "output_type": "stream",
     "text": [
      "Stored 'other_certificate_file' (str)\n",
      "Stored 'other_public_key' (str)\n",
      "Stored 'other_private_key' (str)\n",
      "Stored 'other_ca_file' (str)\n"
     ]
    }
   ],
   "source": [
    "\n",
    "! mkdir -p \"{home}/aws_iot_hub\"\n",
    "\n",
    "other_certificate_file = \"{}/aws_iot_hub/certificate-hub.pem\".format(home)\n",
    "other_public_key = \"{}/aws_iot_hub/public-key-hub.pem\".format(home)\n",
    "other_private_key = \"{}/aws_iot_hub/private-key-hub.pem\".format(home)\n",
    "other_ca_file = \"{}/aws_iot_hub/ca.pem\".format(home)\n",
    "\n",
    "%store other_certificate_file\n",
    "%store other_public_key\n",
    "%store other_private_key\n",
    "%store other_ca_file\n"
   ]
  },
  {
   "cell_type": "code",
   "execution_count": 32,
   "metadata": {},
   "outputs": [
    {
     "name": "stdout",
     "output_type": "stream",
     "text": [
      "--2018-05-22 16:41:30--  https://s3.amazonaws.com/healthcare-workshop/certificate-hub.pem\n",
      "Resolving s3.amazonaws.com (s3.amazonaws.com)... 52.216.97.29\n",
      "Connecting to s3.amazonaws.com (s3.amazonaws.com)|52.216.97.29|:443... connected.\n",
      "HTTP request sent, awaiting response... 200 OK\n",
      "Length: 1220 (1.2K) [application/x-x509-ca-cert]\n",
      "Saving to: ‘/home/ec2-user/aws_iot_hub/certificate-hub.pem’\n",
      "\n",
      "/home/ec2-user/aws_ 100%[===================>]   1.19K  --.-KB/s    in 0s      \n",
      "\n",
      "2018-05-22 16:41:30 (78.0 MB/s) - ‘/home/ec2-user/aws_iot_hub/certificate-hub.pem’ saved [1220/1220]\n",
      "\n",
      "--2018-05-22 16:41:30--  https://s3.amazonaws.com/healthcare-workshop/public-key-hub.pem\n",
      "Resolving s3.amazonaws.com (s3.amazonaws.com)... 52.216.97.29\n",
      "Connecting to s3.amazonaws.com (s3.amazonaws.com)|52.216.97.29|:443... connected.\n",
      "HTTP request sent, awaiting response... 200 OK\n",
      "Length: 451 [application/x-x509-ca-cert]\n",
      "Saving to: ‘/home/ec2-user/aws_iot_hub/public-key-hub.pem’\n",
      "\n",
      "/home/ec2-user/aws_ 100%[===================>]     451  --.-KB/s    in 0s      \n",
      "\n",
      "2018-05-22 16:41:30 (12.9 MB/s) - ‘/home/ec2-user/aws_iot_hub/public-key-hub.pem’ saved [451/451]\n",
      "\n",
      "--2018-05-22 16:41:30--  https://s3.amazonaws.com/healthcare-workshop/private-key-hub.pem\n",
      "Resolving s3.amazonaws.com (s3.amazonaws.com)... 52.216.97.29\n",
      "Connecting to s3.amazonaws.com (s3.amazonaws.com)|52.216.97.29|:443... connected.\n",
      "HTTP request sent, awaiting response... 200 OK\n",
      "Length: 1679 (1.6K) [application/x-x509-ca-cert]\n",
      "Saving to: ‘/home/ec2-user/aws_iot_hub/private-key-hub.pem’\n",
      "\n",
      "/home/ec2-user/aws_ 100%[===================>]   1.64K  --.-KB/s    in 0s      \n",
      "\n",
      "2018-05-22 16:41:30 (114 MB/s) - ‘/home/ec2-user/aws_iot_hub/private-key-hub.pem’ saved [1679/1679]\n",
      "\n",
      "--2018-05-22 16:41:30--  https://www.symantec.com/content/en/us/enterprise/verisign/roots/VeriSign-Class%203-Public-Primary-Certification-Authority-G5.pem\n",
      "Resolving www.symantec.com (www.symantec.com)... 23.196.121.153, 2600:1408:20:397::145b, 2600:1408:20:398::145b\n",
      "Connecting to www.symantec.com (www.symantec.com)|23.196.121.153|:443... connected.\n",
      "HTTP request sent, awaiting response... 200 OK\n",
      "Length: 1758 (1.7K)\n",
      "Saving to: ‘/home/ec2-user/aws_iot_hub/ca.pem’\n",
      "\n",
      "/home/ec2-user/aws_ 100%[===================>]   1.72K  --.-KB/s    in 0s      \n",
      "\n",
      "2018-05-22 16:41:30 (350 MB/s) - ‘/home/ec2-user/aws_iot_hub/ca.pem’ saved [1758/1758]\n",
      "\n"
     ]
    }
   ],
   "source": [
    "! wget https://s3.amazonaws.com/healthcare-workshop/certificate-hub.pem -O {other_certificate_file}\n",
    "! wget https://s3.amazonaws.com/healthcare-workshop/public-key-hub.pem -O {other_public_key}\n",
    "! wget https://s3.amazonaws.com/healthcare-workshop/private-key-hub.pem -O {other_private_key}\n",
    "! wget https://www.symantec.com/content/en/us/enterprise/verisign/roots/VeriSign-Class%203-Public-Primary-Certification-Authority-G5.pem -O {other_ca_file}\n"
   ]
  },
  {
   "cell_type": "markdown",
   "metadata": {},
   "source": [
    "Double check that you have the 4 files required for TLS mutual authentication used by AWS IoT\n",
    "1. Private Key\n",
    "1. Public Key\n",
    "1. Certificate\n",
    "1. Root CA"
   ]
  },
  {
   "cell_type": "code",
   "execution_count": 33,
   "metadata": {},
   "outputs": [
    {
     "name": "stdout",
     "output_type": "stream",
     "text": [
      "Private Key {hub_private_key} not found\n",
      "Public Key {hub_public_key} not found\n",
      "Certificate {hub_certificate_file} not found\n",
      "Certification Authority {hub_ca_file} not found"
     ]
    }
   ],
   "source": [
    "! printf \"Private Key {hub_private_key} \" && [ -f {other_private_key} ] && printf \"found\" || printf \"not found\"\n",
    "! printf \"\\nPublic Key {hub_public_key} \" && [ -f {other_public_key} ] && printf \"found\" || printf \"not found\"\n",
    "! printf \"\\nCertificate {hub_certificate_file} \" && [ -f {other_certificate_file} ] && printf \"found\" || printf \"not found\"\n",
    "! printf \"\\nCertification Authority {hub_ca_file} \" && [ -f {other_ca_file} ] && printf \"found\" || printf \"not found\""
   ]
  },
  {
   "cell_type": "markdown",
   "metadata": {},
   "source": [
    "# Connecting to other AWS IoT Core"
   ]
  },
  {
   "cell_type": "markdown",
   "metadata": {},
   "source": [
    "AWS IoT provides account-specific endpoints for your things to connect. We are using the instructor workshop endpoint at this time:"
   ]
  },
  {
   "cell_type": "markdown",
   "metadata": {
    "collapsed": true
   },
   "source": [
    "Ready to go! Create your MQTT client instance:"
   ]
  },
  {
   "cell_type": "code",
   "execution_count": 34,
   "metadata": {},
   "outputs": [
    {
     "name": "stdout",
     "output_type": "stream",
     "text": [
      "Stored 'other_endpoint_address' (str)\n"
     ]
    },
    {
     "data": {
      "text/plain": [
       "<AWSIoTPythonSDK.MQTTLib.AWSIoTMQTTClient at 0x7f4944199cc0>"
      ]
     },
     "execution_count": 34,
     "metadata": {},
     "output_type": "execute_result"
    }
   ],
   "source": [
    "from AWSIoTPythonSDK.MQTTLib import AWSIoTMQTTClient\n",
    "other_endpoint_address = \"a2enzbgohiblz2.iot.us-east-1.amazonaws.com\"\n",
    "%store other_endpoint_address\n",
    "other_endpoint_address\n",
    "client_id=\"NotebookCient22{}\".format(HM)\n",
    "other_mqtt = AWSIoTMQTTClient(client_id)\n",
    "other_mqtt.configureEndpoint(other_endpoint_address, 8883)\n",
    "other_mqtt.configureCredentials(other_ca_file, other_private_key, other_certificate_file)\n",
    "other_mqtt.configureConnectDisconnectTimeout(10)\n",
    "other_mqtt.connect()\n",
    "other_mqtt"
   ]
  },
  {
   "cell_type": "markdown",
   "metadata": {},
   "source": [
    "# Forward Data from other Thing / IoT Core to your Thing / IoT Core"
   ]
  },
  {
   "cell_type": "code",
   "execution_count": 35,
   "metadata": {},
   "outputs": [
    {
     "name": "stdout",
     "output_type": "stream",
     "text": [
      "Stored 'other_topic_name' (str)\n"
     ]
    },
    {
     "data": {
      "text/plain": [
       "False"
      ]
     },
     "execution_count": 35,
     "metadata": {},
     "output_type": "execute_result"
    },
    {
     "name": "stdout",
     "output_type": "stream",
     "text": [
      "\n",
      "Received a new message: \n",
      "\n",
      "{\n",
      "  \"message\": \"Hello from AWS IoT console\"\n",
      "}\n",
      "\n",
      "--------------\n",
      "\n",
      "\n",
      "Received a new message: \n",
      "\n",
      "{\"name\" : \"ble sensor\", \"id\" : \"b90f168f-cc8d-40c8-99f8-8fdd6e83107e\", \"time_stamp\" : 1.52700736929e+12, \"systolic\" : 124,\"diastolic\" : 87,\"bpm\" : 91}\n",
      "\n",
      "--------------\n",
      "\n"
     ]
    }
   ],
   "source": [
    "other_topic_name =\"healthcare/data\"\n",
    "%store other_topic_name\n",
    "\n",
    "subscribe_qos = 1\n",
    "publish_qos = 0\n",
    "\n",
    "def forward_message(client, userdata, message):\n",
    "    print(\"\\nReceived a new message: \\n\")\n",
    "    print(message.payload.decode(\"utf-8\") )\n",
    "    my_mqtt.publish(topic_name, message.payload.decode(\"utf-8\"), publish_qos)\n",
    "    print(\"\\n--------------\\n\")\n",
    "    \n",
    "other_mqtt.subscribe(other_topic_name, subscribe_qos, forward_message)"
   ]
  },
  {
   "cell_type": "markdown",
   "metadata": {},
   "source": [
    "Now are going to forward the received message from Data Hub to our Thing in our account:"
   ]
  },
  {
   "cell_type": "markdown",
   "metadata": {
    "collapsed": true
   },
   "source": [
    "All working fine, done for now, disconnect."
   ]
  },
  {
   "cell_type": "code",
   "execution_count": 23,
   "metadata": {},
   "outputs": [
    {
     "name": "stderr",
     "output_type": "stream",
     "text": [
      "Disconnect timed out\n"
     ]
    },
    {
     "ename": "disconnectTimeoutException",
     "evalue": "",
     "output_type": "error",
     "traceback": [
      "\u001b[0;31m---------------------------------------------------------------------------\u001b[0m",
      "\u001b[0;31mdisconnectTimeoutException\u001b[0m                Traceback (most recent call last)",
      "\u001b[0;32m<ipython-input-23-ce3155003fde>\u001b[0m in \u001b[0;36m<module>\u001b[0;34m()\u001b[0m\n\u001b[0;32m----> 1\u001b[0;31m \u001b[0mmy_mqtt\u001b[0m\u001b[0;34m.\u001b[0m\u001b[0mdisconnect\u001b[0m\u001b[0;34m(\u001b[0m\u001b[0;34m)\u001b[0m\u001b[0;34m\u001b[0m\u001b[0m\n\u001b[0m\u001b[1;32m      2\u001b[0m \u001b[0mother_mqtt\u001b[0m\u001b[0;34m.\u001b[0m\u001b[0mdisconnect\u001b[0m\u001b[0;34m(\u001b[0m\u001b[0;34m)\u001b[0m\u001b[0;34m\u001b[0m\u001b[0m\n",
      "\u001b[0;32m/usr/local/anaconda/lib/python3.6/site-packages/AWSIoTPythonSDK/MQTTLib.py\u001b[0m in \u001b[0;36mdisconnect\u001b[0;34m(self)\u001b[0m\n\u001b[1;32m    539\u001b[0m \u001b[0;34m\u001b[0m\u001b[0m\n\u001b[1;32m    540\u001b[0m         \"\"\"\n\u001b[0;32m--> 541\u001b[0;31m         \u001b[0;32mreturn\u001b[0m \u001b[0mself\u001b[0m\u001b[0;34m.\u001b[0m\u001b[0m_mqtt_core\u001b[0m\u001b[0;34m.\u001b[0m\u001b[0mdisconnect\u001b[0m\u001b[0;34m(\u001b[0m\u001b[0;34m)\u001b[0m\u001b[0;34m\u001b[0m\u001b[0m\n\u001b[0m\u001b[1;32m    542\u001b[0m \u001b[0;34m\u001b[0m\u001b[0m\n\u001b[1;32m    543\u001b[0m     \u001b[0;32mdef\u001b[0m \u001b[0mdisconnectAsync\u001b[0m\u001b[0;34m(\u001b[0m\u001b[0mself\u001b[0m\u001b[0;34m,\u001b[0m \u001b[0mackCallback\u001b[0m\u001b[0;34m=\u001b[0m\u001b[0;32mNone\u001b[0m\u001b[0;34m)\u001b[0m\u001b[0;34m:\u001b[0m\u001b[0;34m\u001b[0m\u001b[0m\n",
      "\u001b[0;32m/usr/local/anaconda/lib/python3.6/site-packages/AWSIoTPythonSDK/core/protocol/mqtt_core.py\u001b[0m in \u001b[0;36mdisconnect\u001b[0;34m(self)\u001b[0m\n\u001b[1;32m    219\u001b[0m         \u001b[0;32mif\u001b[0m \u001b[0;32mnot\u001b[0m \u001b[0mevent\u001b[0m\u001b[0;34m.\u001b[0m\u001b[0mwait\u001b[0m\u001b[0;34m(\u001b[0m\u001b[0mself\u001b[0m\u001b[0;34m.\u001b[0m\u001b[0m_connect_disconnect_timeout_sec\u001b[0m\u001b[0;34m)\u001b[0m\u001b[0;34m:\u001b[0m\u001b[0;34m\u001b[0m\u001b[0m\n\u001b[1;32m    220\u001b[0m             \u001b[0mself\u001b[0m\u001b[0;34m.\u001b[0m\u001b[0m_logger\u001b[0m\u001b[0;34m.\u001b[0m\u001b[0merror\u001b[0m\u001b[0;34m(\u001b[0m\u001b[0;34m\"Disconnect timed out\"\u001b[0m\u001b[0;34m)\u001b[0m\u001b[0;34m\u001b[0m\u001b[0m\n\u001b[0;32m--> 221\u001b[0;31m             \u001b[0;32mraise\u001b[0m \u001b[0mdisconnectTimeoutException\u001b[0m\u001b[0;34m(\u001b[0m\u001b[0;34m)\u001b[0m\u001b[0;34m\u001b[0m\u001b[0m\n\u001b[0m\u001b[1;32m    222\u001b[0m         \u001b[0;32mif\u001b[0m \u001b[0;32mnot\u001b[0m \u001b[0mself\u001b[0m\u001b[0;34m.\u001b[0m\u001b[0m_event_consumer\u001b[0m\u001b[0;34m.\u001b[0m\u001b[0mwait_until_it_stops\u001b[0m\u001b[0;34m(\u001b[0m\u001b[0mself\u001b[0m\u001b[0;34m.\u001b[0m\u001b[0m_connect_disconnect_timeout_sec\u001b[0m\u001b[0;34m)\u001b[0m\u001b[0;34m:\u001b[0m\u001b[0;34m\u001b[0m\u001b[0m\n\u001b[1;32m    223\u001b[0m             \u001b[0mself\u001b[0m\u001b[0;34m.\u001b[0m\u001b[0m_logger\u001b[0m\u001b[0;34m.\u001b[0m\u001b[0merror\u001b[0m\u001b[0;34m(\u001b[0m\u001b[0;34m\"Disconnect timed out in waiting for event consumer\"\u001b[0m\u001b[0;34m)\u001b[0m\u001b[0;34m\u001b[0m\u001b[0m\n",
      "\u001b[0;31mdisconnectTimeoutException\u001b[0m: "
     ]
    }
   ],
   "source": [
    "my_mqtt.disconnect()\n",
    "other_mqtt.disconnect()\n"
   ]
  },
  {
   "cell_type": "markdown",
   "metadata": {},
   "source": [
    "Now let's create a modern voice interface using [Alexa Nursing Skill](aws-nursing-skill.ipynb)."
   ]
  },
  {
   "cell_type": "code",
   "execution_count": null,
   "metadata": {
    "collapsed": true
   },
   "outputs": [],
   "source": []
  }
 ],
 "metadata": {
  "kernelspec": {
   "display_name": "Python 3",
   "language": "python",
   "name": "python3"
  },
  "language_info": {
   "codemirror_mode": {
    "name": "ipython",
    "version": 3
   },
   "file_extension": ".py",
   "mimetype": "text/x-python",
   "name": "python",
   "nbconvert_exporter": "python",
   "pygments_lexer": "ipython3",
   "version": "3.6.3"
  }
 },
 "nbformat": 4,
 "nbformat_minor": 2
}
