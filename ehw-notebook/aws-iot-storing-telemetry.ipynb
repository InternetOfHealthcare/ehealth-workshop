{
 "cells": [
  {
   "cell_type": "markdown",
   "metadata": {},
   "source": [
    "# Storing Teletry"
   ]
  },
  {
   "cell_type": "markdown",
   "metadata": {},
   "source": [
    "Recover data from the previous steps, make sure you've been through them."
   ]
  },
  {
   "cell_type": "code",
   "execution_count": null,
   "metadata": {},
   "outputs": [],
   "source": [
    "%store -r HM\n",
    "%store -r endpoint_address \n",
    "%store -r home \n",
    "%store -r ca_file \n",
    "%store -r private_key \n",
    "%store -r certificate_file\n",
    "%store -r payload\n",
    "%store -r topic_name\n",
    "%store -r payloads"
   ]
  },
  {
   "cell_type": "markdown",
   "metadata": {},
   "source": [
    "Create a table"
   ]
  },
  {
   "cell_type": "code",
   "execution_count": null,
   "metadata": {},
   "outputs": [],
   "source": [
    "table_name = f\"bloodpressure{HM}\"\n",
    "table_name"
   ]
  },
  {
   "cell_type": "code",
   "execution_count": null,
   "metadata": {},
   "outputs": [],
   "source": [
    "!echo Creating table \"{table_name}\" this takes a few seconds\n",
    "table_arn = !aws dynamodb create-table \\\n",
    "  --table-name {table_name} \\\n",
    "  --attribute-definitions \\\n",
    "    AttributeName=name,AttributeType=S \\\n",
    "    AttributeName=time_stamp,AttributeType=N \\\n",
    "  --key-schema AttributeName=name,KeyType=HASH AttributeName=time_stamp,KeyType=RANGE \\\n",
    "  --provisioned-throughput ReadCapacityUnits=1,WriteCapacityUnits=1 \\\n",
    "  --query TableDescription.TableArn \\\n",
    "  --output text\n",
    "table_arn = table_arn.s\n",
    "!aws dynamodb wait table-exists --table-name {table_name}\n",
    "!echo Table created \"{table_arn}\""
   ]
  },
  {
   "cell_type": "code",
   "execution_count": null,
   "metadata": {},
   "outputs": [],
   "source": [
    "print(open('iot-trust.json').read())"
   ]
  },
  {
   "cell_type": "code",
   "execution_count": null,
   "metadata": {},
   "outputs": [],
   "source": [
    "role_name = f\"bp2dynamodb_role{HM}\"\n",
    "rule_role_arn = !aws iam create-role \\\n",
    "    --role-name {role_name} \\\n",
    "    --assume-role-policy-document file://iot-trust.json \\\n",
    "    --query Role.Arn \\\n",
    "    --output text\n",
    "rule_role_arn = rule_role_arn.s\n",
    "rule_role_arn"
   ]
  },
  {
   "cell_type": "code",
   "execution_count": null,
   "metadata": {
    "collapsed": true
   },
   "outputs": [],
   "source": [
    "import json"
   ]
  },
  {
   "cell_type": "code",
   "execution_count": null,
   "metadata": {},
   "outputs": [],
   "source": [
    "rule_policy = {\n",
    "    \"Version\": \"2012-10-17\",\n",
    "    \"Statement\": {\n",
    "        \"Effect\": \"Allow\",\n",
    "        \"Action\": \"dynamodb:PutItem\",\n",
    "        \"Resource\": table_arn\n",
    "    }\n",
    "}\n",
    "rule_policy = json.dumps(rule_policy)\n",
    "rule_policy"
   ]
  },
  {
   "cell_type": "code",
   "execution_count": null,
   "metadata": {},
   "outputs": [],
   "source": [
    "policy_name=f\"bp2dynamodb_rule_policy{HM}\"\n",
    "policy_arn = !aws iam create-policy \\\n",
    "  --policy-name '{policy_name}' \\\n",
    "  --policy-document '{rule_policy}' \\\n",
    "  --query Policy.Arn \\\n",
    "  --output text\n",
    "policy_arn = policy_arn.s\n",
    "policy_arn"
   ]
  },
  {
   "cell_type": "code",
   "execution_count": null,
   "metadata": {
    "collapsed": true
   },
   "outputs": [],
   "source": [
    "!aws iam attach-role-policy \\\n",
    "    --role-name {role_name} \\\n",
    "    --policy-arn {policy_arn}"
   ]
  },
  {
   "cell_type": "code",
   "execution_count": null,
   "metadata": {},
   "outputs": [],
   "source": [
    "sql = f\"\"\"\n",
    "SELECT name, \n",
    "    time_stamp, \n",
    "    sistolic, \n",
    "    diastolic, \n",
    "    id, \n",
    "    timestamp() as recv_stamp \n",
    "FROM '{topic_name}'\n",
    "\"\"\"\n",
    "rule = {\n",
    "    \"ruleDisabled\": False,\n",
    "    \"sql\": sql,\n",
    "    \"description\": \"Send blood preasure measurements to DynamoDB\",\n",
    "    \"actions\": [{\n",
    "        \"dynamoDBv2\": {\n",
    "            \"roleArn\": rule_role_arn,\n",
    "            \"putItem\": {\n",
    "                \"tableName\": table_name\n",
    "            }\n",
    "        }\n",
    "    }]\n",
    "}\n",
    "rule = json.dumps(rule)\n",
    "rule"
   ]
  },
  {
   "cell_type": "code",
   "execution_count": null,
   "metadata": {},
   "outputs": [],
   "source": [
    "rule_file=f\"{home}/rule.json\" \n",
    "with open(rule_file, \"w\") as f:\n",
    "    f.write(rule)\n",
    "rule_file"
   ]
  },
  {
   "cell_type": "code",
   "execution_count": null,
   "metadata": {},
   "outputs": [],
   "source": [
    "print(open(rule_file).read())"
   ]
  },
  {
   "cell_type": "code",
   "execution_count": null,
   "metadata": {},
   "outputs": [],
   "source": [
    "rule_name=f\"bprule{HM}\" \n",
    "!aws iot create-topic-rule \\\n",
    "  --rule-name '{rule_name}' \\\n",
    "  --topic-rule-payload file://{rule_file}"
   ]
  },
  {
   "cell_type": "code",
   "execution_count": null,
   "metadata": {},
   "outputs": [],
   "source": [
    "from AWSIoTPythonSDK.MQTTLib import AWSIoTMQTTClient\n",
    "\n",
    "client_id=f\"NotebookCient{HM}\"\n",
    "mqtt = AWSIoTMQTTClient(client_id)\n",
    "mqtt.configureEndpoint(endpoint_address, 8883)\n",
    "mqtt.configureCredentials(ca_file, private_key, certificate_file)\n",
    "mqtt.configureConnectDisconnectTimeout(10)\n",
    "mqtt.connect()\n",
    "mqtt"
   ]
  },
  {
   "cell_type": "code",
   "execution_count": null,
   "metadata": {},
   "outputs": [],
   "source": [
    "import random\n",
    "payload = random.choice(payloads)\n",
    "print(payload)\n",
    "mqtt.publish(topic_name, payload , QoS = 0)"
   ]
  },
  {
   "cell_type": "code",
   "execution_count": null,
   "metadata": {},
   "outputs": [],
   "source": [
    "mqtt.disconnect()  "
   ]
  }
 ],
 "metadata": {
  "kernelspec": {
   "display_name": "Python 3",
   "language": "python",
   "name": "python3"
  },
  "language_info": {
   "codemirror_mode": {
    "name": "ipython",
    "version": 3
   },
   "file_extension": ".py",
   "mimetype": "text/x-python",
   "name": "python",
   "nbconvert_exporter": "python",
   "pygments_lexer": "ipython3",
   "version": "3.6.1"
  }
 },
 "nbformat": 4,
 "nbformat_minor": 2
}
