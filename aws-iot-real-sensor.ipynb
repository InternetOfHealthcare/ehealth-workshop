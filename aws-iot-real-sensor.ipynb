{
 "cells": [
  {
   "cell_type": "markdown",
   "metadata": {},
   "source": [
    "# Part 5: Receiving real data sensor from Bluetooth device\n"
   ]
  },
  {
   "cell_type": "markdown",
   "metadata": {},
   "source": [
    "Now we are going to subscribe our sensors topic to start receiving real data. We are going to use a temporary certificate to access the MQTT topic during this workshop."
   ]
  },
  {
   "cell_type": "markdown",
   "metadata": {},
   "source": [
    "### Let's recover some data and stablish a MQTT connection with our own AWS Account & thing"
   ]
  },
  {
   "cell_type": "code",
   "execution_count": null,
   "metadata": {},
   "outputs": [],
   "source": [
    "#Hour and minute when this started to create unique names\n",
    "%store -r HM\n",
    "#Home directory of the user running this notebook\n",
    "%store -r home\n",
    "#Private key file name, for AWS IoT authentication\n",
    "%store -r private_key\n",
    "#Certificate file name, for AWS IoT authentication\n",
    "%store -r certificate_file\n",
    "#Certificate authority file name, for AWS IoT authentication\n",
    "%store -r ca_file\n",
    "#Address to connect using MQTT\n",
    "%store -r endpoint_address\n",
    "#The name of the topic to send MQTT messages to\n",
    "%store -r topic_name\n",
    "\n",
    "from AWSIoTPythonSDK.MQTTLib import AWSIoTMQTTClient\n",
    "\n",
    "client_id=\"NotebookCient11{}\".format(HM)\n",
    "my_mqtt = AWSIoTMQTTClient(client_id)\n",
    "my_mqtt.configureEndpoint(endpoint_address, 8883)\n",
    "my_mqtt.configureCredentials(ca_file, private_key, certificate_file)\n",
    "my_mqtt.configureConnectDisconnectTimeout(10)\n",
    "my_mqtt.connect()\n",
    "my_mqtt"
   ]
  },
  {
   "cell_type": "code",
   "execution_count": null,
   "metadata": {},
   "outputs": [],
   "source": [
    "\n",
    "! mkdir -p \"{home}/aws_iot_hub\"\n",
    "\n",
    "other_certificate_file = \"{}/aws_iot_hub/certificate-hub.pem\".format(home)\n",
    "other_public_key = \"{}/aws_iot_hub/public-key-hub.pem\".format(home)\n",
    "other_private_key = \"{}/aws_iot_hub/private-key-hub.pem\".format(home)\n",
    "other_ca_file = \"{}/aws_iot_hub/ca.pem\".format(home)\n",
    "\n",
    "%store other_certificate_file\n",
    "%store other_public_key\n",
    "%store other_private_key\n",
    "%store other_ca_file\n"
   ]
  },
  {
   "cell_type": "code",
   "execution_count": null,
   "metadata": {},
   "outputs": [],
   "source": [
    "! wget https://s3.amazonaws.com/healthcare-workshop/certificate-hub.pem -O {other_certificate_file}\n",
    "! wget https://s3.amazonaws.com/healthcare-workshop/public-key-hub.pem -O {other_public_key}\n",
    "! wget https://s3.amazonaws.com/healthcare-workshop/private-key-hub.pem -O {other_private_key}\n",
    "! wget https://www.symantec.com/content/en/us/enterprise/verisign/roots/VeriSign-Class%203-Public-Primary-Certification-Authority-G5.pem -O {other_ca_file}\n"
   ]
  },
  {
   "cell_type": "markdown",
   "metadata": {},
   "source": [
    "Double check that you have the 4 files required for TLS mutual authentication used by AWS IoT\n",
    "1. Private Key\n",
    "1. Public Key\n",
    "1. Certificate\n",
    "1. Root CA"
   ]
  },
  {
   "cell_type": "code",
   "execution_count": null,
   "metadata": {},
   "outputs": [],
   "source": [
    "! printf \"Private Key {other_private_key} \" && [ -f {other_private_key} ] && printf \"found\" || printf \"not found\"\n",
    "! printf \"\\nPublic Key {other_public_key} \" && [ -f {other_public_key} ] && printf \"found\" || printf \"not found\"\n",
    "! printf \"\\nCertificate {other_certificate_file} \" && [ -f {other_certificate_file} ] && printf \"found\" || printf \"not found\"\n",
    "! printf \"\\nCertification Authority {other_ca_file} \" && [ -f {other_ca_file} ] && printf \"found\" || printf \"not found\""
   ]
  },
  {
   "cell_type": "markdown",
   "metadata": {},
   "source": [
    "# Connecting to other AWS IoT Core"
   ]
  },
  {
   "cell_type": "markdown",
   "metadata": {},
   "source": [
    "AWS IoT provides account-specific endpoints for your things to connect. We are using the instructor workshop endpoint at this time:"
   ]
  },
  {
   "cell_type": "markdown",
   "metadata": {
    "collapsed": true
   },
   "source": [
    "Ready to go! Create your MQTT client instance:"
   ]
  },
  {
   "cell_type": "code",
   "execution_count": null,
   "metadata": {},
   "outputs": [],
   "source": [
    "from AWSIoTPythonSDK.MQTTLib import AWSIoTMQTTClient\n",
    "other_endpoint_address = \"a2enzbgohiblz2.iot.us-east-1.amazonaws.com\"\n",
    "%store other_endpoint_address\n",
    "other_endpoint_address\n",
    "client_id=\"NotebookCient22{}\".format(HM)\n",
    "other_mqtt = AWSIoTMQTTClient(client_id)\n",
    "other_mqtt.configureEndpoint(other_endpoint_address, 8883)\n",
    "other_mqtt.configureCredentials(other_ca_file, other_private_key, other_certificate_file)\n",
    "other_mqtt.configureConnectDisconnectTimeout(10)\n",
    "other_mqtt.connect()\n",
    "other_mqtt"
   ]
  },
  {
   "cell_type": "markdown",
   "metadata": {},
   "source": [
    "# Forward Data from other Thing / IoT Core to your Thing / IoT Core"
   ]
  },
  {
   "cell_type": "code",
   "execution_count": null,
   "metadata": {},
   "outputs": [],
   "source": [
    "other_topic_name =\"healthcare/data\"\n",
    "%store other_topic_name\n",
    "\n",
    "subscribe_qos = 1\n",
    "publish_qos = 0\n",
    "\n",
    "def forward_message(client, userdata, message):\n",
    "    print(\"\\nReceived a new message: \\n\")\n",
    "    print(message.payload.decode(\"utf-8\") )\n",
    "    my_mqtt.publish(topic_name, message.payload.decode(\"utf-8\"), publish_qos)\n",
    "    print(\"\\n--------------\\n\")\n",
    "    \n",
    "other_mqtt.subscribe(other_topic_name, subscribe_qos, forward_message)"
   ]
  },
  {
   "cell_type": "markdown",
   "metadata": {},
   "source": [
    "Now are going to forward the received message from Data Hub to our Thing in our account:"
   ]
  },
  {
   "cell_type": "markdown",
   "metadata": {
    "collapsed": true
   },
   "source": [
    "All working fine, done for now, disconnect."
   ]
  },
  {
   "cell_type": "code",
   "execution_count": null,
   "metadata": {},
   "outputs": [],
   "source": [
    "my_mqtt.disconnect()\n",
    "other_mqtt.disconnect()\n"
   ]
  },
  {
   "cell_type": "markdown",
   "metadata": {},
   "source": [
    "Now let's create a modern voice interface using [Alexa Nursing Skill](https://github.com/InternetOfHealthcare/aws-nursingskill)."
   ]
  },
  {
   "cell_type": "code",
   "execution_count": null,
   "metadata": {
    "collapsed": true
   },
   "outputs": [],
   "source": []
  }
 ],
 "metadata": {
  "kernelspec": {
   "display_name": "Python 3",
   "language": "python",
   "name": "python3"
  },
  "language_info": {
   "codemirror_mode": {
    "name": "ipython",
    "version": 3
   },
   "file_extension": ".py",
   "mimetype": "text/x-python",
   "name": "python",
   "nbconvert_exporter": "python",
   "pygments_lexer": "ipython3",
   "version": "3.6.3"
  }
 },
 "nbformat": 4,
 "nbformat_minor": 2
}
