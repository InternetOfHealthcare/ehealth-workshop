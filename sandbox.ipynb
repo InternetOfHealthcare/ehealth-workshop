{
 "cells": [
  {
   "cell_type": "code",
   "execution_count": 5,
   "metadata": {
    "collapsed": true
   },
   "outputs": [],
   "source": [
    "store -r HM"
   ]
  },
  {
   "cell_type": "code",
   "execution_count": 1,
   "metadata": {},
   "outputs": [
    {
     "data": {
      "text/plain": [
       "'ehw_data_00d94ae2-57ff-4142-b9f0-12ccf9a1d942'"
      ]
     },
     "execution_count": 1,
     "metadata": {},
     "output_type": "execute_result"
    }
   ],
   "source": [
    "import uuid\n",
    "uuid = uuid.uuid4()\n",
    "bucket_name = \"ehw_data_{}\".format(uuid)\n",
    "bucket_name"
   ]
  },
  {
   "cell_type": "code",
   "execution_count": 2,
   "metadata": {},
   "outputs": [
    {
     "name": "stdout",
     "output_type": "stream",
     "text": [
      "make_bucket: ehw_data_00d94ae2-57ff-4142-b9f0-12ccf9a1d942\r\n"
     ]
    }
   ],
   "source": [
    "!aws s3 mb s3://{bucket_name}"
   ]
  },
  {
   "cell_type": "code",
   "execution_count": 3,
   "metadata": {},
   "outputs": [
    {
     "data": {
      "text/plain": [
       "'{\"Statement\": [{\"Effect\": \"Allow\", \"Resource\": \"*\", \"Action\": \"s3:*\"}], \"Version\": \"2012-10-17\"}'"
      ]
     },
     "execution_count": 3,
     "metadata": {},
     "output_type": "execute_result"
    }
   ],
   "source": [
    "import json\n",
    "rule_policy = {\n",
    "    \"Version\": \"2012-10-17\",\n",
    "    \"Statement\": [{\n",
    "        \"Effect\": \"Allow\",\n",
    "        \"Action\": \"s3:*\",\n",
    "        \"Resource\": \"*\"\n",
    "    }]\n",
    "}\n",
    "rule_policy = json.dumps(rule_policy)\n",
    "rule_policy"
   ]
  },
  {
   "cell_type": "code",
   "execution_count": 10,
   "metadata": {},
   "outputs": [
    {
     "data": {
      "text/plain": [
       "' An error occurred (EntityAlreadyExists) when calling the CreateRole operation: Role with name bp2s3_role1031 already exists.'"
      ]
     },
     "execution_count": 10,
     "metadata": {},
     "output_type": "execute_result"
    }
   ],
   "source": [
    "role_name = \"bp2s3_role{}\".format(HM) \n",
    "rule_role_arn = !aws iam create-role \\\n",
    "    --role-name {role_name} \\\n",
    "    --assume-role-policy-document file://iot-trust.json \\\n",
    "    --query Role.Arn \\\n",
    "    --output text\n",
    "rule_role_arn = rule_role_arn.s\n",
    "rule_role_arn"
   ]
  },
  {
   "cell_type": "code",
   "execution_count": 8,
   "metadata": {},
   "outputs": [
    {
     "name": "stdout",
     "output_type": "stream",
     "text": [
      "\r\n",
      "Parameter validation failed:\r\n",
      "Invalid length for parameter PolicyArn, value: 12, valid range: 20-inf\r\n"
     ]
    }
   ],
   "source": [
    "!aws iam attach-role-policy \\\n",
    "    --role-name {role_name} \\\n",
    "    --policy-arn {policy_arn}"
   ]
  },
  {
   "cell_type": "code",
   "execution_count": 9,
   "metadata": {},
   "outputs": [
    {
     "name": "stdout",
     "output_type": "stream",
     "text": [
      "\r\n",
      "Parameter validation failed:\r\n",
      "Invalid length for parameter PolicyArn, value: 12, valid range: 20-inf\r\n"
     ]
    }
   ],
   "source": [
    "!aws iam attach-role-policy \\\n",
    "    --role-name {role_name} \\\n",
    "    --policy-arn {policy_arn}"
   ]
  },
  {
   "cell_type": "code",
   "execution_count": null,
   "metadata": {
    "collapsed": true
   },
   "outputs": [],
   "source": []
  },
  {
   "cell_type": "code",
   "execution_count": 11,
   "metadata": {},
   "outputs": [
    {
     "ename": "NameError",
     "evalue": "name 'sql' is not defined",
     "output_type": "error",
     "traceback": [
      "\u001b[0;31m---------------------------------------------------------------------------\u001b[0m",
      "\u001b[0;31mNameError\u001b[0m                                 Traceback (most recent call last)",
      "\u001b[0;32m<ipython-input-11-3015542ed185>\u001b[0m in \u001b[0;36m<module>\u001b[0;34m()\u001b[0m\n\u001b[1;32m      1\u001b[0m rule = {\n\u001b[0;32m----> 2\u001b[0;31m         \u001b[0;34m\"sql\"\u001b[0m\u001b[0;34m:\u001b[0m \u001b[0msql\u001b[0m\u001b[0;34m,\u001b[0m\u001b[0;34m\u001b[0m\u001b[0m\n\u001b[0m\u001b[1;32m      3\u001b[0m         \u001b[0;34m\"ruleDisabled\"\u001b[0m\u001b[0;34m:\u001b[0m \u001b[0;32mFalse\u001b[0m\u001b[0;34m,\u001b[0m\u001b[0;34m\u001b[0m\u001b[0m\n\u001b[1;32m      4\u001b[0m         \"actions\": [{\n\u001b[1;32m      5\u001b[0m             \"s3\": {\n",
      "\u001b[0;31mNameError\u001b[0m: name 'sql' is not defined"
     ]
    }
   ],
   "source": [
    "rule = {\n",
    "        \"sql\": sql, \n",
    "        \"ruleDisabled\": False, \n",
    "        \"actions\": [{\n",
    "            \"s3\": {\n",
    "                \"roleArn\": rule_role_arn, \n",
    "                \"bucketName\": bucket_name, \n",
    "                \"key\": \"${topic()}/${timestamp()}\"\n",
    "            }\n",
    "        }]\n",
    "    }\n",
    "rule = json.dumps(rule)\n",
    "rule_file=\"{}/rule.json\".format(home)\n",
    "with open(rule_file, \"w\") as f:\n",
    "    f.write(rule)\n",
    "rule_file"
   ]
  },
  {
   "cell_type": "code",
   "execution_count": null,
   "metadata": {
    "collapsed": true
   },
   "outputs": [],
   "source": []
  }
 ],
 "metadata": {
  "kernelspec": {
   "display_name": "Python 3",
   "language": "python",
   "name": "python3"
  },
  "language_info": {
   "codemirror_mode": {
    "name": "ipython",
    "version": 3
   },
   "file_extension": ".py",
   "mimetype": "text/x-python",
   "name": "python",
   "nbconvert_exporter": "python",
   "pygments_lexer": "ipython3",
   "version": "3.5.3"
  }
 },
 "nbformat": 4,
 "nbformat_minor": 2
}
